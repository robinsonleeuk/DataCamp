{
 "cells": [
  {
   "cell_type": "markdown",
   "metadata": {},
   "source": [
    "# Dictionaries and Pandas\n",
    "## Table of Contents\n",
    "<a href=\"#Importing-modules-and-defining-functions\"<p style=\"text-decoration: none;\"></span></span>Importing modules and defining functions</a></div>\n",
    "\n",
    "<a href=\"#Dictionaries,-Part-1\"</span>01. </span>Dictionaries, Part 1</a></div>\n",
    "\n",
    "<a href=\"#Motivation-for-dictionaries\"<p style=\"text-decoration: none;\"></span>&nbsp;&nbsp;&nbsp;1a. </span>Motivation for dictionaries</a></div>\n",
    "\n",
    "<a href=\"#Create-dictionary\"<p style=\"text-decoration: none;\"></span>&nbsp;&nbsp;&nbsp;1b. </span>Create dictionary</a></div>\n",
    "\n",
    "<a href=\"#Access-dictionary\"<p style=\"text-decoration: none;\"></span>&nbsp;&nbsp;&nbsp;1c. </span>Access dictionary</a></div>\n",
    "\n",
    "<a href=\"#Dictionaries,-Part-2\"</span>02. </span>Dictionaries, Part 2</a></div>\n",
    "\n",
    "<a href=\"#Dictionary-Manipulation-(1)\"<p style=\"text-decoration: none;\"></span>&nbsp;&nbsp;&nbsp;2a. </span>Dictionary Manipulation (1)</a></div>\n",
    "\n",
    "<a href=\"#Dictionary-Manipulation-(2)\"<p style=\"text-decoration: none;\"></span>&nbsp;&nbsp;&nbsp;2b. </span>Dictionary Manipulation (2)</a></div>\n",
    "\n",
    "<a href=\"#Dictionariception\"<p style=\"text-decoration: none;\"></span>&nbsp;&nbsp;&nbsp;2c. </span>Dictionariception</a></div>\n",
    "\n",
    "<a href=\"#Pandas,-Part-1\"</span>03. </span>Pandas, Part 1</a></div>\n",
    "\n",
    "<a href=\"#Dictionary-to-DataFrame-(1)\"<p style=\"text-decoration: none;\"></span>&nbsp;&nbsp;&nbsp;3a. </span>Dictionary to DataFrame (1)</a></div>\n",
    "\n",
    "<a href=\"#Dictionary-to-DataFrame-(2)\"<p style=\"text-decoration: none;\"></span>&nbsp;&nbsp;&nbsp;3b. </span>Dictionary to DataFrame (2)</a></div>\n",
    "\n",
    "<a href=\"#CSV-to-DataFrame-(1)\"<p style=\"text-decoration: none;\"></span>&nbsp;&nbsp;&nbsp;3c. </span>CSV to DataFrame (1)</a></div>\n",
    "\n",
    "<a href=\"#CSV-to-DataFrame-(2)\"<p style=\"text-decoration: none;\"></span>&nbsp;&nbsp;&nbsp;3d. </span>CSV to DataFrame (2)</a></div>\n",
    "\n",
    "<a href=\"#Pandas,-Part-2\"</span>04. </span>Pandas, Part 2</a></div>\n",
    "\n",
    "<a href=\"#Square-Brackets-(1)\"<p style=\"text-decoration: none;\"></span>&nbsp;&nbsp;&nbsp;4a. </span>Square Brackets (1)</a></div>\n",
    "\n",
    "<a href=\"#Square-Brackets-(2)\"<p style=\"text-decoration: none;\"></span>&nbsp;&nbsp;&nbsp;4b. </span>Square Brackets (2)</a></div>\n",
    "\n",
    "<a href=\"#loc-and-iloc-(1)\"<p style=\"text-decoration: none;\"></span>&nbsp;&nbsp;&nbsp;4c. </span>loc and iloc (1)</a></div>\n",
    "\n",
    "<a href=\"#loc-and-iloc-(2)\"<p style=\"text-decoration: none;\"></span>&nbsp;&nbsp;&nbsp;4d. </span>loc and iloc (2)</a></div>\n",
    "\n",
    "<a href=\"#loc-and-iloc-(3)\"<p style=\"text-decoration: none;\"></span>&nbsp;&nbsp;&nbsp;4e. </span>loc and iloc (3)</a></div>\n",
    "\n",
    "<a href=\"#Appendix:-Methods\"<p style=\"text-decoration: none;\"></span></span>Appendix: Methods</a></div>"
   ]
  },
  {
   "cell_type": "markdown",
   "metadata": {},
   "source": [
    "# Importing modules and defining functions"
   ]
  },
  {
   "cell_type": "code",
   "execution_count": 2,
   "metadata": {
    "collapsed": true
   },
   "outputs": [],
   "source": [
    "import matplotlib.pyplot as plt\n",
    "import matplotlib.style as style\n",
    "import numpy as np\n",
    "import pandas as pd"
   ]
  },
  {
   "cell_type": "markdown",
   "metadata": {
    "collapsed": true
   },
   "source": [
    "# Dictionaries, Part 1"
   ]
  },
  {
   "cell_type": "markdown",
   "metadata": {},
   "source": [
    "## Motivation for dictionaries\n",
    "\n",
    "To see why dictionaries are useful, have a look at the two lists defined on the right. countries contains the names of some European countries. capitals lists the corresponding names of their capital.\n",
    "\n",
    "* [list.index](https://docs.python.org/3/library/stdtypes.html#common-sequence-operations)"
   ]
  },
  {
   "cell_type": "code",
   "execution_count": 2,
   "metadata": {},
   "outputs": [
    {
     "name": "stdout",
     "output_type": "stream",
     "text": [
      "berlin\n"
     ]
    }
   ],
   "source": [
    "# Definition of countries and capital\n",
    "countries = ['spain', 'france', 'germany', 'norway']\n",
    "capitals = ['madrid', 'paris', 'berlin', 'oslo']\n",
    "\n",
    "# Get index of 'germany': ind_ger\n",
    "ind_ger = countries.index('germany')\n",
    "\n",
    "# Use ind_ger to print out capital of Germany\n",
    "print(capitals[ind_ger])"
   ]
  },
  {
   "cell_type": "markdown",
   "metadata": {},
   "source": [
    "## Create dictionary\n",
    "\n",
    "The countries and capitals lists are again available in the script. It's your job to convert this data to a dictionary where the country names are the keys and the capitals are the corresponding values. As a refresher, here is a recipe for creating a dictionary:\n",
    "\n",
    "my_dict = {\n",
    "   \"key1\":\"value1\",\n",
    "   \"key2\":\"value2\",\n",
    "}\n",
    "\n",
    "In this recipe, both the keys and the values are strings. This will also be the case for this exercise."
   ]
  },
  {
   "cell_type": "code",
   "execution_count": 4,
   "metadata": {},
   "outputs": [
    {
     "name": "stdout",
     "output_type": "stream",
     "text": [
      "{'spain': 'madrid', 'france': 'paris', 'germany': 'berlin', 'norway': 'oslo'}\n"
     ]
    }
   ],
   "source": [
    "# Definition of countries and capital\n",
    "countries = ['spain', 'france', 'germany', 'norway']\n",
    "capitals = ['madrid', 'paris', 'berlin', 'oslo']\n",
    "\n",
    "# From string in countries and capitals, create dictionary europe\n",
    "europe = {'spain':'madrid', 'france':'paris', 'germany':'berlin', 'norway':'oslo'}\n",
    "\n",
    "# Print europe\n",
    "print(europe)"
   ]
  },
  {
   "cell_type": "markdown",
   "metadata": {},
   "source": [
    "## Access dictionary\n",
    "\n",
    "If the keys of a dictionary are chosen wisely, accessing the values in a dictionary is easy and intuitive. For example, to get the capital for France from europe you can use:\n",
    "\n",
    "europe['france']\n",
    "\n",
    "Here, 'france' is the key and 'paris' the value is returned.\n",
    "\n",
    "* [dict.keys](https://docs.python.org/3/library/stdtypes.html#dict.keys)"
   ]
  },
  {
   "cell_type": "code",
   "execution_count": 5,
   "metadata": {},
   "outputs": [
    {
     "name": "stdout",
     "output_type": "stream",
     "text": [
      "dict_keys(['spain', 'france', 'germany', 'norway'])\n",
      "oslo\n"
     ]
    }
   ],
   "source": [
    "# Definition of dictionary\n",
    "europe = {'spain':'madrid', 'france':'paris', 'germany':'berlin', 'norway':'oslo' }\n",
    "\n",
    "# Print out the keys in europe\n",
    "print(europe.keys())\n",
    "\n",
    "# Print out value that belongs to key 'norway'\n",
    "print(europe['norway'])"
   ]
  },
  {
   "cell_type": "markdown",
   "metadata": {},
   "source": [
    "# Dictionaries, Part 2"
   ]
  },
  {
   "cell_type": "markdown",
   "metadata": {},
   "source": [
    "## Dictionary Manipulation (1)\n",
    "\n",
    "If you know how to access a dictionary, you can also assign a new value to it. To add a new key-value pair to europe you can use something like this:\n",
    "\n",
    "europe['iceland'] = 'reykjavik'"
   ]
  },
  {
   "cell_type": "code",
   "execution_count": 1,
   "metadata": {},
   "outputs": [
    {
     "name": "stdout",
     "output_type": "stream",
     "text": [
      "True\n",
      "{'spain': 'madrid', 'france': 'paris', 'germany': 'berlin', 'norway': 'oslo', 'italy': 'rome', 'poland': 'warsaw'}\n"
     ]
    }
   ],
   "source": [
    "# Definition of dictionary\n",
    "europe = {'spain':'madrid', 'france':'paris', 'germany':'berlin', 'norway':'oslo' }\n",
    "\n",
    "# Add italy to europe\n",
    "europe['italy'] = 'rome' \n",
    "\n",
    "# To assert that 'italy' is now a key in europe, print out 'italy' in europe.\n",
    "print('italy' in europe)\n",
    "\n",
    "# Add poland to europe\n",
    "europe['poland'] = 'warsaw'\n",
    "\n",
    "# Print europe\n",
    "print(europe)"
   ]
  },
  {
   "cell_type": "markdown",
   "metadata": {},
   "source": [
    "## Dictionary Manipulation (2)\n",
    "\n",
    "Somebody thought it would be funny to mess with your accurately generated dictionary. An adapted version of the europe dictionary is available in the script on the right.\n",
    "\n",
    "Can you clean up? Do not do this by adapting the definition of europe, but by adding Python commands to the script to update and remove key:value pairs.\n",
    "\n",
    "* [del statement](http://www.pythonforbeginners.com/basics/del-statement)"
   ]
  },
  {
   "cell_type": "code",
   "execution_count": 8,
   "metadata": {},
   "outputs": [
    {
     "name": "stdout",
     "output_type": "stream",
     "text": [
      "{'spain': 'madrid', 'france': 'paris', 'germany': 'berlin', 'norway': 'oslo', 'italy': 'rome', 'poland': 'warsaw'}\n"
     ]
    }
   ],
   "source": [
    "# Definition of dictionary\n",
    "europe = {'spain':'madrid', 'france':'paris', 'germany':'bonn',\n",
    "          'norway':'oslo', 'italy':'rome', 'poland':'warsaw',\n",
    "          'australia':'vienna' }\n",
    "\n",
    "# Update capital of germany\n",
    "europe['germany'] = 'berlin'\n",
    "\n",
    "# Remove australia\n",
    "del europe['australia']\n",
    "\n",
    "# Print europe\n",
    "print(europe)"
   ]
  },
  {
   "cell_type": "markdown",
   "metadata": {},
   "source": [
    "## Dictionariception\n",
    "\n",
    "Remember lists? They could contain anything, even other lists. Well, for dictionaries the same holds. Dictionaries can contain key:value pairs where the values are again dictionaries.\n",
    "\n",
    "As an example, have a look at the script where another version of europe - the dictionary you've been working with all along - is coded. The keys are still the country names, but the values are dictionaries that contain more information than just the capital.\n",
    "\n",
    "It's perfectly possible to chain square brackets to select elements. To fetch the population for Spain from europe, for example, you need:\n",
    "\n",
    "    europe['spain']['population']\n"
   ]
  },
  {
   "cell_type": "code",
   "execution_count": 10,
   "metadata": {},
   "outputs": [
    {
     "name": "stdout",
     "output_type": "stream",
     "text": [
      "paris\n",
      "\n",
      "{'spain': {'capital': 'madrid', 'population': 46.77}, 'france': {'capital': 'paris', 'population': 66.03}, 'germany': {'capital': 'berlin', 'population': 80.62}, 'norway': {'capital': 'oslo', 'population': 5.084}, 'italy': {'capital': 'rome', 'population': 59.83}}\n"
     ]
    }
   ],
   "source": [
    "# Dictionary of dictionaries\n",
    "europe = { 'spain': { 'capital':'madrid', 'population':46.77 },\n",
    "           'france': { 'capital':'paris', 'population':66.03 },\n",
    "           'germany': { 'capital':'berlin', 'population':80.62 },\n",
    "           'norway': { 'capital':'oslo', 'population':5.084 } }\n",
    "\n",
    "\n",
    "# Print out the capital of France\n",
    "print(europe['france']['capital'])\n",
    "print()\n",
    "\n",
    "# Create sub-dictionary data\n",
    "data = {'capital':'rome', 'population':59.83}\n",
    "\n",
    "# Add data to europe under key 'italy'\n",
    "europe['italy'] = data\n",
    "\n",
    "# Print europe\n",
    "print(europe)"
   ]
  },
  {
   "cell_type": "markdown",
   "metadata": {},
   "source": [
    "# Pandas, Part 1"
   ]
  },
  {
   "cell_type": "markdown",
   "metadata": {},
   "source": [
    "## Dictionary to DataFrame (1)\n",
    "\n",
    "Pandas is an open source library, providing high-performance, easy-to-use data structures and data analysis tools for Python. Sounds promising!\n",
    "\n",
    "The DataFrame is one of Pandas' most important data structures. It's basically a way to store tabular data where you can label the rows and the columns. One way to build a DataFrame is from a dictionary.\n",
    "\n",
    "In the exercises that follow you will be working with vehicle data from different countries. Each observation corresponds to a country and the columns give information about the number of vehicles per capita, whether people drive left or right, and so on.\n",
    "\n",
    "Three lists are defined in the script:\n",
    "\n",
    "    names, containing the country names for which data is available.\n",
    "    dr, a list with booleans that tells whether people drive left or right in the corresponding country.\n",
    "    cpc, the number of motor vehicles per 1000 people in the corresponding country.\n",
    "\n",
    "Each dictionary key is a column label and each value is a list which contains the column elements.\n",
    "\n",
    "* [pd.DataFrame()](https://pandas.pydata.org/pandas-docs/stable/generated/pandas.DataFrame.html)"
   ]
  },
  {
   "cell_type": "code",
   "execution_count": 3,
   "metadata": {},
   "outputs": [
    {
     "data": {
      "text/html": [
       "<div>\n",
       "<style>\n",
       "    .dataframe thead tr:only-child th {\n",
       "        text-align: right;\n",
       "    }\n",
       "\n",
       "    .dataframe thead th {\n",
       "        text-align: left;\n",
       "    }\n",
       "\n",
       "    .dataframe tbody tr th {\n",
       "        vertical-align: top;\n",
       "    }\n",
       "</style>\n",
       "<table border=\"1\" class=\"dataframe\">\n",
       "  <thead>\n",
       "    <tr style=\"text-align: right;\">\n",
       "      <th></th>\n",
       "      <th>cars_per_cap</th>\n",
       "      <th>country</th>\n",
       "      <th>drives_right</th>\n",
       "    </tr>\n",
       "  </thead>\n",
       "  <tbody>\n",
       "    <tr>\n",
       "      <th>0</th>\n",
       "      <td>809</td>\n",
       "      <td>United States</td>\n",
       "      <td>True</td>\n",
       "    </tr>\n",
       "    <tr>\n",
       "      <th>1</th>\n",
       "      <td>731</td>\n",
       "      <td>Australia</td>\n",
       "      <td>False</td>\n",
       "    </tr>\n",
       "    <tr>\n",
       "      <th>2</th>\n",
       "      <td>588</td>\n",
       "      <td>Japan</td>\n",
       "      <td>False</td>\n",
       "    </tr>\n",
       "    <tr>\n",
       "      <th>3</th>\n",
       "      <td>18</td>\n",
       "      <td>India</td>\n",
       "      <td>False</td>\n",
       "    </tr>\n",
       "    <tr>\n",
       "      <th>4</th>\n",
       "      <td>200</td>\n",
       "      <td>Russia</td>\n",
       "      <td>True</td>\n",
       "    </tr>\n",
       "    <tr>\n",
       "      <th>5</th>\n",
       "      <td>70</td>\n",
       "      <td>Morocco</td>\n",
       "      <td>True</td>\n",
       "    </tr>\n",
       "    <tr>\n",
       "      <th>6</th>\n",
       "      <td>45</td>\n",
       "      <td>Egypt</td>\n",
       "      <td>True</td>\n",
       "    </tr>\n",
       "  </tbody>\n",
       "</table>\n",
       "</div>"
      ],
      "text/plain": [
       "   cars_per_cap        country  drives_right\n",
       "0           809  United States          True\n",
       "1           731      Australia         False\n",
       "2           588          Japan         False\n",
       "3            18          India         False\n",
       "4           200         Russia          True\n",
       "5            70        Morocco          True\n",
       "6            45          Egypt          True"
      ]
     },
     "execution_count": 3,
     "metadata": {},
     "output_type": "execute_result"
    }
   ],
   "source": [
    "# Pre-defined lists\n",
    "names = ['United States', 'Australia', 'Japan', 'India', 'Russia', 'Morocco', 'Egypt']\n",
    "dr =  [True, False, False, False, True, True, True]\n",
    "cpc = [809, 731, 588, 18, 200, 70, 45]\n",
    "\n",
    "# Create dictionary my_dict with three key:value pairs: my_dict\n",
    "my_dict = {'country':names, 'drives_right':dr, 'cars_per_cap':cpc}\n",
    "\n",
    "# Build a DataFrame cars from my_dict: cars\n",
    "cars = pd.DataFrame(my_dict)\n",
    "\n",
    "# Print cars\n",
    "cars"
   ]
  },
  {
   "cell_type": "markdown",
   "metadata": {},
   "source": [
    "Notice that the columns of cars can be of different types. This was not possible with 2D Numpy arrays!"
   ]
  },
  {
   "cell_type": "markdown",
   "metadata": {},
   "source": [
    "## Dictionary to DataFrame (2)\n",
    "\n",
    "The Python code that solves the previous exercise is included on the right. Have you noticed that the row labels (i.e. the labels for the different observations) were automatically set to integers from 0 up to 6?\n",
    "\n",
    "To solve this a list row_labels has been created. You can use it to specify the row labels of the cars DataFrame. You do this by setting the index attribute of cars, that you can access as cars.index."
   ]
  },
  {
   "cell_type": "code",
   "execution_count": 15,
   "metadata": {},
   "outputs": [
    {
     "name": "stdout",
     "output_type": "stream",
     "text": [
      "   cars_per_cap        country  drives_right\n",
      "0           809  United States          True\n",
      "1           731      Australia         False\n",
      "2           588          Japan         False\n",
      "3            18          India         False\n",
      "4           200         Russia          True\n",
      "5            70        Morocco          True\n",
      "6            45          Egypt          True\n",
      "\n",
      "     cars_per_cap        country  drives_right\n",
      "US            809  United States          True\n",
      "AUS           731      Australia         False\n",
      "JAP           588          Japan         False\n",
      "IN             18          India         False\n",
      "RU            200         Russia          True\n",
      "MOR            70        Morocco          True\n",
      "EG             45          Egypt          True\n"
     ]
    }
   ],
   "source": [
    "# Build cars DataFrame\n",
    "names = ['United States', 'Australia', 'Japan', 'India', 'Russia', 'Morocco', 'Egypt']\n",
    "dr =  [True, False, False, False, True, True, True]\n",
    "cpc = [809, 731, 588, 18, 200, 70, 45]\n",
    "dict = { 'country':names, 'drives_right':dr, 'cars_per_cap':cpc }\n",
    "cars = pd.DataFrame(dict)\n",
    "print(cars)\n",
    "print()\n",
    "# Definition of row_labels\n",
    "row_labels = ['US', 'AUS', 'JAP', 'IN', 'RU', 'MOR', 'EG']\n",
    "\n",
    "# Specify row labels of cars\n",
    "cars.index = row_labels\n",
    "\n",
    "# Print cars again\n",
    "print(cars)"
   ]
  },
  {
   "cell_type": "markdown",
   "metadata": {},
   "source": [
    "## CSV to DataFrame (1)\n",
    "\n",
    "Putting data in a dictionary and then building a DataFrame works, but it's not very efficient. What if you're dealing with millions of observations? In those cases, the data is typically available as files with a regular structure. One of those file types is the CSV file, which is short for \"comma-separated values\".\n",
    "\n",
    "To import CSV data into Python as a Pandas DataFrame you can use read_csv().\n",
    "\n",
    "Let's explore this function with the same cars data from the previous exercises. This time, however, the data is available in a CSV file, named cars.csv. It is available in your current working directory, so the path to the file is simply 'cars.csv'.\n",
    "\n",
    "* [pd.read_csv](http://pandas.pydata.org/pandas-docs/stable/generated/pandas.read_csv.html)"
   ]
  },
  {
   "cell_type": "code",
   "execution_count": 4,
   "metadata": {},
   "outputs": [
    {
     "name": "stdout",
     "output_type": "stream",
     "text": [
      "  Unnamed: 0  cars_per_cap        country  drives_right\n",
      "0         US           809  United States          True\n",
      "1        AUS           731      Australia         False\n",
      "2        JAP           588          Japan         False\n",
      "3         IN            18          India         False\n",
      "4         RU           200         Russia          True\n",
      "5        MOR            70        Morocco          True\n",
      "6         EG            45          Egypt          True\n"
     ]
    }
   ],
   "source": [
    "# Import pandas as pd\n",
    "import pandas as pd\n",
    "\n",
    "# Import the cars.csv data: cars\n",
    "cars = pd.read_csv('cars.csv')\n",
    "\n",
    "# Print out cars\n",
    "print(cars)"
   ]
  },
  {
   "cell_type": "markdown",
   "metadata": {},
   "source": [
    "Looks nice, but not exactly what we expected."
   ]
  },
  {
   "cell_type": "markdown",
   "metadata": {},
   "source": [
    "## CSV to DataFrame (2)\n",
    "\n",
    "Your read_csv() call to import the CSV data didn't generate an error, but the output is not entirely what we wanted. The row labels were imported as another column without a name.\n",
    "\n",
    "Remember index_col, an argument of read_csv(), that you can use to specify which column in the CSV file should be used as a row label? Well, that's exactly what you need here!\n",
    "\n",
    "Python code that solves the previous exercise is already included; can you make the appropriate changes to fix the data import?"
   ]
  },
  {
   "cell_type": "code",
   "execution_count": 5,
   "metadata": {},
   "outputs": [
    {
     "name": "stdout",
     "output_type": "stream",
     "text": [
      "     cars_per_cap        country  drives_right\n",
      "US            809  United States          True\n",
      "AUS           731      Australia         False\n",
      "JAP           588          Japan         False\n",
      "IN             18          India         False\n",
      "RU            200         Russia          True\n",
      "MOR            70        Morocco          True\n",
      "EG             45          Egypt          True\n"
     ]
    }
   ],
   "source": [
    "# Fix import by including index_col\n",
    "cars = pd.read_csv('cars.csv',index_col=0)\n",
    "\n",
    "# Print out cars\n",
    "print(cars)"
   ]
  },
  {
   "cell_type": "markdown",
   "metadata": {},
   "source": [
    "# Pandas, Part 2"
   ]
  },
  {
   "cell_type": "markdown",
   "metadata": {},
   "source": [
    "## Square Brackets (1)\n",
    "\n",
    "In the video, you saw that you can index and select Pandas DataFrames in many different ways. The simplest, but not the most powerful way, is to use square brackets.\n",
    "\n",
    "In the sample code on the right, the same cars data is imported from a CSV files as a Pandas DataFrame. To select only the cars_per_cap column from cars, you can use:\n",
    "\n",
    "    cars['cars_per_cap']\n",
    "    cars[['cars_per_cap']]\n",
    "\n",
    "The single bracket version gives a Pandas Series, the double bracket version gives a Pandas DataFrame."
   ]
  },
  {
   "cell_type": "code",
   "execution_count": 6,
   "metadata": {},
   "outputs": [
    {
     "name": "stdout",
     "output_type": "stream",
     "text": [
      "US     United States\n",
      "AUS        Australia\n",
      "JAP            Japan\n",
      "IN             India\n",
      "RU            Russia\n",
      "MOR          Morocco\n",
      "EG             Egypt\n",
      "Name: country, dtype: object\n",
      "\n",
      "           country\n",
      "US   United States\n",
      "AUS      Australia\n",
      "JAP          Japan\n",
      "IN           India\n",
      "RU          Russia\n",
      "MOR        Morocco\n",
      "EG           Egypt\n",
      "\n",
      "           country  drives_right\n",
      "US   United States          True\n",
      "AUS      Australia         False\n",
      "JAP          Japan         False\n",
      "IN           India         False\n",
      "RU          Russia          True\n",
      "MOR        Morocco          True\n",
      "EG           Egypt          True\n"
     ]
    }
   ],
   "source": [
    "# Import cars data\n",
    "cars = pd.read_csv('cars.csv', index_col = 0)\n",
    "\n",
    "# Print out country column as Pandas Series\n",
    "print(cars['country'])\n",
    "print()\n",
    "# Print out country column as Pandas DataFrame\n",
    "print(cars[['country']])\n",
    "print()\n",
    "# Print out DataFrame with country and drives_right columns\n",
    "print(cars[['country','drives_right']])"
   ]
  },
  {
   "cell_type": "markdown",
   "metadata": {},
   "source": [
    "## Square Brackets (2)\n",
    "\n",
    "Square brackets can do more than just selecting columns. You can also use them to get rows, or observations, from a DataFrame. The following call selects the first five rows from the cars DataFrame:\n",
    "\n",
    "    cars[0:5]\n",
    "\n",
    "The result is another DataFrame containing only the rows you specified.\n",
    "\n",
    "Pay attention: You can only select rows using square brackets if you specify a slice, like 0:4. Also, you're using the integer indexes of the rows here, not the row labels!"
   ]
  },
  {
   "cell_type": "code",
   "execution_count": 7,
   "metadata": {},
   "outputs": [
    {
     "name": "stdout",
     "output_type": "stream",
     "text": [
      "     cars_per_cap        country  drives_right\n",
      "US            809  United States          True\n",
      "AUS           731      Australia         False\n",
      "JAP           588          Japan         False\n",
      "\n",
      "     cars_per_cap  country  drives_right\n",
      "IN             18    India         False\n",
      "RU            200   Russia          True\n",
      "MOR            70  Morocco          True\n"
     ]
    }
   ],
   "source": [
    "# Import cars data\n",
    "cars = pd.read_csv('cars.csv', index_col = 0)\n",
    "\n",
    "# Print out first 3 observations\n",
    "print(cars[:3])\n",
    "print()\n",
    "# Print out fourth, fifth and sixth observation\n",
    "print(cars[3:6])"
   ]
  },
  {
   "cell_type": "markdown",
   "metadata": {},
   "source": [
    "## loc and iloc (1)\n",
    "\n",
    "With loc and iloc you can do practically any data selection operation on DataFrames you can think of. loc is label-based, which means that you have to specify rows and columns based on their row and column labels. iloc is integer index based, so you have to specify rows and columns by their integer index like you did in the previous exercise.\n",
    "\n",
    "Try out the following commands in the IPython Shell to experiment with loc and iloc to select observations. Each pair of commands here gives the same result.\n",
    "\n",
    "    cars.loc['RU']\n",
    "    cars.iloc[4]\n",
    "\n",
    "    cars.loc[['RU']]\n",
    "    cars.iloc[[4]]\n",
    "\n",
    "    cars.loc[['RU', 'AUS']]\n",
    "    cars.iloc[[4, 1]]\n",
    "\n",
    "As before, code is included that imports the cars data as a Pandas DataFrame.\n",
    "\n",
    "* [pandas indexing](http://pandas.pydata.org/pandas-docs/stable/indexing.html#different-choices-for-indexing)\n",
    "* [.loc()](https://pandas.pydata.org/pandas-docs/stable/generated/pandas.DataFrame.loc.html)\n",
    "* [.iloc()](https://pandas.pydata.org/pandas-docs/stable/generated/pandas.DataFrame.iloc.html)"
   ]
  },
  {
   "cell_type": "code",
   "execution_count": 8,
   "metadata": {},
   "outputs": [
    {
     "name": "stdout",
     "output_type": "stream",
     "text": [
      "cars_per_cap      588\n",
      "country         Japan\n",
      "drives_right    False\n",
      "Name: JAP, dtype: object\n",
      "\n",
      "     cars_per_cap    country  drives_right\n",
      "AUS           731  Australia         False\n",
      "EG             45      Egypt          True\n"
     ]
    }
   ],
   "source": [
    "# Import cars data\n",
    "cars = pd.read_csv('cars.csv', index_col = 0)\n",
    "\n",
    "# Print out observation for Japan\n",
    "print(cars.loc['JAP'])\n",
    "print()\n",
    "# Print out observations for Australia and Egypt\n",
    "print(cars.loc[['AUS','EG']])"
   ]
  },
  {
   "cell_type": "markdown",
   "metadata": {},
   "source": [
    "## loc and iloc (2)\n",
    "\n",
    "loc and iloc also allow you to select both rows and columns from a DataFrame. To experiment, try out the following commands in the IPython Shell. Again, paired commands produce the same result.\n",
    "\n",
    "    cars.loc['IN', 'cars_per_cap']\n",
    "    cars.iloc[3, 0]\n",
    "\n",
    "    cars.loc[['IN', 'RU'], 'cars_per_cap']\n",
    "    cars.iloc[[3, 4], 0]\n",
    "\n",
    "    cars.loc[['IN', 'RU'], ['cars_per_cap', 'country']]\n",
    "    cars.iloc[[3, 4], [0, 1]]\n"
   ]
  },
  {
   "cell_type": "code",
   "execution_count": 30,
   "metadata": {},
   "outputs": [
    {
     "name": "stdout",
     "output_type": "stream",
     "text": [
      "True\n",
      "     country  drives_right\n",
      "RU    Russia          True\n",
      "MOR  Morocco          True\n"
     ]
    }
   ],
   "source": [
    "# loc and iloc also allow you to select both rows and columns from a DataFrame.\n",
    "\n",
    "# Import cars data\n",
    "import pandas as pd\n",
    "cars = pd.read_csv('cars.csv', index_col = 0)\n",
    "\n",
    "# Print out drives_right value of Morocco\n",
    "print(cars.loc['MOR','drives_right'])\n",
    "\n",
    "# Print sub-DataFrame\n",
    "print(cars.loc[['RU','MOR'],['country','drives_right']])\n"
   ]
  },
  {
   "cell_type": "markdown",
   "metadata": {},
   "source": [
    "## loc and iloc (3)\n",
    "\n",
    "It's also possible to select only columns with loc and iloc. In both cases, you simply put a slice going from beginning to end in front of the comma:\n",
    "\n",
    "    cars.loc[:, 'country']\n",
    "    cars.iloc[:, 1]\n",
    "\n",
    "    cars.loc[:, ['country','drives_right']]\n",
    "    cars.iloc[:, [1, 2]]\n"
   ]
  },
  {
   "cell_type": "code",
   "execution_count": 9,
   "metadata": {},
   "outputs": [
    {
     "name": "stdout",
     "output_type": "stream",
     "text": [
      "US      True\n",
      "AUS    False\n",
      "JAP    False\n",
      "IN     False\n",
      "RU      True\n",
      "MOR     True\n",
      "EG      True\n",
      "Name: drives_right, dtype: bool\n",
      "\n",
      "     drives_right\n",
      "US           True\n",
      "AUS         False\n",
      "JAP         False\n",
      "IN          False\n",
      "RU           True\n",
      "MOR          True\n",
      "EG           True\n",
      "\n",
      "     cars_per_cap  drives_right\n",
      "US            809          True\n",
      "AUS           731         False\n",
      "JAP           588         False\n",
      "IN             18         False\n",
      "RU            200          True\n",
      "MOR            70          True\n",
      "EG             45          True\n"
     ]
    }
   ],
   "source": [
    "# Import cars data\n",
    "cars = pd.read_csv('cars.csv', index_col = 0)\n",
    "\n",
    "# Print out drives_right column as Series\n",
    "print(cars.iloc[:,2])\n",
    "print()\n",
    "# Print out drives_right column as DataFrame\n",
    "print(cars.loc[:,['drives_right']])\n",
    "print()\n",
    "# Print out cars_per_cap and drives_right as DataFrame\n",
    "print(cars.loc[:,['cars_per_cap','drives_right']])\n"
   ]
  },
  {
   "cell_type": "markdown",
   "metadata": {
    "collapsed": true
   },
   "source": [
    "## Appendix: Methods\n",
    "\n",
    "__Methods__\n",
    "* [list.index](https://docs.python.org/3/library/stdtypes.html#common-sequence-operations)\n",
    "* [dict.keys](https://docs.python.org/3/library/stdtypes.html#dict.keys)\n",
    "* [del statement](http://www.pythonforbeginners.com/basics/del-statement)\n",
    "* [pd.read_csv](http://pandas.pydata.org/pandas-docs/stable/generated/pandas.read_csv.html)\n",
    "* [pandas indexing](http://pandas.pydata.org/pandas-docs/stable/indexing.html#different-choices-for-indexing)\n",
    "* [.loc()](https://pandas.pydata.org/pandas-docs/stable/generated/pandas.DataFrame.loc.html)\n",
    "* [.iloc()](https://pandas.pydata.org/pandas-docs/stable/generated/pandas.DataFrame.iloc.html)\n",
    "\n",
    "__Objects__\n",
    "* [pd.DataFrame()](https://pandas.pydata.org/pandas-docs/stable/generated/pandas.DataFrame.html)"
   ]
  }
 ],
 "metadata": {
  "kernelspec": {
   "display_name": "Python 3",
   "language": "python",
   "name": "python3"
  },
  "language_info": {
   "codemirror_mode": {
    "name": "ipython",
    "version": 3
   },
   "file_extension": ".py",
   "mimetype": "text/x-python",
   "name": "python",
   "nbconvert_exporter": "python",
   "pygments_lexer": "ipython3",
   "version": "3.6.1"
  }
 },
 "nbformat": 4,
 "nbformat_minor": 2
}
