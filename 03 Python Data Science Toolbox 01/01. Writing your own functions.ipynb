{
 "cells": [
  {
   "cell_type": "markdown",
   "metadata": {},
   "source": [
    "## Importing modules"
   ]
  },
  {
   "cell_type": "code",
   "execution_count": 1,
   "metadata": {
    "collapsed": true
   },
   "outputs": [],
   "source": [
    "import pandas as pd"
   ]
  },
  {
   "cell_type": "markdown",
   "metadata": {},
   "source": [
    "# User-defined functions"
   ]
  },
  {
   "cell_type": "markdown",
   "metadata": {},
   "source": [
    "Strings in Python\n",
    "\n",
    "In the video, you learned of another standard Python datatype, strings. Recall that these represent textual data. To assign the string 'DataCamp' to a variable company, you execute:\n",
    "\n",
    "    company = 'DataCamp'\n",
    "\n",
    "You've also learned to use the operations + and * with strings. Unlike with numeric types such as ints and floats, the + operator concatenates strings together, while the * concatenates multiple copies of a string together. In this exercise, you will use the + and * operations on strings to answer the question below. Execute the following code in the shell:\n",
    "\n",
    "    object1 = \"data\" + \"analysis\" + \"visualization\"\n",
    "    object2 = 1 * 3\n",
    "    object3 = \"1\" * 3\n",
    "\n",
    "What are the values in object1, object2, and object3, respectively?"
   ]
  },
  {
   "cell_type": "code",
   "execution_count": 2,
   "metadata": {},
   "outputs": [
    {
     "name": "stdout",
     "output_type": "stream",
     "text": [
      "dataanalysisvisualization\n",
      "3\n",
      "111\n"
     ]
    }
   ],
   "source": [
    "object1 = \"data\" + \"analysis\" + \"visualization\"\n",
    "object2 = 1 * 3\n",
    "object3 = \"1\" * 3\n",
    "\n",
    "print(object1)\n",
    "print(object2)\n",
    "print(object3)"
   ]
  },
  {
   "cell_type": "markdown",
   "metadata": {},
   "source": [
    "## Recapping built-in functions\n",
    "\n",
    "In the video, Hugo briefly examined the return behavior of the built-in functions print() and str(). Here, you will use both functions and examine their return values. A variable x has been preloaded for this exercise. Run the code below in the console. Pay close attention to the results to answer the question that follows.\n",
    "\n",
    "    Assign str(x) to a variable y1: y1 = str(x)\n",
    "    Assign print(x) to a variable y2: y2 = print(x)\n",
    "    Check the types of the variables x, y1, and y2.\n",
    "\n",
    "What are the types of x, y1, and y2?"
   ]
  },
  {
   "cell_type": "code",
   "execution_count": 6,
   "metadata": {},
   "outputs": [
    {
     "name": "stdout",
     "output_type": "stream",
     "text": [
      "4.89\n",
      "<class 'float'>\n",
      "<class 'str'>\n",
      "<class 'NoneType'>\n"
     ]
    }
   ],
   "source": [
    "x = 4.89\n",
    "y1 = str(x)\n",
    "y2 = print(x)\n",
    "\n",
    "print(type(x))\n",
    "print(type(y1))\n",
    "print(type(y2))"
   ]
  },
  {
   "cell_type": "markdown",
   "metadata": {},
   "source": [
    "## Write a simple function\n",
    "\n",
    "In the last video, Hugo described the basics of how to define a function. You will now write your own function!\n",
    "\n",
    "Define a function, shout(), which simply prints out a string with three exclamation marks '!!!' at the end. The code for the square() function that we wrote earlier is found below. You can use it as a pattern to define shout().\n",
    "\n",
    "    def square():\n",
    "        new_value = 4 ** 2\n",
    "        return new_value\n",
    "\n",
    "Note that the function body is indented 4 spaces already for you. Function bodies need to be indented by a consistent number of spaces and the choice of 4 is common."
   ]
  },
  {
   "cell_type": "code",
   "execution_count": 7,
   "metadata": {},
   "outputs": [
    {
     "name": "stdout",
     "output_type": "stream",
     "text": [
      "congratulations!!!\n"
     ]
    }
   ],
   "source": [
    "# Define the function shout\n",
    "def shout():\n",
    "    \"\"\"Print a string with three exclamation marks\"\"\"\n",
    "    # Concatenate the strings: shout_word\n",
    "    shout_word = 'congratulations'+'!!!' \n",
    "\n",
    "    # Print shout_word\n",
    "    print(shout_word)\n",
    "\n",
    "# Call shout\n",
    "shout()"
   ]
  },
  {
   "cell_type": "markdown",
   "metadata": {},
   "source": [
    "## Single-parameter functions\n",
    "\n",
    "Congratulations! You have successfully defined and called your own function! That's pretty cool.\n",
    "\n",
    "In the previous exercise, you defined and called the function shout(), which printed out a string concatenated with '!!!'. You will now update shout() by adding a parameter so that it can accept and process any string argument passed to it. Also note that shout(word), the part of the header that specifies the function name and parameter(s), is known as the signature of the function. You may encounter this term in the wild!"
   ]
  },
  {
   "cell_type": "code",
   "execution_count": 8,
   "metadata": {},
   "outputs": [
    {
     "name": "stdout",
     "output_type": "stream",
     "text": [
      "congratulations!!!\n"
     ]
    }
   ],
   "source": [
    "# Define shout with the parameter, word\n",
    "def shout(word):\n",
    "    \"\"\"Print a string with three exclamation marks\"\"\"\n",
    "    # Concatenate the strings: shout_word\n",
    "    shout_word = word + '!!!'\n",
    "\n",
    "    # Print shout_word\n",
    "    print(shout_word)\n",
    "\n",
    "# Call shout with the string 'congratulations'\n",
    "shout('congratulations')\n"
   ]
  },
  {
   "cell_type": "markdown",
   "metadata": {},
   "source": [
    "## Functions that return single values\n",
    "\n",
    "You're getting very good at this! Try your hand at another modification to the shout() function so that it now returns a single value instead of printing within the function. Recall that the return keyword lets you return values from functions. Parts of the function shout(), which you wrote earlier, are shown. Returning values is generally more desirable than printing them out because, as you saw earlier, a print() call assigned to a variable has type NoneType."
   ]
  },
  {
   "cell_type": "code",
   "execution_count": 9,
   "metadata": {},
   "outputs": [
    {
     "name": "stdout",
     "output_type": "stream",
     "text": [
      "congratulations!!!\n"
     ]
    }
   ],
   "source": [
    "# Define shout with the parameter, word\n",
    "def shout(word):\n",
    "    \"\"\"Return a string with three exclamation marks\"\"\"\n",
    "    shout_word = word + '!!!'   \n",
    "\n",
    "    # Replace print with return\n",
    "    return shout_word\n",
    "\n",
    "# Pass 'congratulations' to shout: yell\n",
    "yell = shout('congratulations')\n",
    "\n",
    "# Print yell\n",
    "print(yell)"
   ]
  },
  {
   "cell_type": "markdown",
   "metadata": {},
   "source": [
    "# Multiple Parameters and Return Values"
   ]
  },
  {
   "cell_type": "markdown",
   "metadata": {},
   "source": [
    "## Functions with multiple parameters\n",
    "\n",
    "Hugo discussed the use of multiple parameters in defining functions in the last lecture. You are now going to use what you've learned to modify the shout() function further. Here, you will modify shout() to accept two arguments. Parts of the function shout(), which you wrote earlier, are shown"
   ]
  },
  {
   "cell_type": "code",
   "execution_count": 1,
   "metadata": {},
   "outputs": [
    {
     "name": "stdout",
     "output_type": "stream",
     "text": [
      "congratulations!!!you!!!\n"
     ]
    }
   ],
   "source": [
    "# Define shout with parameters word1 and word2\n",
    "def shout(word1, word2):\n",
    "    \"\"\"Concatenate strings with three exclamation marks\"\"\"\n",
    "    # Concatenate word1 with '!!!': shout1\n",
    "    shout1 = word1+'!!!'\n",
    "\n",
    "    # Concatenate word2 with '!!!': shout2\n",
    "    shout2 = word2+'!!!'\n",
    "    \n",
    "    # Concatenate shout1 with shout2: new_shout\n",
    "    new_shout = shout1 + shout2    \n",
    "\n",
    "    # Return new_shout\n",
    "    return new_shout\n",
    "\n",
    "# Pass 'congratulations' and 'you' to shout(): yell\n",
    "yell = shout('congratulations','you')\n",
    "\n",
    "# Print yell\n",
    "print(yell)"
   ]
  },
  {
   "cell_type": "markdown",
   "metadata": {},
   "source": [
    "## A brief introduction to tuples\n",
    "\n",
    "Alongside learning about functions, you've also learned about tuples! Here, you will practice what you've learned about tuples: how to construct, unpack, and access tuple elements. Recall how Hugo unpacked the tuple even_nums in the video:\n",
    "\n",
    "a, b, c = even_nums\n",
    "\n",
    "A three-element tuple named nums has been preloaded for this exercise. Before completing the script, perform the following:\n",
    "\n",
    "* Print out the value of nums in the IPython shell. Note the elements in the tuple.\n",
    "* In the IPython shell, try to change the first element of nums to the value 2 by doing an assignment: nums[0] = 2. What happens?\n"
   ]
  },
  {
   "cell_type": "code",
   "execution_count": 8,
   "metadata": {},
   "outputs": [
    {
     "name": "stdout",
     "output_type": "stream",
     "text": [
      "(3, 4, 6)\n",
      "3 4 6\n",
      "(2, 4, 6)\n"
     ]
    }
   ],
   "source": [
    "nums = (3, 4, 6)\n",
    "\n",
    "num1, num2, num3 = nums[0], nums[1], nums[2]\n",
    "\n",
    "print(nums)\n",
    "print(num1, num2, num3)\n",
    "\n",
    "even_nums = (2, 4, 6)\n",
    "print(even_nums)"
   ]
  },
  {
   "cell_type": "markdown",
   "metadata": {},
   "source": [
    "## Function that return multiple values\n",
    "\n",
    "In the previous exercise, you constructed tuples, assigned tuples to variables, and unpacked tuples. Here you will return multiple values from a function using tuples. Let's now update our shout() function to return multiple values. Instead of returning just one string, we will return two strings with the string !!! concatenated to each.\n",
    "\n",
    "Note that the return statement return x, y has the same result as return (x, y): the former actually packs x and y into a tuple under the hood!"
   ]
  },
  {
   "cell_type": "code",
   "execution_count": 3,
   "metadata": {},
   "outputs": [
    {
     "name": "stdout",
     "output_type": "stream",
     "text": [
      "congratulations!!!\n",
      "you!!!\n"
     ]
    }
   ],
   "source": [
    "def shout_all(word1, word2):\n",
    "    \n",
    "    # Concatenate word1 with '!!!': shout1\n",
    "    shout1 = word1+'!!!'\n",
    "    \n",
    "    # Concatenate word2 with '!!!': shout2\n",
    "    shout2 = word2+'!!!'\n",
    "    \n",
    "    # Construct a tuple with shout1 and shout2: shout_words\n",
    "    shout_words = (shout1, shout2)\n",
    "\n",
    "    # Return shout_words\n",
    "    return shout_words\n",
    "\n",
    "# Pass 'congratulations' and 'you' to shout_all(): yell1, yell2\n",
    "yell1, yell2 = shout_all('congratulations' , 'you')\n",
    "\n",
    "# Print yell1 and yell2\n",
    "print(yell1)\n",
    "print(yell2)"
   ]
  },
  {
   "cell_type": "markdown",
   "metadata": {},
   "source": [
    "# Bringing it all together"
   ]
  },
  {
   "cell_type": "markdown",
   "metadata": {},
   "source": [
    "## Bringing it all together (1)\n",
    "\n",
    "You've got your first taste of writing your own functions in the previous exercises. You've learned how to add parameters to your own function definitions, return a value or multiple values with tuples, and how to call the functions you've defined.\n",
    "\n",
    "In this and the following exercise, you will bring together all these concepts and apply them to a simple data science problem. You will load a dataset and develop functionalities to extract simple insights from the data.\n",
    "\n",
    "For this exercise, your goal is to recall how to load a dataset into a DataFrame. The dataset contains Twitter data and you will iterate over entries in a column to build a dictionary in which the keys are the names of languages and the values are the number of tweets in the given language. The file tweets.csv is available in your current directory."
   ]
  },
  {
   "cell_type": "code",
   "execution_count": 10,
   "metadata": {},
   "outputs": [
    {
     "name": "stdout",
     "output_type": "stream",
     "text": [
      "{'en': 97, 'et': 1, 'und': 2}\n"
     ]
    }
   ],
   "source": [
    "# Import pandas\n",
    "import pandas as pd\n",
    "\n",
    "# Import Twitter data as DataFrame: df\n",
    "df = pd.read_csv('tweets.csv')\n",
    "\n",
    "# Initialize an empty dictionary: langs_count\n",
    "langs_count = {}\n",
    "\n",
    "# Extract column from DataFrame: col\n",
    "col = df['lang']\n",
    "\n",
    "# Iterate over lang column in DataFrame\n",
    "for entry in col:\n",
    "\n",
    "    # If the language is in langs_count, add 1\n",
    "    if entry in langs_count.keys():\n",
    "        langs_count[entry] += 1\n",
    "    # Else add the language to langs_count, set the value to 1\n",
    "    else:\n",
    "        langs_count[entry] = 1\n",
    "\n",
    "# Print the populated dictionary\n",
    "print(langs_count)\n"
   ]
  },
  {
   "cell_type": "markdown",
   "metadata": {},
   "source": [
    "## Bringing it all together (2)\n",
    "\n",
    "Great job! You've now defined the functionality for iterating over entries in a column and building a dictionary with keys the names of languages and values the number of tweets in the given language.\n",
    "\n",
    "In this exercise, you will define a function with the functionality you developed in the previous exercise, return the resulting dictionary from within the function, and call the function with the appropriate arguments.\n",
    "\n",
    "For your convenience, the pandas package has been imported as pd and the 'tweets.csv' file has been imported into the tweets_df variable."
   ]
  },
  {
   "cell_type": "code",
   "execution_count": 11,
   "metadata": {},
   "outputs": [
    {
     "name": "stdout",
     "output_type": "stream",
     "text": [
      "{'en': 97, 'et': 1, 'und': 2}\n"
     ]
    }
   ],
   "source": [
    "# Define count_entries()\n",
    "def count_entries(df, col_name):\n",
    "    \"\"\"Return a dictionary with counts of \n",
    "    occurrences as value for each key.\"\"\"\n",
    "\n",
    "    langs_count = {}\n",
    "\n",
    "    col = df[col_name]\n",
    "    for entry in col:\n",
    "        if entry in langs_count.keys():\n",
    "            langs_count[entry] += 1\n",
    "        else:\n",
    "            langs_count[entry] = 1\n",
    "    return langs_count\n",
    "    \n",
    "tweets = \"tweets.csv\"\n",
    "tweets_df = pd.read_csv(tweets)\n",
    "result = count_entries(tweets_df, 'lang')\n",
    "print(result)"
   ]
  }
 ],
 "metadata": {
  "kernelspec": {
   "display_name": "Python 3",
   "language": "python",
   "name": "python3"
  },
  "language_info": {
   "codemirror_mode": {
    "name": "ipython",
    "version": 3
   },
   "file_extension": ".py",
   "mimetype": "text/x-python",
   "name": "python",
   "nbconvert_exporter": "python",
   "pygments_lexer": "ipython3",
   "version": "3.6.1"
  }
 },
 "nbformat": 4,
 "nbformat_minor": 2
}
