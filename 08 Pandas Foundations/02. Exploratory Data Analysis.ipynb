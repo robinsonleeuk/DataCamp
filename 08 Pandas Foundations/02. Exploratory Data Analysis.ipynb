{
 "cells": [
  {
   "cell_type": "markdown",
   "metadata": {},
   "source": [
    "## Importing modules"
   ]
  },
  {
   "cell_type": "code",
   "execution_count": 94,
   "metadata": {
    "collapsed": true
   },
   "outputs": [],
   "source": [
    "import pandas as pd\n",
    "import matplotlib.pyplot as plt\n",
    "import numpy as np"
   ]
  },
  {
   "cell_type": "markdown",
   "metadata": {
    "collapsed": true
   },
   "source": [
    "# Visual exploratory data analysis"
   ]
  },
  {
   "cell_type": "markdown",
   "metadata": {},
   "source": [
    "## pandas line plots\n",
    "\n",
    "In the previous chapter, you saw that the .plot() method will place the Index values on the x-axis by default. In this exercise, you'll practice making line plots with specific columns on the x and y axes.\n",
    "\n",
    "You will work with a dataset consisting of monthly stock prices in 2015 for AAPL, GOOG, and IBM. The stock prices were obtained from [Yahoo Finance](https://finance.yahoo.com/). Your job is to plot the 'Month' column on the x-axis and the AAPL and IBM prices on the y-axis using a list of column names.\n",
    "\n",
    "All necessary modules have been imported for you, and the DataFrame is available in the workspace as df. Explore it using methods such as .head(), .info(), and .describe() to see the column names."
   ]
  },
  {
   "cell_type": "code",
   "execution_count": 95,
   "metadata": {},
   "outputs": [
    {
     "data": {
      "text/html": [
       "<div>\n",
       "<style>\n",
       "    .dataframe thead tr:only-child th {\n",
       "        text-align: right;\n",
       "    }\n",
       "\n",
       "    .dataframe thead th {\n",
       "        text-align: left;\n",
       "    }\n",
       "\n",
       "    .dataframe tbody tr th {\n",
       "        vertical-align: top;\n",
       "    }\n",
       "</style>\n",
       "<table border=\"1\" class=\"dataframe\">\n",
       "  <thead>\n",
       "    <tr style=\"text-align: right;\">\n",
       "      <th></th>\n",
       "      <th>AAPL</th>\n",
       "      <th>GOOG</th>\n",
       "      <th>IBM</th>\n",
       "      <th>Month</th>\n",
       "    </tr>\n",
       "  </thead>\n",
       "  <tbody>\n",
       "    <tr>\n",
       "      <th>0</th>\n",
       "      <td>117.160004</td>\n",
       "      <td>534.522445</td>\n",
       "      <td>153.309998</td>\n",
       "      <td>Jan</td>\n",
       "    </tr>\n",
       "    <tr>\n",
       "      <th>1</th>\n",
       "      <td>128.460007</td>\n",
       "      <td>558.402511</td>\n",
       "      <td>161.940002</td>\n",
       "      <td>Feb</td>\n",
       "    </tr>\n",
       "    <tr>\n",
       "      <th>2</th>\n",
       "      <td>124.430000</td>\n",
       "      <td>548.002468</td>\n",
       "      <td>160.500000</td>\n",
       "      <td>Mar</td>\n",
       "    </tr>\n",
       "    <tr>\n",
       "      <th>3</th>\n",
       "      <td>125.150002</td>\n",
       "      <td>537.340027</td>\n",
       "      <td>171.289993</td>\n",
       "      <td>Apr</td>\n",
       "    </tr>\n",
       "    <tr>\n",
       "      <th>4</th>\n",
       "      <td>130.279999</td>\n",
       "      <td>532.109985</td>\n",
       "      <td>169.649994</td>\n",
       "      <td>May</td>\n",
       "    </tr>\n",
       "    <tr>\n",
       "      <th>5</th>\n",
       "      <td>125.430000</td>\n",
       "      <td>520.510010</td>\n",
       "      <td>162.660004</td>\n",
       "      <td>Jun</td>\n",
       "    </tr>\n",
       "    <tr>\n",
       "      <th>6</th>\n",
       "      <td>121.300003</td>\n",
       "      <td>625.609985</td>\n",
       "      <td>161.990005</td>\n",
       "      <td>Jul</td>\n",
       "    </tr>\n",
       "    <tr>\n",
       "      <th>7</th>\n",
       "      <td>112.760002</td>\n",
       "      <td>618.250000</td>\n",
       "      <td>147.889999</td>\n",
       "      <td>Aug</td>\n",
       "    </tr>\n",
       "    <tr>\n",
       "      <th>8</th>\n",
       "      <td>110.300003</td>\n",
       "      <td>608.419983</td>\n",
       "      <td>144.970001</td>\n",
       "      <td>Sep</td>\n",
       "    </tr>\n",
       "    <tr>\n",
       "      <th>9</th>\n",
       "      <td>119.500000</td>\n",
       "      <td>710.809998</td>\n",
       "      <td>140.080002</td>\n",
       "      <td>Oct</td>\n",
       "    </tr>\n",
       "    <tr>\n",
       "      <th>10</th>\n",
       "      <td>118.300003</td>\n",
       "      <td>742.599976</td>\n",
       "      <td>139.419998</td>\n",
       "      <td>Nov</td>\n",
       "    </tr>\n",
       "    <tr>\n",
       "      <th>11</th>\n",
       "      <td>105.260002</td>\n",
       "      <td>758.880005</td>\n",
       "      <td>137.619995</td>\n",
       "      <td>Dec</td>\n",
       "    </tr>\n",
       "  </tbody>\n",
       "</table>\n",
       "</div>"
      ],
      "text/plain": [
       "          AAPL        GOOG         IBM Month\n",
       "0   117.160004  534.522445  153.309998   Jan\n",
       "1   128.460007  558.402511  161.940002   Feb\n",
       "2   124.430000  548.002468  160.500000   Mar\n",
       "3   125.150002  537.340027  171.289993   Apr\n",
       "4   130.279999  532.109985  169.649994   May\n",
       "5   125.430000  520.510010  162.660004   Jun\n",
       "6   121.300003  625.609985  161.990005   Jul\n",
       "7   112.760002  618.250000  147.889999   Aug\n",
       "8   110.300003  608.419983  144.970001   Sep\n",
       "9   119.500000  710.809998  140.080002   Oct\n",
       "10  118.300003  742.599976  139.419998   Nov\n",
       "11  105.260002  758.880005  137.619995   Dec"
      ]
     },
     "execution_count": 95,
     "metadata": {},
     "output_type": "execute_result"
    }
   ],
   "source": [
    "stock_data = {'AAPL': {0: 117.160004,   1: 128.46000700000002,   2: 124.43000000000001,   3: 125.150002,   4: 130.279999,   \n",
    "                   5: 125.43000000000001,   6: 121.300003,   7: 112.760002,   8: 110.300003,   9: 119.5,   \n",
    "                   10: 118.300003,   11: 105.260002},  \n",
    "          'GOOG': {0: 534.52244500000018,   1: 558.402511,  2: 548.00246800000002,   3: 537.34002699999996,   \n",
    "                   4: 532.10998499999982,   5: 520.51000999999997,   6: 625.60998499999982,   7: 618.25,   \n",
    "                   8: 608.419983,   9: 710.80999800000018,   10: 742.59997599999997,   11: 758.88000499999998},  \n",
    "          'IBM': {0: 153.30999800000001,   1: 161.94000199999999,   2: 160.5,   3: 171.28999299999995,   \n",
    "                  4: 169.64999399999999,   5: 162.66000399999999,   6: 161.990005,   7: 147.88999899999999,  \n",
    "                  8: 144.970001,   9: 140.08000200000001,   10: 139.41999799999999,   11: 137.61999499999999},  \n",
    "          'Month': {0: 'Jan',   1: 'Feb',   2: 'Mar',   3: 'Apr',   4: 'May',   5: 'Jun',   6: 'Jul',   \n",
    "                    7: 'Aug',   8: 'Sep',   9: 'Oct',   10: 'Nov',   11: 'Dec'}}\n",
    "\n",
    "df = pd.DataFrame(stock_data)\n",
    "df"
   ]
  },
  {
   "cell_type": "code",
   "execution_count": 96,
   "metadata": {},
   "outputs": [
    {
     "data": {
      "image/png": "[encoded data removed]",
      "text/plain": [
       "<matplotlib.figure.Figure at 0x1b1cc2670b8>"
      ]
     },
     "metadata": {},
     "output_type": "display_data"
    }
   ],
   "source": [
    "# Create a list of y-axis column names: y_columns\n",
    "y_columns = ['AAPL','IBM']\n",
    "\n",
    "# Generate a line plot\n",
    "df.plot(x='Month', y=y_columns)\n",
    "\n",
    "# Add the title\n",
    "plt.title('Monthly stock prices')\n",
    "\n",
    "# Add the y-axis label\n",
    "plt.ylabel('Price ($US)')\n",
    "\n",
    "# Display the plot\n",
    "plt.show()"
   ]
  },
  {
   "cell_type": "markdown",
   "metadata": {},
   "source": [
    "It looks like the monthly stock prices of both AAPL and IBM peaked early in the year before falling"
   ]
  },
  {
   "cell_type": "markdown",
   "metadata": {},
   "source": [
    "## pandas scatter plots\n",
    "\n",
    "Pandas scatter plots are generated using the kind='scatter' keyword argument. Scatter plots require that the x and y columns be chosen by specifying the x and y parameters inside .plot(). Scatter plots also take an s keyword argument to provide the radius of each circle to plot in pixels.\n",
    "\n",
    "In this exercise, you're going to plot fuel efficiency (miles-per-gallon) versus horse-power for 392 automobiles manufactured from 1970 to 1982 from the [UCI Machine Learning Repository](https://archive.ics.uci.edu/ml/datasets/Auto+MPG).\n",
    "\n",
    "The size of each circle is provided as a NumPy array called sizes. This array contains the normalized 'weight' of each automobile in the dataset."
   ]
  },
  {
   "cell_type": "code",
   "execution_count": 97,
   "metadata": {},
   "outputs": [
    {
     "name": "stdout",
     "output_type": "stream",
     "text": [
      "<class 'pandas.core.frame.DataFrame'>\n",
      "RangeIndex: 392 entries, 0 to 391\n",
      "Data columns (total 9 columns):\n",
      "mpg       392 non-null float64\n",
      "cyl       392 non-null int64\n",
      "displ     392 non-null float64\n",
      "hp        392 non-null int64\n",
      "weight    392 non-null int64\n",
      "accel     392 non-null float64\n",
      "yr        392 non-null int64\n",
      "origin    392 non-null object\n",
      "name      392 non-null object\n",
      "dtypes: float64(3), int64(4), object(2)\n",
      "memory usage: 27.6+ KB\n",
      "None\n"
     ]
    },
    {
     "data": {
      "text/html": [
       "<div>\n",
       "<style>\n",
       "    .dataframe thead tr:only-child th {\n",
       "        text-align: right;\n",
       "    }\n",
       "\n",
       "    .dataframe thead th {\n",
       "        text-align: left;\n",
       "    }\n",
       "\n",
       "    .dataframe tbody tr th {\n",
       "        vertical-align: top;\n",
       "    }\n",
       "</style>\n",
       "<table border=\"1\" class=\"dataframe\">\n",
       "  <thead>\n",
       "    <tr style=\"text-align: right;\">\n",
       "      <th></th>\n",
       "      <th>mpg</th>\n",
       "      <th>cyl</th>\n",
       "      <th>displ</th>\n",
       "      <th>hp</th>\n",
       "      <th>weight</th>\n",
       "      <th>accel</th>\n",
       "      <th>yr</th>\n",
       "      <th>origin</th>\n",
       "      <th>name</th>\n",
       "    </tr>\n",
       "  </thead>\n",
       "  <tbody>\n",
       "    <tr>\n",
       "      <th>0</th>\n",
       "      <td>18.0</td>\n",
       "      <td>8</td>\n",
       "      <td>307.0</td>\n",
       "      <td>130</td>\n",
       "      <td>3504</td>\n",
       "      <td>12.0</td>\n",
       "      <td>70</td>\n",
       "      <td>US</td>\n",
       "      <td>chevrolet chevelle malibu</td>\n",
       "    </tr>\n",
       "    <tr>\n",
       "      <th>1</th>\n",
       "      <td>15.0</td>\n",
       "      <td>8</td>\n",
       "      <td>350.0</td>\n",
       "      <td>165</td>\n",
       "      <td>3693</td>\n",
       "      <td>11.5</td>\n",
       "      <td>70</td>\n",
       "      <td>US</td>\n",
       "      <td>buick skylark 320</td>\n",
       "    </tr>\n",
       "    <tr>\n",
       "      <th>2</th>\n",
       "      <td>18.0</td>\n",
       "      <td>8</td>\n",
       "      <td>318.0</td>\n",
       "      <td>150</td>\n",
       "      <td>3436</td>\n",
       "      <td>11.0</td>\n",
       "      <td>70</td>\n",
       "      <td>US</td>\n",
       "      <td>plymouth satellite</td>\n",
       "    </tr>\n",
       "    <tr>\n",
       "      <th>3</th>\n",
       "      <td>16.0</td>\n",
       "      <td>8</td>\n",
       "      <td>304.0</td>\n",
       "      <td>150</td>\n",
       "      <td>3433</td>\n",
       "      <td>12.0</td>\n",
       "      <td>70</td>\n",
       "      <td>US</td>\n",
       "      <td>amc rebel sst</td>\n",
       "    </tr>\n",
       "    <tr>\n",
       "      <th>4</th>\n",
       "      <td>17.0</td>\n",
       "      <td>8</td>\n",
       "      <td>302.0</td>\n",
       "      <td>140</td>\n",
       "      <td>3449</td>\n",
       "      <td>10.5</td>\n",
       "      <td>70</td>\n",
       "      <td>US</td>\n",
       "      <td>ford torino</td>\n",
       "    </tr>\n",
       "  </tbody>\n",
       "</table>\n",
       "</div>"
      ],
      "text/plain": [
       "    mpg  cyl  displ   hp  weight  accel  yr origin                       name\n",
       "0  18.0    8  307.0  130    3504   12.0  70     US  chevrolet chevelle malibu\n",
       "1  15.0    8  350.0  165    3693   11.5  70     US          buick skylark 320\n",
       "2  18.0    8  318.0  150    3436   11.0  70     US         plymouth satellite\n",
       "3  16.0    8  304.0  150    3433   12.0  70     US              amc rebel sst\n",
       "4  17.0    8  302.0  140    3449   10.5  70     US                ford torino"
      ]
     },
     "execution_count": 97,
     "metadata": {},
     "output_type": "execute_result"
    }
   ],
   "source": [
    "df = pd.read_csv('auto-mpg.csv')\n",
    "print(df.info())\n",
    "df.head()"
   ]
  },
  {
   "cell_type": "code",
   "execution_count": 98,
   "metadata": {
    "collapsed": true
   },
   "outputs": [],
   "source": [
    "sizes = np.array([ 51.12044694, 56.78387977, 49.15557238, 49.06977358, 49.52823321, 78.4595872, 78.93021696, 77.41479205, 81.52541106, 61.71459825, 52.85646225, 54.23007578, 58.89427963, 39.65137852, 23.42587473, 33.41639502, 32.03903011, 27.8650165, 18.88972581, 14.0196956, 29.72619722, 24.58549713, 23.48516821, 20.77938954, 29.19459189, 88.67676838, 79.72987328, 79.94866084, 93.23005042, 18.88972581, 21.34122243, 20.6679223, 28.88670381, 49.24144612, 46.14174741, 45.39631334, 45.01218186, 73.76057586, 82.96880195, 71.84547684, 69.85320595, 102.22421043, 93.78252358, 110. , 36.52889673, 24.14234281, 44.84805372, 41.02504618, 20.51976563, 18.765772 , 17.9095202, 17.75442285, 13.08832041, 10.83266174, 14.00441945, 15.91328975, 21.60597587, 18.8188451, 21.15311208, 24.14234281, 20.63083317, 76.05635059, 80.05816704, 71.18975117, 70.98330444, 56.13992036, 89.36985382, 84.38736544, 82.6716892, 81.4149056, 22.60363518, 63.06844313, 69.92143863, 76.76982089, 69.2066568, 35.81711267, 26.25184749, 36.94940537, 19.95069229, 23.88237331, 21.79608472, 26.1474042, 19.49759118, 18.36136808, 69.98970461, 56.13992036, 66.21810474, 68.02351436, 59.39644014, 102.10046481, 82.96880195, 79.25686195, 74.74521151, 93.34830013, 102.05923292, 60.7883734, 40.55589449, 44.7388015, 36.11079464, 37.9986264, 35.11233175, 15.83199594, 103.96451839, 100.21241654, 90.18186347, 84.27493641, 32.38645967, 21.62494928, 24.00218436, 23.56434276, 18.78345471, 22.21725537, 25.44271071, 21.36007926, 69.37650986, 76.19877818, 14.51292942, 19.38962134, 27.75740889, 34.24717407, 48.10262495, 29.459795 , 32.80584831, 55.89556844, 40.06360581, 35.03982309, 46.33599903, 15.83199594, 25.01226779, 14.03498009, 26.90404245, 59.52231336, 54.92349014, 54.35035315, 71.39649768, 91.93424995, 82.70879915, 89.56285636, 75.45251972, 20.50128352, 16.04379287, 22.02531454, 11.32159874, 16.70430249, 18.80114574, 18.50153068, 21.00322336, 25.79385418, 23.80266582, 16.65430211, 44.35746794, 49.815853 , 49.04119063, 41.52318884, 90.72524338, 82.07906251, 84.23747672, 90.29816462, 63.55551901, 63.23059357, 57.92740995, 59.64831981, 38.45278922, 43.19643409, 41.81296121, 19.62393488, 28.99647648, 35.35456858, 27.97283229, 30.39744886, 20.57526193, 26.96758278, 37.07354237, 15.62160631, 42.92863291, 30.21771564, 36.40567571, 36.11079464, 29.70395123, 13.41514444, 25.27829944, 20.51976563, 27.54281821, 21.17188565, 20.18836167, 73.97101962, 73.09614831, 65.35749368, 73.97101962, 43.51889468, 46.80945169, 37.77255674, 39.6256851, 17.24230306, 19.49759118, 15.62160631, 13.41514444, 55.49963323, 53.18333207, 55.31736854, 42.44868923, 13.86730874, 16.48817545, 19.33574884, 27.3931002, 41.31307817, 64.63368105, 44.52069676, 35.74387954, 60.75655952, 79.87569835, 68.46177648, 62.35745431, 58.70651902, 17.41217694, 19.33574884, 13.86730874, 22.02531454, 15.75091031, 62.68013142, 68.63071356, 71.36201911, 76.80558184, 51.58836621, 48.84134317, 54.86301837, 51.73502816, 74.14661842, 72.22648148, 77.88228247, 78.24284811, 15.67003285, 31.25845963, 21.36007926, 31.60164234, 17.51450098, 17.92679488, 16.40542438, 19.96892459, 32.99310928, 28.14577056, 30.80379718, 16.40542438, 13.48998471, 16.40542438, 17.84050478, 13.48998471, 47.1451025, 58.08281541, 53.06435374, 52.02897659, 41.44433489, 36.60292926, 30.80379718, 48.98404972, 42.90189859, 47.56635225, 39.24128299, 54.56115914, 48.41447259, 48.84134317, 49.41341845, 42.76835191, 69.30854366, 19.33574884, 27.28640858, 22.02531454, 20.70504474, 26.33555201, 31.37264569, 33.93740821, 24.08222494, 33.34566004, 41.05118927, 32.52595611, 48.41447259, 16.48817545, 18.97851406, 43.84255439, 37.22278157, 34.77459916, 44.38465193, 47.00510227, 61.39441929, 57.77221268, 65.12675249, 61.07507305, 79.14790534, 68.42801405, 54.10993164, 64.63368105, 15.42864956, 16.24054679, 15.26876826, 29.68171358, 51.88189829, 63.32798377, 42.36896092, 48.6988448, 20.15170555, 19.24612787, 16.98905358, 18.88972581, 29.68171358, 28.03762169, 30.35246559, 27.20120517, 19.13885751, 16.12562794, 18.71277385, 16.9722369, 29.85984799, 34.29495526, 37.54716158, 47.59450219, 19.93246832, 30.60028577, 26.90404245, 24.66650366, 21.36007926, 18.5366546, 32.64243213, 18.5366546, 18.09999962, 22.70075058, 36.23351603, 43.97776651, 14.24983724, 19.15671509, 14.17291518, 35.25757392, 24.38356372, 26.02234705, 21.83420642, 25.81458463, 28.90864169, 28.58044785, 30.91715052, 23.6833544, 12.82391671, 14.63757021, 12.89709155, 17.75442285, 16.24054679, 17.49742615, 16.40542438, 20.42743834, 17.41217694, 23.58415722, 19.96892459, 20.33531923, 22.99334585, 28.47146626, 28.90864169, 43.43816712, 41.57579979, 35.01567018, 35.74387954, 48.5565546, 57.77221268, 38.98605581, 49.98882458, 28.25412762, 29.01845599, 23.88237331, 27.60710798, 26.54539622, 31.14448175, 34.17556473, 16.3228815, 17.0732619, 16.15842026, 18.80114574, 18.80114574, 19.42557798, 20.2434083, 20.98452475, 16.07650192, 16.07650192, 16.57113469, 36.11079464, 37.84783835, 27.82194848, 33.46359332, 29.5706502, 23.38638738, 36.23351603, 32.40968826, 18.88972581, 21.92965639, 28.68963762, 30.80379718])"
   ]
  },
  {
   "cell_type": "code",
   "execution_count": 99,
   "metadata": {},
   "outputs": [
    {
     "data": {
      "image/png": "[encoded data removed]",
      "text/plain": [
       "<matplotlib.figure.Figure at 0x1b1cd7f8588>"
      ]
     },
     "metadata": {},
     "output_type": "display_data"
    }
   ],
   "source": [
    "# Generate a scatter plot\n",
    "df.plot(kind='scatter', x='hp', y='mpg', s=sizes, edgecolor='k')\n",
    "\n",
    "# Add the title\n",
    "plt.title('Fuel efficiency vs Horse-power')\n",
    "\n",
    "# Add the x-axis label\n",
    "plt.xlabel('Horse-power')\n",
    "\n",
    "# Add the y-axis label\n",
    "plt.ylabel('Fuel efficiency (mpg)')\n",
    "\n",
    "# Display the plot\n",
    "plt.show()"
   ]
  },
  {
   "cell_type": "markdown",
   "metadata": {},
   "source": [
    "As you would expect, automobiles with higher horsepower are less fuel efficient."
   ]
  },
  {
   "cell_type": "markdown",
   "metadata": {},
   "source": [
    "## pandas box plots\n",
    "\n",
    "While pandas can plot multiple columns of data in a single figure, making plots that share the same x and y axes, there are cases where two columns cannot be plotted together because their units do not match. The .plot() method can generate subplots for each column being plotted. Here, each plot will be scaled independently.\n",
    "\n",
    "In this exercise your job is to generate box plots for fuel efficiency (mpg) and weight from the automobiles data set. To do this in a single figure, you'll specify subplots=True inside .plot() to generate two separate plots.\n",
    "\n",
    "All necessary modules have been imported and the automobiles dataset is available in the workspace as df."
   ]
  },
  {
   "cell_type": "markdown",
   "metadata": {},
   "source": [
    "Sometimes, two columns cannot be plotted together because their units do not match. The .plot() method can generate subplots for each column being plotted. Specify subplots=True inside .plot() to generate two separate plots"
   ]
  },
  {
   "cell_type": "code",
   "execution_count": 100,
   "metadata": {},
   "outputs": [
    {
     "data": {
      "image/png": "[encoded data removed]",
      "text/plain": [
       "<matplotlib.figure.Figure at 0x1b1cd9c04a8>"
      ]
     },
     "metadata": {},
     "output_type": "display_data"
    }
   ],
   "source": [
    "# Make a list of the column names to be plotted: cols\n",
    "cols = ['weight','mpg']\n",
    "\n",
    "# Generate the box plots\n",
    "df[cols].plot(kind='box',subplots=True)\n",
    "\n",
    "# Display the plot\n",
    "plt.show()"
   ]
  },
  {
   "cell_type": "markdown",
   "metadata": {},
   "source": [
    "## pandas hist, pdf and cdf\n",
    "\n",
    "Pandas relies on the .hist() method to not only generate histograms, but also plots of probability density functions (PDFs) and cumulative density functions (CDFs).\n",
    "\n",
    "In this exercise, you will work with a dataset consisting of restaurant bills that includes the amount customers tipped.\n",
    "\n",
    "The original dataset is provided by the [Seaborn package](https://github.com/mwaskom/seaborn-data/blob/master/tips.csv).\n",
    "\n",
    "Your job is to plot a PDF and CDF for the fraction column of the tips dataset. This column contains information about what fraction of the total bill comprised of the tip.\n",
    "\n",
    "Remember, when plotting the PDF, you need to specify normed=True in your call to .hist(), and when plotting the CDF, you need to specify cumulative=True in addition to normed=True.\n",
    "\n",
    "All necessary modules have been imported and the tips dataset is available in the workspace as df. Also, some formatting code has been written so that the plots you generate will appear on separate rows."
   ]
  },
  {
   "cell_type": "code",
   "execution_count": 101,
   "metadata": {},
   "outputs": [
    {
     "name": "stdout",
     "output_type": "stream",
     "text": [
      "<class 'pandas.core.frame.DataFrame'>\n",
      "RangeIndex: 244 entries, 0 to 243\n",
      "Data columns (total 8 columns):\n",
      "total_bill    244 non-null float64\n",
      "tip           244 non-null float64\n",
      "sex           244 non-null object\n",
      "smoker        244 non-null object\n",
      "day           244 non-null object\n",
      "time          244 non-null object\n",
      "size          244 non-null int64\n",
      "fraction      244 non-null float64\n",
      "dtypes: float64(3), int64(1), object(4)\n",
      "memory usage: 15.3+ KB\n"
     ]
    }
   ],
   "source": [
    "tips = pd.read_csv('tips_pd.csv')\n",
    "tips.info()"
   ]
  },
  {
   "cell_type": "code",
   "execution_count": 102,
   "metadata": {},
   "outputs": [
    {
     "data": {
      "image/png": "[encoded data removed]",
      "text/plain": [
       "<matplotlib.figure.Figure at 0x1b1ce1747b8>"
      ]
     },
     "metadata": {},
     "output_type": "display_data"
    }
   ],
   "source": [
    "fig, axes = plt.subplots(nrows=2, ncols=1)  # This formats the plots such that they appear on separate rows\n",
    "\n",
    "# Plot the pdf\n",
    "tips.fraction.plot(ax=axes[0], kind='hist', normed=True, bins=30, range=(0,.3), edgecolor='black')  # Plot the PDF\n",
    "\n",
    "# plot the cdf\n",
    "tips.fraction.plot(ax=axes[1], kind='hist', cumulative=True, normed=True, bins=30, range=(0,.3), edgecolor='black')  \n",
    "plt.show()"
   ]
  },
  {
   "cell_type": "code",
   "execution_count": 103,
   "metadata": {},
   "outputs": [
    {
     "data": {
      "image/png": "[encoded data removed]",
      "text/plain": [
       "<matplotlib.figure.Figure at 0x1b1ce174fd0>"
      ]
     },
     "metadata": {},
     "output_type": "display_data"
    }
   ],
   "source": [
    "# Plotting the same data in columns rather than rows\n",
    "\n",
    "#fig, axes = plt.subplots(nrows=2, ncols=1)  # This formats the plots such that they appear on separate rows\n",
    "\n",
    "fig, (ax1, ax2) = plt.subplots(ncols=2, figsize=(10,4))\n",
    "\n",
    "ax1.hist(tips['fraction'], normed=True, bins=30, range=(0,.3), edgecolor='black')\n",
    "ax1.set_title('Probability Distribution Function')\n",
    "ax1.set_xlabel('Probability')\n",
    "ax1.set_ylabel('Frequency')\n",
    "\n",
    "ax2.hist(tips['fraction'], cumulative=True, normed=True, bins=30, range=(0,.3), edgecolor='black')\n",
    "ax2.set_title('Cumulative Distribution Function')\n",
    "ax2.set_xlabel('Probability')\n",
    "\n",
    "plt.tight_layout()\n",
    "plt.show()\n"
   ]
  },
  {
   "cell_type": "code",
   "execution_count": 104,
   "metadata": {},
   "outputs": [
    {
     "ename": "SyntaxError",
     "evalue": "positional argument follows keyword argument (<ipython-input-104-ad15264a037a>, line 2)",
     "output_type": "error",
     "traceback": [
      "\u001b[1;36m  File \u001b[1;32m\"<ipython-input-104-ad15264a037a>\"\u001b[1;36m, line \u001b[1;32m2\u001b[0m\n\u001b[1;33m    plt.hist(ax=axes[1], tips['fraction'], cumulative=True, normed=True, bins=30, range=(0,.3), edgecolor='black')\u001b[0m\n\u001b[1;37m                        ^\u001b[0m\n\u001b[1;31mSyntaxError\u001b[0m\u001b[1;31m:\u001b[0m positional argument follows keyword argument\n"
     ]
    }
   ],
   "source": [
    "plt.subplot(1, 2, 2)\n",
    "plt.hist(ax=axes[1], tips['fraction'], cumulative=True, normed=True, bins=30, range=(0,.3), edgecolor='black')\n",
    "plt.title('Cumulative Distribution Function')\n",
    "plt.xlabel('Probability')\n",
    "\n",
    "plt.tight_layout()\n",
    "plt.show()"
   ]
  },
  {
   "cell_type": "markdown",
   "metadata": {},
   "source": [
    "# Statistical exploratory data analysis"
   ]
  },
  {
   "cell_type": "markdown",
   "metadata": {},
   "source": [
    "## Bachelor's degrees awarded to women\n",
    "\n",
    "In this exercise, you will investigate statistics of the percentage of Bachelor's degrees awarded to women from 1970 to 2011. Data is recorded every year for 17 different fields. This data set was obtained from the [Digest of Education Statistics](nces.ed.gov/programs/digest/2013menu_tables.asp).\n",
    "\n",
    "Your job is to compute the minimum and maximum values of the 'Engineering' column and generate a line plot of the mean value of all 17 academic fields per year. To perform this step, you'll use the .mean() method with the keyword argument axis='columns'. This computes the mean across all columns per row.\n",
    "\n",
    "The DataFrame has been pre-loaded for you as df with the index set to 'Year'."
   ]
  },
  {
   "cell_type": "code",
   "execution_count": null,
   "metadata": {
    "collapsed": true
   },
   "outputs": [],
   "source": [
    "df = pd.read_csv('percent-bachelors-degrees-women-usa.csv', index_col=0)\n",
    "print(df.info())\n",
    "print()\n",
    "print(df.describe())\n",
    "print()\n",
    "df.head()"
   ]
  },
  {
   "cell_type": "code",
   "execution_count": null,
   "metadata": {
    "collapsed": true
   },
   "outputs": [],
   "source": [
    "# Print the minimum value of the Engineering column\n",
    "print(df.Engineering.min())\n",
    "\n",
    "# Print the maximum value of the Engineering column\n",
    "print(df.Engineering.max())\n",
    "\n",
    "# Construct the mean percentage per year: mean\n",
    "mean = df.mean(axis='columns')\n",
    "\n",
    "# Plot the average percentage per year\n",
    "mean.plot()\n",
    "\n",
    "# Display the plot\n",
    "plt.show()"
   ]
  },
  {
   "cell_type": "markdown",
   "metadata": {},
   "source": [
    "It looks like there has generally been an upward trend since 1970."
   ]
  },
  {
   "cell_type": "code",
   "execution_count": null,
   "metadata": {
    "collapsed": true
   },
   "outputs": [],
   "source": [
    "# It is possible to compare the trends for different subjects by using subplots\n",
    "\n",
    "fig, (ax1, ax2, ax3) = plt.subplots(ncols=3, figsize=(14.5,3.5))\n",
    "\n",
    "mean = df.mean(axis='columns')\n",
    "ax1.plot(mean)  \n",
    "ax1.set_title('Total')\n",
    "\n",
    "ax2.plot(df['Education'])\n",
    "ax2.set_title('Education')\n",
    "\n",
    "ax3.plot(df['Engineering'])\n",
    "ax3.set_title('Engineering')\n",
    "\n",
    "plt.show()"
   ]
  },
  {
   "cell_type": "markdown",
   "metadata": {},
   "source": [
    "## Median vs mean\n",
    "\n",
    "In many data sets, there can be large differences in the mean and median value due to the presence of outliers.\n",
    "\n",
    "In this exercise, you'll investigate the mean, median, and max fare prices paid by passengers on the Titanic and generate a box plot of the fare prices. This data set was obtained from [Vanderbilt University](http://biostat.mc.vanderbilt.edu/wiki/pub/Main/DataSets/titanic.html)."
   ]
  },
  {
   "cell_type": "code",
   "execution_count": null,
   "metadata": {
    "collapsed": true
   },
   "outputs": [],
   "source": [
    "df = pd.read_csv('titanic.csv')\n",
    "df.head()"
   ]
  },
  {
   "cell_type": "code",
   "execution_count": null,
   "metadata": {
    "collapsed": true
   },
   "outputs": [],
   "source": [
    "df.describe()"
   ]
  },
  {
   "cell_type": "code",
   "execution_count": null,
   "metadata": {
    "collapsed": true
   },
   "outputs": [],
   "source": [
    "print(titanic.fare.describe())\n",
    "\n",
    "titanic.fare.plot(kind='box')  # Generate a box plot of the fare column\n",
    "plt.show()"
   ]
  },
  {
   "cell_type": "markdown",
   "metadata": {},
   "source": [
    "Here you can see why the median is a more informative statistic in the presence of outliers"
   ]
  },
  {
   "cell_type": "markdown",
   "metadata": {},
   "source": [
    "## Quantiles\n",
    "\n",
    "In this exercise, you'll investigate the probabilities of life expectancy in countries around the world. This dataset contains life expectancy for persons born each year from 1800 to 2015. Since country names change or results are not reported, not every country has values. This dataset was obtained from [Gapminder](https://docs.google.com/spreadsheets/d/1dgOdlUEq6_V55OHZCxz5BG_0uoghJTeA6f83br5peNs/pub?range=A1:D70&gid=1&output=html).\n",
    "\n",
    "First, you will determine the number of countries reported in 2015. There are a total of 206 unique countries in the entire dataset. Then, you will compute the 5th and 95th percentiles of life expectancy over the entire dataset. Finally, you will make a box plot of life expectancy every 50 years from 1800 to 2000. Notice the large change in the distributions over this period.\n",
    "\n",
    "* [df.quantile](https://pandas.pydata.org/pandas-docs/stable/generated/pandas.DataFrame.quantile.html)"
   ]
  },
  {
   "cell_type": "code",
   "execution_count": null,
   "metadata": {
    "collapsed": true
   },
   "outputs": [],
   "source": [
    "df = pd.read_csv('life_expectancy_at_birth.csv', index_col=0)\n",
    "df.head()"
   ]
  },
  {
   "cell_type": "code",
   "execution_count": null,
   "metadata": {
    "collapsed": true
   },
   "outputs": [],
   "source": [
    "print(df['2015'].count())  # Print the number of countries reported in 2015\n",
    "print(df.quantile([0.05, 0.95]))  # Print the 5th and 95th percentiles\n",
    "\n",
    "years = ['1800','1850','1900','1950','2000']  # Generate a box plot\n",
    "df[years].plot(kind='box')\n",
    "plt.show()"
   ]
  },
  {
   "cell_type": "markdown",
   "metadata": {},
   "source": [
    "It looks like overall, life expectancy has steadily increased since 1900"
   ]
  },
  {
   "cell_type": "markdown",
   "metadata": {},
   "source": [
    "## Standard deviation of temperature\n",
    "\n",
    "Let's use the mean and standard deviation to explore differences in temperature distributions in Pittsburgh in 2013. The data has been obtained from [Weather Underground](https://www.wunderground.com/history/).\n",
    "\n",
    "In this exercise, you're going to compare the distribution of daily temperatures in January and March. You'll compute the mean and standard deviation for these two months. You will notice that while the mean values are similar, the standard deviations are quite different, meaning that one month had a larger fluctuation in temperature than the other.\n",
    "\n",
    "The DataFrames have been pre-loaded for you as january, which contains the January data, and march, which contains the March data."
   ]
  },
  {
   "cell_type": "code",
   "execution_count": null,
   "metadata": {
    "collapsed": true
   },
   "outputs": [],
   "source": [
    "january = pd.read_csv('january.csv', index_col=0)\n",
    "march = pd.read_csv('march.csv', index_col=0)\n",
    "\n",
    "\n",
    "print('Jan mean:',january.mean())  # Print the mean of the January and March data\n",
    "print()\n",
    "print('March mean:',march.mean())\n",
    "print('\\n')\n",
    "print('Jan std:',january.std())  # Print the standard deviation of the January and March data\n",
    "print()\n",
    "print('March std:',march.std())"
   ]
  },
  {
   "cell_type": "markdown",
   "metadata": {},
   "source": [
    "# Separating populations with Boolean indexing"
   ]
  },
  {
   "cell_type": "markdown",
   "metadata": {},
   "source": [
    "Sometimes it is necessary to separate populations to get a more accurate read of the data. Look at the [Iris dataset](https://en.wikipedia.org/wiki/Iris_flower_data_set), for example (obtained [here](https://gist.github.com/curran/a08a1080b88344b0c8a7)), a multivariate dataset dealing with flowers.\n",
    "\n",
    "* [df.unique](https://pandas.pydata.org/pandas-docs/stable/generated/pandas.Series.unique.html)"
   ]
  },
  {
   "cell_type": "code",
   "execution_count": null,
   "metadata": {
    "collapsed": true
   },
   "outputs": [],
   "source": [
    "iris = pd.read_csv('iris.csv')\n",
    "iris.head()"
   ]
  },
  {
   "cell_type": "markdown",
   "metadata": {},
   "source": [
    "The species column is categorical, and implies that the different data series within the dataframe may differ by ttype"
   ]
  },
  {
   "cell_type": "code",
   "execution_count": null,
   "metadata": {
    "collapsed": true
   },
   "outputs": [],
   "source": [
    "print(iris['species'].describe())\n",
    "print()\n",
    "print(iris['species'].unique())"
   ]
  },
  {
   "cell_type": "markdown",
   "metadata": {},
   "source": [
    "There are 150 enties, with 3 unique species (the top occuring species has 50 counts - but in this case, they are tied - all have 50)\n",
    "The three species are setosa, versicolor, and virginica"
   ]
  },
  {
   "cell_type": "code",
   "execution_count": null,
   "metadata": {
    "collapsed": true
   },
   "outputs": [],
   "source": [
    "# We can make new dataframes by extracting the unique values from the species column\n",
    "\n",
    "indices = iris['species'] == 'setosa'  # subset of iris where species = setosa\n",
    "setosa = iris.loc[indices,:]  # New DataFrame composed of this subset\n",
    "\n",
    "indices = iris['species'] == 'versicolor'  \n",
    "versicolor = iris.loc[indices,:] \n",
    "\n",
    "indices = iris['species'] == 'virginica'\n",
    "virginica = iris.loc[indices,:] \n"
   ]
  },
  {
   "cell_type": "code",
   "execution_count": null,
   "metadata": {
    "collapsed": true
   },
   "outputs": [],
   "source": [
    "\n",
    "# Check what unique values exist in the new dataframes' species columns\n",
    "print(setosa['species'].unique())\n",
    "print(versicolor['species'].unique())\n",
    "print(virginica['species'].unique())\n",
    "\n",
    "# So we can can delete the 'species' column given that each will have only one species in it\n",
    "del setosa['species'], versicolor['species'], virginica['species']\n"
   ]
  },
  {
   "cell_type": "code",
   "execution_count": null,
   "metadata": {
    "collapsed": true
   },
   "outputs": [],
   "source": [
    "# Note that in this case, the indexes are consecutive. Versicolor starts at 50 and stops at 99. \n",
    "# Usually, categories will not be so neatly ordered, and we will learn later how to deal with this\n",
    "\n",
    "print(setosa.head(2))\n",
    "print()\n",
    "print(versicolor.head(2))\n",
    "print()\n",
    "print(virginica.head(2))\n"
   ]
  },
  {
   "cell_type": "code",
   "execution_count": null,
   "metadata": {
    "collapsed": true
   },
   "outputs": [],
   "source": [
    "# Plotting a histogram with the different species leads to much overlap and lack of clarity\n",
    "\n",
    "iris.plot(kind= 'hist', bins=50, range=(0,8), alpha=0.3, edgecolor='black')\n",
    "plt.title('Entire iris data set')\n",
    "plt.xlabel('[cm]')\n",
    "plt.show()\n"
   ]
  },
  {
   "cell_type": "code",
   "execution_count": null,
   "metadata": {
    "collapsed": true
   },
   "outputs": [],
   "source": [
    "# Doing this separately for the different species increases visual clarity\n",
    "fig, (ax1, ax2, ax3) = plt.subplots(ncols=3, figsize=(14.5,3.5))\n",
    "\n",
    "setosa.plot(ax=ax1, kind='hist', bins=50, range=(0,8), alpha=0.3)\n",
    "\n",
    "ax1.set_title('Setosa data set')\n",
    "ax1.set_title('Setosa data set')\n",
    "ax1.set_xlabel('[cm]')\n",
    "\n",
    "versicolor.plot(ax=ax2, kind='hist', bins=50, range=(0,8), alpha=0.3)\n",
    "ax2.set_title('Versicolor data set')\n",
    "ax2.set_xlabel('[cm]')\n",
    "\n",
    "virginica.plot(ax=ax3, kind='hist', bins=50, range=(0,8), alpha=0.3)\n",
    "ax3.set_title('Virginica data set')\n",
    "ax3.set_xlabel('[cm]')\n",
    "\n",
    "plt.show()\n"
   ]
  },
  {
   "cell_type": "code",
   "execution_count": null,
   "metadata": {
    "collapsed": true
   },
   "outputs": [],
   "source": [
    "# Describing the entire dataframe versus the individual factors leads to quantiative errors. \n",
    "\n",
    "describe_all = iris.describe()\n",
    "print(describe_all)"
   ]
  },
  {
   "cell_type": "code",
   "execution_count": null,
   "metadata": {
    "collapsed": true
   },
   "outputs": [],
   "source": [
    "# To demonstrate this, we create a describe for each factor then see how much this differs from the \n",
    "# entire dataset describe\n",
    "\n",
    "describe_setosa = setosa.describe()\n",
    "describe_versicolor = versicolor.describe()\n",
    "describe_virginica = virginica.describe()"
   ]
  },
  {
   "cell_type": "code",
   "execution_count": null,
   "metadata": {
    "collapsed": true
   },
   "outputs": [],
   "source": [
    "# We calcualte the difference of the descriptive statistics from the entire dataset as a proportion of the \n",
    "# factor statistic. This is (absolute(dataset = factor)*100 / factor)\n",
    "\n",
    "error_setosa = 100 * np.abs(describe_setosa - describe_all)\n",
    "error_setosa = error_setosa/describe_setosa\n",
    "\n",
    "error_versicolor = 100 * np.abs(describe_versicolor - describe_all)\n",
    "error_versicolor = error_versicolor/describe_versicolor\n",
    "\n",
    "error_virginica = 100 * np.abs(describe_virginica - describe_all)\n",
    "error_virginica = error_virginica/describe_virginica\n"
   ]
  },
  {
   "cell_type": "code",
   "execution_count": null,
   "metadata": {
    "collapsed": true
   },
   "outputs": [],
   "source": [
    "print(error_setosa)"
   ]
  },
  {
   "cell_type": "markdown",
   "metadata": {},
   "source": [
    "## Separate and summarize\n",
    "\n",
    "Let's use population filtering to determine how the automobiles in the US differ from the global average and standard deviation. How the distribution of fuel efficiency (MPG) for the US differ from the global average and standard deviation?\n",
    "\n",
    "In this exercise, you'll compute the means and standard deviations of all columns in the full automobile dataset. Next, you'll compute the same quantities for just the US population and subtract the global values from the US values.\n"
   ]
  },
  {
   "cell_type": "code",
   "execution_count": null,
   "metadata": {
    "collapsed": true
   },
   "outputs": [],
   "source": [
    "# Load the data\n",
    "df = pd.read_csv('auto-mpg.csv')\n",
    "\n",
    "# Compute the global mean and global standard deviation: global_mean, global_std\n",
    "global_mean = auto.mean()\n",
    "global_std = auto.std()\n",
    "\n",
    "us = auto[auto['origin'] == 'US']  # Filter the US population from the origin column: us\n",
    "\n",
    "us_mean = us.mean()  # Compute the US mean and US standard deviation: us_mean, us_std\n",
    "us_std = us.std()\n",
    "\n",
    "print('Mean difference')\n",
    "print(us_mean - global_mean)  # Print the differences\n",
    "print()\n",
    "print('Standard Deviation difference')\n",
    "print(us_std - global_std)\n",
    "\n",
    "# Iit looks like US automobiles weigh more than the global mean (and there is much less variability in that)."
   ]
  },
  {
   "cell_type": "markdown",
   "metadata": {},
   "source": [
    "## Separate and plot\n",
    "\n",
    "Population filtering can be used alongside plotting to quickly determine differences in distributions between the sub-populations. You'll work with the Titanic dataset.\n",
    "\n",
    "There were three passenger classes on the Titanic, and passengers in each class paid a different fare price. In this exercise, you'll investigate the differences in these fare prices.\n",
    "\n",
    "Your job is to use Boolean filtering and generate box plots of the fare prices for each of the three passenger classes. The fare prices are contained in the 'fare' column and passenger class information is contained in the 'pclass' column.\n",
    "\n",
    "When you're done, notice the portions of the box plots that differ and those that are similar.\n"
   ]
  },
  {
   "cell_type": "code",
   "execution_count": null,
   "metadata": {
    "collapsed": true
   },
   "outputs": [],
   "source": [
    "# Load the data\n",
    "titanic = pd.read_csv('titanic.csv')\n",
    "\n",
    "# Display the box plots on 3 separate rows and 1 column\n",
    "fig, (ax1, ax2, ax3) = plt.subplots(ncols=3, figsize=(8.5, 3.5))\n",
    "\n",
    "# Generate a box plot of the fare prices for the First passenger class\n",
    "titanic.loc[titanic['pclass'] == 1].plot(ax=ax1, y='fare', kind='box')\n",
    "ax1.set_title('Class 1')\n",
    "\n",
    "# Generate a box plot of the fare prices for the Second passenger class\n",
    "titanic.loc[titanic['pclass'] == 2].plot(ax=ax2, y='fare', kind='box')\n",
    "ax2.set_title('Class 2')\n",
    "\n",
    "# Generate a box plot of the fare prices for the Third passenger class\n",
    "titanic.loc[titanic['pclass'] == 3].plot(ax=ax3, y='fare', kind='box')\n",
    "ax3.set_title('Class 3')\n",
    "\n",
    "# Display the plot\n",
    "plt.tight_layout()\n",
    "plt.show()\n"
   ]
  },
  {
   "cell_type": "markdown",
   "metadata": {
    "collapsed": true
   },
   "source": [
    "## Appendix: Methods\n",
    "* [df.quantile](https://pandas.pydata.org/pandas-docs/stable/generated/pandas.DataFrame.quantile.html)\n",
    "* [df.unique](https://pandas.pydata.org/pandas-docs/stable/generated/pandas.Series.unique.html)\n"
   ]
  }
 ],
 "metadata": {
  "kernelspec": {
   "display_name": "Python 3",
   "language": "python",
   "name": "python3"
  },
  "language_info": {
   "codemirror_mode": {
    "name": "ipython",
    "version": 3
   },
   "file_extension": ".py",
   "mimetype": "text/x-python",
   "name": "python",
   "nbconvert_exporter": "python",
   "pygments_lexer": "ipython3",
   "version": "3.6.1"
  }
 },
 "nbformat": 4,
 "nbformat_minor": 2
}
