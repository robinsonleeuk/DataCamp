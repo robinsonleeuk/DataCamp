{
 "cells": [
  {
   "attachments": {},
   "cell_type": "markdown",
   "metadata": {
    "collapsed": true
   },
   "source": [
    "# WDI Case Study\n",
    "## Table of Contents\n",
    "<a href=\"#Importing-modules\"<p style=\"text-decoration: none;\"></span></span>Importing modules</a></div>\n",
    "\n",
    "<a href=\"#Welcome-to-the-case-study!\"</span>01. </span>Welcome to the case study!</a></div>\n",
    "\n",
    "<a href=\"#Dictionaries-for-data-science\"<p style=\"text-decoration: none;\"></span>&nbsp;&nbsp;&nbsp;1a. </span>Dictionaries for data science</a></div>\n",
    "\n",
    "<a href=\"#Writing-a-function-to-help-you\"<p style=\"text-decoration: none;\"></span>&nbsp;&nbsp;&nbsp;1b. </span>Writing a function to help you</a></div>\n",
    "\n",
    "<a href=\"#Using-a-list-comprehension\"<p style=\"text-decoration: none;\"></span>&nbsp;&nbsp;&nbsp;1c. </span>Using a list comprehension</a></div>\n",
    "\n",
    "<a href=\"#Turning-this-all-into-a-DataFrame\"<p style=\"text-decoration: none;\"></span>&nbsp;&nbsp;&nbsp;1d. </span>Turning this all into a DataFrame</a></div>\n",
    "\n",
    "<a href=\"#Using-Python-generators-for-streaming-data\"</span>02. </span>Using Python generators for streaming data</a></div>\n",
    "\n",
    "<a href=\"#Processing-data-in-chunks-(1)\"<p style=\"text-decoration: none;\"></span>&nbsp;&nbsp;&nbsp;2a. </span>Processing data in chunks (1)</a></div>\n",
    "\n",
    "<a href=\"#Writing-a-generator-to-load-data-in-chunks-(2)\"<p style=\"text-decoration: none;\"></span>&nbsp;&nbsp;&nbsp;2b. </span>Writing a generator to load data in chunks (2)</a></div>\n",
    "\n",
    "<a href=\"#Writing-a-generator-to-load-data-in-chunks-(3)\"<p style=\"text-decoration: none;\"></span>&nbsp;&nbsp;&nbsp;2c. </span>Writing a generator to load data in chunks (3)</a></div>\n",
    "\n",
    "<a href=\"#Using-pandas`-read_csv-iterator-for-streaming-data\"</span>03. </span>Using pandas' read_csv iterator for streaming data</a></div>\n",
    "\n",
    "<a href=\"#Writing-an-iterator-to-load-data-in-chunks-(1)\"<p style=\"text-decoration: none;\"></span>&nbsp;&nbsp;&nbsp;3a. </span>Writing an iterator to load data in chunks (1)</a></div>\n",
    "\n",
    "<a href=\"#Writing-an-iterator-to-load-data-in-chunks-(2)\"<p style=\"text-decoration: none;\"></span>&nbsp;&nbsp;&nbsp;3b. </span>Writing an iterator to load data in chunks (2)</a></div>\n",
    "\n",
    "<a href=\"#Writing-an-iterator-to-load-data-in-chunks-(3)\"<p style=\"text-decoration: none;\"></span>&nbsp;&nbsp;&nbsp;3c. </span>Writing an iterator to load data in chunks (3)</a></div>\n",
    "\n",
    "<a href=\"#Writing-an-iterator-to-load-data-in-chunks-(4)\"<p style=\"text-decoration: none;\"></span>&nbsp;&nbsp;&nbsp;3d. </span>Writing an iterator to load data in chunks (4)</a></div>\n",
    "\n",
    "<a href=\"#Writing-an-iterator-to-load-data-in-chunks-(5)\"<p style=\"text-decoration: none;\"></span>&nbsp;&nbsp;&nbsp;3e. </span>Writing an iterator to load data in chunks (5)</a></div>\n",
    "\n",
    "<a href=\"#Appendix:-Methods\"<p style=\"text-decoration: none;\"></span></span>Appendix: Methods</a></div>"
   ]
  },
  {
   "cell_type": "markdown",
   "metadata": {},
   "source": [
    "## Importing modules"
   ]
  },
  {
   "cell_type": "code",
   "execution_count": 1,
   "metadata": {
    "collapsed": true
   },
   "outputs": [],
   "source": [
    "import pandas as pd\n",
    "import matplotlib.pyplot as plt"
   ]
  },
  {
   "cell_type": "markdown",
   "metadata": {},
   "source": [
    "# Welcome to the case study!"
   ]
  },
  {
   "cell_type": "markdown",
   "metadata": {},
   "source": [
    "## Dictionaries for data science\n",
    "\n",
    "For this exercise, you'll use what you've learned about the zip() function and combine two lists into a dictionary.\n",
    "\n",
    "These lists are actually extracted from a bigger dataset file of world development indicators from the World Bank. For pedagogical purposes, we have pre-processed this dataset into the lists that you'll be working with.\n",
    "\n",
    "The first list feature_names contains header names of the dataset and the second list row_vals contains actual values of a row from the dataset, corresponding to each of the header names."
   ]
  },
  {
   "cell_type": "code",
   "execution_count": 20,
   "metadata": {},
   "outputs": [],
   "source": [
    "# Load the data\n",
    "wdi = pd.read_csv('wdi.csv')"
   ]
  },
  {
   "cell_type": "markdown",
   "metadata": {},
   "source": [
    "### Get the header data"
   ]
  },
  {
   "cell_type": "code",
   "execution_count": 21,
   "metadata": {},
   "outputs": [
    {
     "data": {
      "text/plain": [
       "['CountryName',\n",
       " 'CountryCode',\n",
       " 'IndicatorName',\n",
       " \"IndicatorCode'\",\n",
       " 'Year',\n",
       " 'Value']"
      ]
     },
     "execution_count": 21,
     "metadata": {},
     "output_type": "execute_result"
    }
   ],
   "source": [
    "feature_names = list(wdi.columns)\n",
    "feature_names"
   ]
  },
  {
   "cell_type": "markdown",
   "metadata": {},
   "source": [
    "### Get the first row data"
   ]
  },
  {
   "cell_type": "code",
   "execution_count": 22,
   "metadata": {},
   "outputs": [
    {
     "name": "stdout",
     "output_type": "stream",
     "text": [
      "['Arab World', 'ARB', 'Age dependency ratio (% of working-age population)', 'SP.POP.DPND', 1960, 87.797601150000006]\n"
     ]
    }
   ],
   "source": [
    "# Create a list of the data in the first row of data for illustration purposes\n",
    "row_vals = []\n",
    "for entry in wdi.iloc[1]:\n",
    "    row_vals.append(entry)\n",
    "\n",
    "print(row_vals)"
   ]
  },
  {
   "cell_type": "code",
   "execution_count": 17,
   "metadata": {},
   "outputs": [
    {
     "name": "stdout",
     "output_type": "stream",
     "text": [
      "{'CountryName': 'Arab World', 'CountryCode': 'ARB', 'IndicatorName': 'Age dependency ratio (% of working-age population)', \"IndicatorCode'\": 'SP.POP.DPND', 'Year': 1960, 'Value': 87.797601150000006}\n"
     ]
    }
   ],
   "source": [
    "# Zip lists: zipped_lists\n",
    "zipped_lists = zip(feature_names, row_vals)\n",
    "\n",
    "# Create a dictionary: rs_dict\n",
    "rs_dict = dict(zipped_lists)\n",
    "\n",
    "# Print the dictionary\n",
    "print(rs_dict)"
   ]
  },
  {
   "cell_type": "markdown",
   "metadata": {},
   "source": [
    "## Writing a function to help you\n",
    "\n",
    "Suppose you needed to repeat the same process done in the previous exercise to many, many rows of data. Rewriting your code again and again could become very tedious, repetitive, and unmaintainable.\n",
    "\n",
    "In this exercise, you will create a function to house the code you wrote earlier to make things easier and much more concise. Why? This way, you only need to call the function and supply the appropriate lists to create your dictionaries! Again, the lists feature_names and row_vals are preloaded and these contain the header names of the dataset and actual values of a row from the dataset, respectively."
   ]
  },
  {
   "cell_type": "code",
   "execution_count": 8,
   "metadata": {},
   "outputs": [
    {
     "name": "stdout",
     "output_type": "stream",
     "text": [
      "{'CountryCode': 'Arab World', 'IndicatorName': 'ARB', \"IndicatorCode'\": 'Age dependency ratio (% of working-age population)', 'Year': 'SP.POP.DPND', 'Value': 1960}\n"
     ]
    }
   ],
   "source": [
    "# Define lists2dict()\n",
    "def lists2dict(list1, list2):\n",
    "    \"\"\"Return a dictionary where list1 provides the keys and list2 provides the values.\"\"\"\n",
    "\n",
    "    zipped_lists = zip(list1, list2) # Create a zip object from two lists\n",
    "    rs_dict = dict(zipped_lists) # create a dictionary from the zip object of the two lists\n",
    "    return rs_dict\n",
    "    \n",
    "rs_fxn = lists2dict(feature_names, row_vals) # Call lists2dict: rs_fxn\n",
    "print(rs_fxn)"
   ]
  },
  {
   "cell_type": "markdown",
   "metadata": {},
   "source": [
    "## Using a list comprehension\n",
    "\n",
    "This time, you're going to use the lists2dict() function you defined in the last exercise to turn a bunch of lists into a list of dictionaries with the help of a list comprehension.\n",
    "\n",
    "The lists2dict() function has already been preloaded, together with a couple of lists, feature_names and row_lists. feature_names contains the header names of the World Bank dataset and row_lists is a list of lists, where each sublist is a list of actual values of a row from the dataset.\n",
    "\n",
    "Your goal is to use a list comprehension to generate a list of dicts, where the keys are the header names and the values are the row entries.\n",
    "\n",
    "Firstly, we will create a row list which is all of the rows from wdi (row_vals was only the first row of data)"
   ]
  },
  {
   "cell_type": "code",
   "execution_count": 9,
   "metadata": {},
   "outputs": [
    {
     "name": "stdout",
     "output_type": "stream",
     "text": [
      "['Arab World', 'ARB', 'Adolescent fertility rate (births per 1,000 women ages 15-19)', 'SP.ADO.TFRT', 1960, 133.5609074]\n",
      "['Arab World', 'ARB', 'Age dependency ratio (% of working-age population)', 'SP.POP.DPND', 1960, 87.79760115]\n",
      "['Arab World', 'ARB', 'Age dependency ratio, old (% of working-age population)', 'SP.POP.DPND.OL', 1960, 6.634579192]\n",
      "['Arab World', 'ARB', 'Age dependency ratio, young (% of working-age population)', 'SP.POP.DPND.YG', 1960, 81.02332951]\n",
      "['Arab World', 'ARB', 'Arms exports (SIPRI trend indicator values)', 'MS.MIL.XPRT.KD', 1960, 3000000.0]\n"
     ]
    }
   ],
   "source": [
    "row_lists = []\n",
    "for index, row in wdi.iterrows():\n",
    "    row_lists.append(list(row))\n",
    "\n",
    "for row in row_lists[:5]: #print the first five rows for illustration purposes\n",
    "    print(row)"
   ]
  },
  {
   "cell_type": "code",
   "execution_count": 10,
   "metadata": {},
   "outputs": [
    {
     "name": "stdout",
     "output_type": "stream",
     "text": [
      "{'CountryCode': 'Arab World', 'IndicatorName': 'ARB', \"IndicatorCode'\": 'Adolescent fertility rate (births per 1,000 women ages 15-19)', 'Year': 'SP.ADO.TFRT', 'Value': 1960}\n",
      "{'CountryCode': 'Arab World', 'IndicatorName': 'ARB', \"IndicatorCode'\": 'Age dependency ratio (% of working-age population)', 'Year': 'SP.POP.DPND', 'Value': 1960}\n"
     ]
    }
   ],
   "source": [
    "list_of_dicts = [lists2dict(feature_names, sublist) for sublist in row_lists]\n",
    "\n",
    "# Print the first two dictionaries in list_of_dicts\n",
    "print(list_of_dicts[0])\n",
    "print(list_of_dicts[1])"
   ]
  },
  {
   "cell_type": "markdown",
   "metadata": {},
   "source": [
    "## Turning this all into a DataFrame\n",
    "\n",
    "You've zipped lists together, created a function to house your code, and even used the function in a list comprehension to generate a list of dictionaries. That was a lot of work and you did a great job!\n",
    "\n",
    "You will now use of all these to convert the list of dictionaries into a pandas DataFrame. You will see how convenient it is to generate a DataFrame from dictionaries with the DataFrame() function from the pandas package.\n",
    "\n",
    "The lists2dict() function, feature_names list, and row_lists list have been preloaded for this exercise.\n",
    "\n",
    "Go for it!"
   ]
  },
  {
   "cell_type": "code",
   "execution_count": 11,
   "metadata": {},
   "outputs": [
    {
     "data": {
      "text/html": [
       "<div>\n",
       "<style>\n",
       "    .dataframe thead tr:only-child th {\n",
       "        text-align: right;\n",
       "    }\n",
       "\n",
       "    .dataframe thead th {\n",
       "        text-align: left;\n",
       "    }\n",
       "\n",
       "    .dataframe tbody tr th {\n",
       "        vertical-align: top;\n",
       "    }\n",
       "</style>\n",
       "<table border=\"1\" class=\"dataframe\">\n",
       "  <thead>\n",
       "    <tr style=\"text-align: right;\">\n",
       "      <th></th>\n",
       "      <th>CountryCode</th>\n",
       "      <th>IndicatorCode'</th>\n",
       "      <th>IndicatorName</th>\n",
       "      <th>Value</th>\n",
       "      <th>Year</th>\n",
       "    </tr>\n",
       "  </thead>\n",
       "  <tbody>\n",
       "    <tr>\n",
       "      <th>0</th>\n",
       "      <td>Arab World</td>\n",
       "      <td>Adolescent fertility rate (births per 1,000 wo...</td>\n",
       "      <td>ARB</td>\n",
       "      <td>1960</td>\n",
       "      <td>SP.ADO.TFRT</td>\n",
       "    </tr>\n",
       "    <tr>\n",
       "      <th>1</th>\n",
       "      <td>Arab World</td>\n",
       "      <td>Age dependency ratio (% of working-age populat...</td>\n",
       "      <td>ARB</td>\n",
       "      <td>1960</td>\n",
       "      <td>SP.POP.DPND</td>\n",
       "    </tr>\n",
       "    <tr>\n",
       "      <th>2</th>\n",
       "      <td>Arab World</td>\n",
       "      <td>Age dependency ratio, old (% of working-age po...</td>\n",
       "      <td>ARB</td>\n",
       "      <td>1960</td>\n",
       "      <td>SP.POP.DPND.OL</td>\n",
       "    </tr>\n",
       "    <tr>\n",
       "      <th>3</th>\n",
       "      <td>Arab World</td>\n",
       "      <td>Age dependency ratio, young (% of working-age ...</td>\n",
       "      <td>ARB</td>\n",
       "      <td>1960</td>\n",
       "      <td>SP.POP.DPND.YG</td>\n",
       "    </tr>\n",
       "    <tr>\n",
       "      <th>4</th>\n",
       "      <td>Arab World</td>\n",
       "      <td>Arms exports (SIPRI trend indicator values)</td>\n",
       "      <td>ARB</td>\n",
       "      <td>1960</td>\n",
       "      <td>MS.MIL.XPRT.KD</td>\n",
       "    </tr>\n",
       "  </tbody>\n",
       "</table>\n",
       "</div>"
      ],
      "text/plain": [
       "  CountryCode                                     IndicatorCode'  \\\n",
       "0  Arab World  Adolescent fertility rate (births per 1,000 wo...   \n",
       "1  Arab World  Age dependency ratio (% of working-age populat...   \n",
       "2  Arab World  Age dependency ratio, old (% of working-age po...   \n",
       "3  Arab World  Age dependency ratio, young (% of working-age ...   \n",
       "4  Arab World        Arms exports (SIPRI trend indicator values)   \n",
       "\n",
       "  IndicatorName  Value            Year  \n",
       "0           ARB   1960     SP.ADO.TFRT  \n",
       "1           ARB   1960     SP.POP.DPND  \n",
       "2           ARB   1960  SP.POP.DPND.OL  \n",
       "3           ARB   1960  SP.POP.DPND.YG  \n",
       "4           ARB   1960  MS.MIL.XPRT.KD  "
      ]
     },
     "execution_count": 11,
     "metadata": {},
     "output_type": "execute_result"
    }
   ],
   "source": [
    "# Turn list of dicts into a DataFrame: df\n",
    "df = pd.DataFrame(list_of_dicts)\n",
    "\n",
    "# Print the head of the DataFrame\n",
    "df.head()"
   ]
  },
  {
   "cell_type": "markdown",
   "metadata": {},
   "source": [
    "# Using Python generators for streaming data"
   ]
  },
  {
   "cell_type": "markdown",
   "metadata": {},
   "source": [
    "## Processing data in chunks (1)\n",
    "\n",
    "Sometimes, data sources can be so large in size that storing the entire dataset in memory becomes too resource-intensive. In this exercise, you will process the first 1000 rows of a file line by line, to create a dictionary of the counts of how many times each country appears in a column in the dataset.\n",
    "\n",
    "The csv file 'world_dev_ind.csv' is in your current directory for your use. To begin, you need to open a connection to this file using what is known as a context manager. For example, the command with open('datacamp.csv') as datacamp binds the csv file 'datacamp.csv' as datacamp in the context manager. Here, the with statement is the context manager, and its purpose is to ensure that resources are efficiently allocated when opening a connection to a file.\n",
    "\n",
    "If you'd like to learn more about context managers, refer to the DataCamp course on [Importing Data in Python](https://www.datacamp.com/courses/importing-data-in-python-part-1).\n",
    "\n",
    "* [Context managers](https://docs.python.org/3/library/contextlib.html)"
   ]
  },
  {
   "cell_type": "code",
   "execution_count": 13,
   "metadata": {},
   "outputs": [
    {
     "name": "stdout",
     "output_type": "stream",
     "text": [
      "{'Arab World': 80, 'Caribbean small states': 77, 'Central Europe and the Baltics': 71, 'East Asia & Pacific (all income levels)': 122, 'East Asia & Pacific (developing only)': 123, 'Euro area': 119, 'Europe & Central Asia (all income levels)': 109, 'Europe & Central Asia (developing only)': 89, 'European Union': 116, 'Fragile and conflict affected situations': 76, 'Heavily indebted poor countries (HIPC)': 18}\n"
     ]
    }
   ],
   "source": [
    "# Open a connection to the file\n",
    "# This returns a dictionary with the count of entries of each item in the first column of a csv\n",
    "with open('world_dev_ind.csv') as file:\n",
    "\n",
    "    # Skip the column names - file.readline reads the current line and moves to the next one (thus skipping header here)\n",
    "    file.readline()\n",
    "\n",
    "    # Initialize an empty dictionary: counts_dict\n",
    "    counts_dict = {}\n",
    "\n",
    "    # Process only the first 1000 rows\n",
    "    for j in range(1000):\n",
    "\n",
    "        # Split the current line into a list, with separate entries separated by commas (it's a CSV)\n",
    "        line = file.readline().split(',')\n",
    "\n",
    "        # Get the value for the first column: first_col\n",
    "        first_col = line[0]\n",
    "\n",
    "        # If the column value is in the dict, increment its value\n",
    "        if first_col in counts_dict.keys():\n",
    "            counts_dict[first_col] += 1\n",
    "\n",
    "        # Else, add to the dict and set value to 1\n",
    "        else:\n",
    "            counts_dict[first_col] = 1\n",
    "\n",
    "# Print the resulting dictionary\n",
    "print(counts_dict)"
   ]
  },
  {
   "cell_type": "markdown",
   "metadata": {},
   "source": [
    "## Writing a generator to load data in chunks (2)\n",
    "\n",
    "In the previous exercise, you processed a file line by line for a given number of lines. What if, however, you want to do this for the entire file?\n",
    "\n",
    "In this case, it would be useful to use generators. Generators allow users to lazily evaluate data. This concept of lazy evaluation is useful when you have to deal with very large datasets because it lets you generate values in an efficient manner by yielding only chunks of data at a time instead of the whole thing at once.\n",
    "\n",
    "In this exercise, you will define a generator function read_large_file() that produces a generator object which yields a single line from a file each time next() is called on it. The csv file 'world_dev_ind.csv' is in your current directory for your use.\n",
    "\n",
    "Note that when you open a connection to a file, the resulting file object is already a generator! So out in the wild, you won't have to explicitly create generator objects in cases such as this. However, for pedagogical reasons, we are having you practice how to do this here with the read_large_file() function. Go for it!"
   ]
  },
  {
   "cell_type": "code",
   "execution_count": 17,
   "metadata": {},
   "outputs": [
    {
     "name": "stdout",
     "output_type": "stream",
     "text": [
      "Arab World,ARB,\"Adolescent fertility rate (births per 1,000 women ages 15-19)\",SP.ADO.TFRT,1960,133.5609074\n",
      "\n",
      "Arab World,ARB,Age dependency ratio (% of working-age population),SP.POP.DPND,1960,87.79760115\n",
      "\n",
      "Arab World,ARB,\"Age dependency ratio, old (% of working-age population)\",SP.POP.DPND.OL,1960,6.634579192\n",
      "\n"
     ]
    }
   ],
   "source": [
    "# Define read_large_file()\n",
    "def read_large_file(file_object):\n",
    "    \"\"\"A generator function to read a large file lazily.\"\"\"\n",
    "    \n",
    "    # Skip the header row\n",
    "    file_object.readline()\n",
    "\n",
    "    while True: # Loop indefinitely until the end of the file (specified later in the loop)\n",
    "\n",
    "        data = file_object.readline() # Read a line from the file: data\n",
    "        if not data: # Break if this is the end of the file\n",
    "            break\n",
    "\n",
    "        yield data\n",
    "        \n",
    "# Open a connection to the file using a context generator\n",
    "with open('world_dev_ind.csv') as file:\n",
    "\n",
    "    # Create a generator object for the file: gen_file\n",
    "    gen_file = read_large_file(file)\n",
    "\n",
    "    # Print the first three lines of the file\n",
    "    print(next(gen_file))\n",
    "    print(next(gen_file))\n",
    "    print(next(gen_file))"
   ]
  },
  {
   "cell_type": "markdown",
   "metadata": {},
   "source": [
    "## Writing a generator to load data in chunks (3)\n",
    "\n",
    "Great! You've just created a generator function that you can use to help you process large files.\n",
    "\n",
    "Now let's use your generator function to process the World Bank dataset like you did previously. You will process the file line by line, to create a dictionary of the counts of how many times each country appears in a column in the dataset. For this exercise, however, you won't process just 1000 rows of data, you'll process the entire dataset!\n",
    "\n",
    "The generator function read_large_file() and the csv file 'world_dev_ind.csv' are preloaded and ready for your use. Go for it!"
   ]
  },
  {
   "cell_type": "code",
   "execution_count": 18,
   "metadata": {},
   "outputs": [
    {
     "name": "stdout",
     "output_type": "stream",
     "text": [
      "{'Arab World': 80, 'Caribbean small states': 77, 'Central Europe and the Baltics': 71, 'East Asia & Pacific (all income levels)': 122, 'East Asia & Pacific (developing only)': 123, 'Euro area': 119, 'Europe & Central Asia (all income levels)': 109, 'Europe & Central Asia (developing only)': 89, 'European Union': 116, 'Fragile and conflict affected situations': 76, 'Heavily indebted poor countries (HIPC)': 99, 'High income': 131, 'High income: nonOECD': 68, 'High income: OECD': 127, 'Latin America & Caribbean (all income levels)': 130, 'Latin America & Caribbean (developing only)': 133, 'Least developed countries: UN classification': 78, 'Low & middle income': 138, 'Low income': 80, 'Lower middle income': 126, 'Middle East & North Africa (all income levels)': 89, 'Middle East & North Africa (developing only)': 94, 'Middle income': 138, 'North America': 123, 'OECD members': 130, 'Other small states': 63, 'Pacific island small states': 66, 'Small states': 69, 'South Asia': 36}\n"
     ]
    }
   ],
   "source": [
    "# Initialize an empty dictionary: counts_dict\n",
    "counts_dict = {}\n",
    "\n",
    "# Open a connection to the file\n",
    "with open('world_dev_ind.csv') as file:\n",
    "\n",
    "    # Iterate over the generator from read_large_file()\n",
    "    for line in read_large_file(file):\n",
    "\n",
    "        row = line.split(',')\n",
    "        first_col = row[0]\n",
    "\n",
    "        if first_col in counts_dict.keys():\n",
    "            counts_dict[first_col] += 1\n",
    "        else:\n",
    "            counts_dict[first_col] = 1\n",
    "\n",
    "print(counts_dict)\n"
   ]
  },
  {
   "cell_type": "markdown",
   "metadata": {},
   "source": [
    "# Using pandas' read_csv iterator for streaming data"
   ]
  },
  {
   "cell_type": "markdown",
   "metadata": {},
   "source": [
    "## Writing an iterator to load data in chunks (1)\n",
    "\n",
    "Another way to read data too large to store in memory in chunks is to read the file in as DataFrames of a certain length, say, 100. For example, with the pandas package (imported as pd), you can do pd.read_csv(filename, chunksize=100). This creates an iterable reader object, which means that you can use next() on it.\n",
    "\n",
    "In this exercise, you will read a file in small DataFrame chunks with read_csv(). You're going to use the World Bank Indicators data 'ind_pop.csv', available in your current directory, to look at the urban population indicator for numerous countries and years."
   ]
  },
  {
   "cell_type": "code",
   "execution_count": 21,
   "metadata": {},
   "outputs": [
    {
     "name": "stdout",
     "output_type": "stream",
     "text": [
      "  CountryName CountryCode                                      IndicatorName  \\\n",
      "0  Arab World         ARB  Adolescent fertility rate (births per 1,000 wo...   \n",
      "1  Arab World         ARB  Age dependency ratio (% of working-age populat...   \n",
      "2  Arab World         ARB  Age dependency ratio, old (% of working-age po...   \n",
      "3  Arab World         ARB  Age dependency ratio, young (% of working-age ...   \n",
      "4  Arab World         ARB        Arms exports (SIPRI trend indicator values)   \n",
      "5  Arab World         ARB        Arms imports (SIPRI trend indicator values)   \n",
      "6  Arab World         ARB               Birth rate, crude (per 1,000 people)   \n",
      "7  Arab World         ARB                                 CO2 emissions (kt)   \n",
      "8  Arab World         ARB             CO2 emissions (metric tons per capita)   \n",
      "9  Arab World         ARB  CO2 emissions from gaseous fuel consumption (%...   \n",
      "\n",
      "       IndicatorCode  Year         Value  \n",
      "0        SP.ADO.TFRT  1960  1.335609e+02  \n",
      "1        SP.POP.DPND  1960  8.779760e+01  \n",
      "2     SP.POP.DPND.OL  1960  6.634579e+00  \n",
      "3     SP.POP.DPND.YG  1960  8.102333e+01  \n",
      "4     MS.MIL.XPRT.KD  1960  3.000000e+06  \n",
      "5     MS.MIL.MPRT.KD  1960  5.380000e+08  \n",
      "6     SP.DYN.CBRT.IN  1960  4.769789e+01  \n",
      "7     EN.ATM.CO2E.KT  1960  5.956399e+04  \n",
      "8     EN.ATM.CO2E.PC  1960  6.439635e-01  \n",
      "9  EN.ATM.CO2E.GF.ZS  1960  5.041292e+00  \n",
      "\n",
      "   CountryName CountryCode                                      IndicatorName  \\\n",
      "10  Arab World         ARB  CO2 emissions from liquid fuel consumption (% ...   \n",
      "11  Arab World         ARB    CO2 emissions from liquid fuel consumption (kt)   \n",
      "12  Arab World         ARB  CO2 emissions from solid fuel consumption (% o...   \n",
      "13  Arab World         ARB               Death rate, crude (per 1,000 people)   \n",
      "14  Arab World         ARB           Fertility rate, total (births per woman)   \n",
      "15  Arab World         ARB                      Fixed telephone subscriptions   \n",
      "16  Arab World         ARB     Fixed telephone subscriptions (per 100 people)   \n",
      "17  Arab World         ARB                   Hospital beds (per 1,000 people)   \n",
      "18  Arab World         ARB      International migrant stock (% of population)   \n",
      "19  Arab World         ARB                 International migrant stock, total   \n",
      "\n",
      "        IndicatorCode  Year         Value  \n",
      "10  EN.ATM.CO2E.LF.ZS  1960  8.485147e+01  \n",
      "11  EN.ATM.CO2E.LF.KT  1960  4.954171e+04  \n",
      "12  EN.ATM.CO2E.SF.ZS  1960  4.726981e+00  \n",
      "13     SP.DYN.CDRT.IN  1960  1.975445e+01  \n",
      "14     SP.DYN.TFRT.IN  1960  6.924027e+00  \n",
      "15        IT.MLT.MAIN  1960  4.068330e+05  \n",
      "16     IT.MLT.MAIN.P2  1960  6.167006e-01  \n",
      "17     SH.MED.BEDS.ZS  1960  1.929622e+00  \n",
      "18     SM.POP.TOTL.ZS  1960  2.990637e+00  \n",
      "19        SM.POP.TOTL  1960  3.324685e+06  \n"
     ]
    }
   ],
   "source": [
    "# Initialize reader object: df_reader\n",
    "df_reader = pd.read_csv('world_dev_ind.csv', chunksize=10)\n",
    "\n",
    "# Print two chunks\n",
    "print(next(df_reader))\n",
    "print()\n",
    "print(next(df_reader))"
   ]
  },
  {
   "cell_type": "markdown",
   "metadata": {},
   "source": [
    "## Writing an iterator to load data in chunks (2)\n",
    "\n",
    "In the previous exercise, you used read_csv() to read in DataFrame chunks from a large dataset. In this exercise, you will read in a file using a bigger DataFrame chunk size and then process the data from the first chunk.\n",
    "\n",
    "To process the data, you will create another DataFrame composed of only the rows from a specific country. You will then zip together two of the columns from the new DataFrame, 'Total Population' and 'Urban population (% of total)'. Finally, you will create a list of tuples from the zip object, where each tuple is composed of a value from each of the two columns mentioned."
   ]
  },
  {
   "cell_type": "code",
   "execution_count": 30,
   "metadata": {},
   "outputs": [
    {
     "name": "stdout",
     "output_type": "stream",
     "text": [
      "                               CountryName CountryCode  Year  \\\n",
      "0                               Arab World         ARB  1960   \n",
      "1                   Caribbean small states         CSS  1960   \n",
      "2           Central Europe and the Baltics         CEB  1960   \n",
      "3  East Asia & Pacific (all income levels)         EAS  1960   \n",
      "4    East Asia & Pacific (developing only)         EAP  1960   \n",
      "\n",
      "   Total Population  Urban population (% of total)  \n",
      "0          92495902                      31.285384  \n",
      "1           4190810                      31.597490  \n",
      "2          91401583                      44.507921  \n",
      "3        1042475394                      22.471132  \n",
      "4         896492991                      16.917679  \n",
      "\n",
      "[(91401583, 44.507921140000001), (92237118, 45.206665319999999), (93014890, 45.866564700000005), (93845749, 46.534092770000001), (94722599, 47.208742979999997)]\n"
     ]
    }
   ],
   "source": [
    "# Initialize reader object: urb_pop_reader\n",
    "urb_pop_reader = pd.read_csv('world_ind_pop_data.csv', chunksize=1000)\n",
    "\n",
    "# Get the first DataFrame chunk: df_urb_pop\n",
    "df_urb_pop = next(urb_pop_reader)\n",
    "\n",
    "# Check out the head of the DataFrame\n",
    "print(df_urb_pop.head())\n",
    "print()\n",
    "\n",
    "# Check out specific country: df_pop_ceb\n",
    "df_pop_ceb = df_urb_pop[df_urb_pop['CountryCode'] == 'CEB']\n",
    "\n",
    "# Zip DataFrame columns of interest: pops\n",
    "pops = zip(df_pop_ceb['Total Population'], df_pop_ceb['Urban population (% of total)'])\n",
    "\n",
    "# Turn zip object into list: pops_list\n",
    "pops_list = list(pops)\n",
    "\n",
    "# Print pops_list\n",
    "print(pops_list)"
   ]
  },
  {
   "cell_type": "markdown",
   "metadata": {},
   "source": [
    "## Writing an iterator to load data in chunks (3)\n",
    "\n",
    "You're getting used to reading and processing data in chunks by now. Let's push your skills a little further by adding a column to a DataFrame.\n",
    "\n",
    "In this exercise, you will be using a list comprehension to create the values for a new column 'Total Urban Population' from the list of tuples that you generated earlier. Recall from the previous exercise that the first and second elements of each tuple consist of, respectively, values from the columns 'Total Population' and 'Urban population (% of total)'. The values in this new column 'Total Urban Population', therefore, are the product of the first and second element in each tuple. Furthermore, because the 2nd element is a percentage, you need to divide the entire result by 100, or alternatively, multiply it by 0.01.\n",
    "\n",
    "You will also plot the data from this new column to create a visualization of the urban population data."
   ]
  },
  {
   "cell_type": "code",
   "execution_count": 40,
   "metadata": {},
   "outputs": [
    {
     "name": "stderr",
     "output_type": "stream",
     "text": [
      "C:\\Users\\leero\\Anaconda3\\lib\\site-packages\\ipykernel_launcher.py:14: SettingWithCopyWarning: \n",
      "A value is trying to be set on a copy of a slice from a DataFrame.\n",
      "Try using .loc[row_indexer,col_indexer] = value instead\n",
      "\n",
      "See the caveats in the documentation: http://pandas.pydata.org/pandas-docs/stable/indexing.html#indexing-view-versus-copy\n",
      "  \n"
     ]
    },
    {
     "data": {
      "image/png": "[encoded data removed]",
      "text/plain": [
       "<matplotlib.figure.Figure at 0x1a6b0985e10>"
      ]
     },
     "metadata": {},
     "output_type": "display_data"
    }
   ],
   "source": [
    "urb_pop_reader = pd.read_csv('world_ind_pop_data.csv', chunksize=1000)\n",
    "\n",
    "df_urb_pop = next(urb_pop_reader)\n",
    "df_pop_ceb = df_urb_pop[df_urb_pop['CountryCode'] == 'CEB']\n",
    "\n",
    "pops = zip(df_pop_ceb['Total Population'], \n",
    "            df_pop_ceb['Urban population (% of total)'])\n",
    "pops_list = list(pops)\n",
    "\n",
    "# Use list comprehension to create new DataFrame column 'Total Urban Population'\n",
    "df_pop_ceb['Total Urban Population'] = [int(tup[0] * tup[1] * 0.01) for tup  in pops_list]\n",
    "\n",
    "# Plot urban population data\n",
    "df_pop_ceb.plot(kind='scatter', x='Year', y='Total Urban Population')\n",
    "plt.show()"
   ]
  },
  {
   "cell_type": "markdown",
   "metadata": {},
   "source": [
    "## Writing an iterator to load data in chunks (4)\n",
    "\n",
    "In the previous exercises, you've only processed the data from the first DataFrame chunk. This time, you will aggregate the results over all the DataFrame chunks in the dataset. This basically means you will be processing the entire dataset now. This is neat because you're going to be able to process the entire large dataset by just working on smaller pieces of it!\n",
    "\n",
    "You're going to use the data from 'ind_pop_data.csv', available in your current directory. The packages pandas and matplotlib.pyplot have been imported as pd and plt respectively for your use."
   ]
  },
  {
   "cell_type": "code",
   "execution_count": 56,
   "metadata": {},
   "outputs": [
    {
     "name": "stderr",
     "output_type": "stream",
     "text": [
      "C:\\Users\\leero\\Anaconda3\\lib\\site-packages\\ipykernel_launcher.py:11: SettingWithCopyWarning: \n",
      "A value is trying to be set on a copy of a slice from a DataFrame.\n",
      "Try using .loc[row_indexer,col_indexer] = value instead\n",
      "\n",
      "See the caveats in the documentation: http://pandas.pydata.org/pandas-docs/stable/indexing.html#indexing-view-versus-copy\n",
      "  # This is added back by InteractiveShellApp.init_path()\n"
     ]
    },
    {
     "data": {
      "image/png": "[encoded data removed]",
      "text/plain": [
       "<matplotlib.figure.Figure at 0x1a6b09daf60>"
      ]
     },
     "metadata": {},
     "output_type": "display_data"
    }
   ],
   "source": [
    "urb_pop_reader = pd.read_csv('world_ind_pop_data.csv', chunksize=1000)\n",
    "\n",
    "data = pd.DataFrame()\n",
    "\n",
    "for df_urb_pop in urb_pop_reader: # For every chunk in the reader object\n",
    "    df_pop_ceb = df_urb_pop[df_urb_pop['CountryCode'] == 'CEB']  # Filter the country of interest\n",
    "    pops = zip(df_pop_ceb['Total Population'],\n",
    "                df_pop_ceb['Urban population (% of total)'])  # Zip file of our columns of interest\n",
    "    pops_list = list(pops)  # List of the zip file - list of tuples of population and % urban pop\n",
    "    # Create the new column by multiplying the first two\n",
    "    df_pop_ceb['Total Urban Population'] = [int(tup[0] * tup[1]) for tup in pops_list]  \n",
    "    data = data.append(df_pop_ceb) # each chunk (now including new column) is appended to our total dataframe\n",
    "\n",
    "plot_title = df_pop_ceb['CountryName'].iloc[0]\n",
    "\n",
    "# Plot urban population data\n",
    "data.plot(kind='scatter', x='Year', y='Total Urban Population')\n",
    "plt.title(plot_title)\n",
    "plt.show()"
   ]
  },
  {
   "cell_type": "markdown",
   "metadata": {
    "collapsed": true
   },
   "source": [
    "## Writing an iterator to load data in chunks (5)\n",
    "\n",
    "This is the last leg. You've learned a lot about processing a large dataset in chunks. In this last exercise, you will put all the code for processing the data into a single function so that you can reuse the code without having to rewrite the same things all over again.\n",
    "\n",
    "You're going to define the function plot_pop() which takes two arguments: the filename of the file to be processed, and the country code of the rows you want to process in the dataset.\n",
    "\n",
    "Because all of the previous code you've written in the previous exercises will be housed in plot_pop(), calling the function already does the following:\n",
    "\n",
    "* Loading of the file chunk by chunk,\n",
    "* Creating the new column of urban population values, and\n",
    "* Plotting the urban population data.\n",
    "\n",
    "That's a lot of work, but the function now makes it convenient to repeat the same process for whatever file and country code you want to process and visualize!\n",
    "\n",
    "You're going to use the data from 'ind_pop_data.csv', available in your current directory. The packages pandas and matplotlib.pyplot has been imported as pd and plt respectively for your use.\n",
    "\n",
    "After you are done, take a moment to look at the plots and reflect on the new skills you have acquired. The journey doesn't end here! If you have enjoyed working with this data, you can continue exploring it using the pre-processed version available on [Kaggle](https://www.kaggle.com/worldbank/world-development-indicators)."
   ]
  },
  {
   "cell_type": "code",
   "execution_count": 24,
   "metadata": {},
   "outputs": [
    {
     "name": "stderr",
     "output_type": "stream",
     "text": [
      "C:\\Users\\leero\\Anaconda3\\lib\\site-packages\\ipykernel_launcher.py:10: SettingWithCopyWarning: \n",
      "A value is trying to be set on a copy of a slice from a DataFrame.\n",
      "Try using .loc[row_indexer,col_indexer] = value instead\n",
      "\n",
      "See the caveats in the documentation: http://pandas.pydata.org/pandas-docs/stable/indexing.html#indexing-view-versus-copy\n",
      "  # Remove the CWD from sys.path while we load stuff.\n"
     ]
    },
    {
     "data": {
      "image/png": "[encoded data removed]",
      "text/plain": [
       "<matplotlib.figure.Figure at 0x1b5baf01780>"
      ]
     },
     "metadata": {},
     "output_type": "display_data"
    },
    {
     "data": {
      "image/png": "[encoded data removed]",
      "text/plain": [
       "<matplotlib.figure.Figure at 0x1b5bae7a780>"
      ]
     },
     "metadata": {},
     "output_type": "display_data"
    }
   ],
   "source": [
    "def plot_pop(filename, country_code):\n",
    "    urb_pop_reader = pd.read_csv(filename, chunksize=1000)\n",
    "\n",
    "    data = pd.DataFrame()\n",
    "    for df_urb_pop in urb_pop_reader:\n",
    "        df_pop_ceb = df_urb_pop[df_urb_pop['CountryCode'] == country_code]\n",
    "        pops = zip(df_pop_ceb['Total Population'],\n",
    "                   df_pop_ceb['Urban population (% of total)'])\n",
    "        pops_list = list(pops)\n",
    "        df_pop_ceb['Total Urban Population'] = [int(tup[0] * tup[1]) for tup in pops_list]\n",
    "        data = data.append(df_pop_ceb)\n",
    "        plot_title = df_pop_ceb['CountryName'].iloc[0]\n",
    "\n",
    "    data.plot(kind='scatter', x='Year', y='Total Urban Population')\n",
    "    plt.title(plot_title)\n",
    "    plt.show()\n",
    "    \n",
    "\n",
    "fn = 'world_ind_pop_data.csv'\n",
    "\n",
    "plot_pop(fn,'CEB')\n",
    "plot_pop(fn,'ARB')\n"
   ]
  },
  {
   "cell_type": "markdown",
   "metadata": {},
   "source": [
    "# Experiment\n",
    "The country list and codes are defined below to allow experimentation with this function"
   ]
  },
  {
   "cell_type": "code",
   "execution_count": 29,
   "metadata": {},
   "outputs": [
    {
     "data": {
      "text/plain": [
       "{'Afghanistan': 'AFG',\n",
       " 'Albania': 'ALB',\n",
       " 'Algeria': 'DZA',\n",
       " 'American Samoa': 'ASM',\n",
       " 'Andorra': 'ADO',\n",
       " 'Angola': 'AGO',\n",
       " 'Antigua and Barbuda': 'ATG',\n",
       " 'Arab World': 'ARB',\n",
       " 'Argentina': 'ARG',\n",
       " 'Armenia': 'ARM',\n",
       " 'Aruba': 'ABW',\n",
       " 'Australia': 'AUS',\n",
       " 'Austria': 'AUT',\n",
       " 'Azerbaijan': 'AZE',\n",
       " 'Bahamas, The': 'BHS',\n",
       " 'Bahrain': 'BHR',\n",
       " 'Bangladesh': 'BGD',\n",
       " 'Barbados': 'BRB',\n",
       " 'Belarus': 'BLR',\n",
       " 'Belgium': 'BEL',\n",
       " 'Belize': 'BLZ',\n",
       " 'Benin': 'BEN',\n",
       " 'Bermuda': 'BMU',\n",
       " 'Bhutan': 'BTN',\n",
       " 'Bolivia': 'BOL',\n",
       " 'Bosnia and Herzegovina': 'BIH',\n",
       " 'Botswana': 'BWA',\n",
       " 'Brazil': 'BRA',\n",
       " 'Brunei Darussalam': 'BRN',\n",
       " 'Bulgaria': 'BGR',\n",
       " 'Burkina Faso': 'BFA',\n",
       " 'Burundi': 'BDI',\n",
       " 'Cabo Verde': 'CPV',\n",
       " 'Cambodia': 'KHM',\n",
       " 'Cameroon': 'CMR',\n",
       " 'Canada': 'CAN',\n",
       " 'Caribbean small states': 'CSS',\n",
       " 'Cayman Islands': 'CYM',\n",
       " 'Central African Republic': 'CAF',\n",
       " 'Central Europe and the Baltics': 'CEB',\n",
       " 'Chad': 'TCD',\n",
       " 'Channel Islands': 'CHI',\n",
       " 'Chile': 'CHL',\n",
       " 'China': 'CHN',\n",
       " 'Colombia': 'COL',\n",
       " 'Comoros': 'COM',\n",
       " 'Congo, Dem. Rep.': 'ZAR',\n",
       " 'Congo, Rep.': 'COG',\n",
       " 'Costa Rica': 'CRI',\n",
       " \"Cote d'Ivoire\": 'CIV',\n",
       " 'Croatia': 'HRV',\n",
       " 'Cuba': 'CUB',\n",
       " 'Curacao': 'CUW',\n",
       " 'Cyprus': 'CYP',\n",
       " 'Czech Republic': 'CZE',\n",
       " 'Denmark': 'DNK',\n",
       " 'Djibouti': 'DJI',\n",
       " 'Dominica': 'DMA',\n",
       " 'Dominican Republic': 'DOM',\n",
       " 'East Asia & Pacific (all income levels)': 'EAS',\n",
       " 'East Asia & Pacific (developing only)': 'EAP',\n",
       " 'Ecuador': 'ECU',\n",
       " 'Egypt, Arab Rep.': 'EGY',\n",
       " 'El Salvador': 'SLV',\n",
       " 'Equatorial Guinea': 'GNQ',\n",
       " 'Eritrea': 'ERI',\n",
       " 'Estonia': 'EST',\n",
       " 'Ethiopia': 'ETH',\n",
       " 'Euro area': 'EMU',\n",
       " 'Europe & Central Asia (all income levels)': 'ECS',\n",
       " 'Europe & Central Asia (developing only)': 'ECA',\n",
       " 'European Union': 'EUU',\n",
       " 'Faeroe Islands': 'FRO',\n",
       " 'Fiji': 'FJI',\n",
       " 'Finland': 'FIN',\n",
       " 'Fragile and conflict affected situations': 'FCS',\n",
       " 'France': 'FRA',\n",
       " 'French Polynesia': 'PYF',\n",
       " 'Gabon': 'GAB',\n",
       " 'Gambia, The': 'GMB',\n",
       " 'Georgia': 'GEO',\n",
       " 'Germany': 'DEU',\n",
       " 'Ghana': 'GHA',\n",
       " 'Greece': 'GRC',\n",
       " 'Greenland': 'GRL',\n",
       " 'Grenada': 'GRD',\n",
       " 'Guam': 'GUM',\n",
       " 'Guatemala': 'GTM',\n",
       " 'Guinea': 'GIN',\n",
       " 'Guinea-Bissau': 'GNB',\n",
       " 'Guyana': 'GUY',\n",
       " 'Haiti': 'HTI',\n",
       " 'Heavily indebted poor countries (HIPC)': 'HPC',\n",
       " 'High income': 'HIC',\n",
       " 'High income: OECD': 'OEC',\n",
       " 'High income: nonOECD': 'NOC',\n",
       " 'Honduras': 'HND',\n",
       " 'Hong Kong SAR, China': 'HKG',\n",
       " 'Hungary': 'HUN',\n",
       " 'Iceland': 'ISL',\n",
       " 'India': 'IND',\n",
       " 'Indonesia': 'IDN',\n",
       " 'Iran, Islamic Rep.': 'IRN',\n",
       " 'Iraq': 'IRQ',\n",
       " 'Ireland': 'IRL',\n",
       " 'Isle of Man': 'IMY',\n",
       " 'Israel': 'ISR',\n",
       " 'Italy': 'ITA',\n",
       " 'Jamaica': 'JAM',\n",
       " 'Japan': 'JPN',\n",
       " 'Jordan': 'JOR',\n",
       " 'Kazakhstan': 'KAZ',\n",
       " 'Kenya': 'KEN',\n",
       " 'Kiribati': 'KIR',\n",
       " 'Korea, Dem. Rep.': 'PRK',\n",
       " 'Korea, Rep.': 'KOR',\n",
       " 'Kuwait': 'KWT',\n",
       " 'Kyrgyz Republic': 'KGZ',\n",
       " 'Lao PDR': 'LAO',\n",
       " 'Latin America & Caribbean (all income levels)': 'LCN',\n",
       " 'Latin America & Caribbean (developing only)': 'LAC',\n",
       " 'Latvia': 'LVA',\n",
       " 'Least developed countries: UN classification': 'LDC',\n",
       " 'Lebanon': 'LBN',\n",
       " 'Lesotho': 'LSO',\n",
       " 'Liberia': 'LBR',\n",
       " 'Libya': 'LBY',\n",
       " 'Liechtenstein': 'LIE',\n",
       " 'Lithuania': 'LTU',\n",
       " 'Low & middle income': 'LMY',\n",
       " 'Low income': 'LIC',\n",
       " 'Lower middle income': 'LMC',\n",
       " 'Luxembourg': 'LUX',\n",
       " 'Macao SAR, China': 'MAC',\n",
       " 'Macedonia, FYR': 'MKD',\n",
       " 'Madagascar': 'MDG',\n",
       " 'Malawi': 'MWI',\n",
       " 'Malaysia': 'MYS',\n",
       " 'Maldives': 'MDV',\n",
       " 'Mali': 'MLI',\n",
       " 'Malta': 'MLT',\n",
       " 'Marshall Islands': 'MHL',\n",
       " 'Mauritania': 'MRT',\n",
       " 'Mauritius': 'MUS',\n",
       " 'Mexico': 'MEX',\n",
       " 'Micronesia, Fed. Sts.': 'FSM',\n",
       " 'Middle East & North Africa (all income levels)': 'MEA',\n",
       " 'Middle East & North Africa (developing only)': 'MNA',\n",
       " 'Middle income': 'MIC',\n",
       " 'Moldova': 'MDA',\n",
       " 'Monaco': 'MCO',\n",
       " 'Mongolia': 'MNG',\n",
       " 'Montenegro': 'MNE',\n",
       " 'Morocco': 'MAR',\n",
       " 'Mozambique': 'MOZ',\n",
       " 'Myanmar': 'MMR',\n",
       " 'Namibia': 'NAM',\n",
       " 'Nepal': 'NPL',\n",
       " 'Netherlands': 'NLD',\n",
       " 'New Caledonia': 'NCL',\n",
       " 'New Zealand': 'NZL',\n",
       " 'Nicaragua': 'NIC',\n",
       " 'Niger': 'NER',\n",
       " 'Nigeria': 'NGA',\n",
       " 'North America': 'NAC',\n",
       " 'Northern Mariana Islands': 'MNP',\n",
       " 'Norway': 'NOR',\n",
       " 'OECD members': 'OED',\n",
       " 'Oman': 'OMN',\n",
       " 'Other small states': 'OSS',\n",
       " 'Pacific island small states': 'PSS',\n",
       " 'Pakistan': 'PAK',\n",
       " 'Palau': 'PLW',\n",
       " 'Panama': 'PAN',\n",
       " 'Papua New Guinea': 'PNG',\n",
       " 'Paraguay': 'PRY',\n",
       " 'Peru': 'PER',\n",
       " 'Philippines': 'PHL',\n",
       " 'Poland': 'POL',\n",
       " 'Portugal': 'PRT',\n",
       " 'Puerto Rico': 'PRI',\n",
       " 'Qatar': 'QAT',\n",
       " 'Romania': 'ROM',\n",
       " 'Russian Federation': 'RUS',\n",
       " 'Rwanda': 'RWA',\n",
       " 'Samoa': 'WSM',\n",
       " 'San Marino': 'SMR',\n",
       " 'Sao Tome and Principe': 'STP',\n",
       " 'Saudi Arabia': 'SAU',\n",
       " 'Senegal': 'SEN',\n",
       " 'Serbia': 'SRB',\n",
       " 'Seychelles': 'SYC',\n",
       " 'Sierra Leone': 'SLE',\n",
       " 'Singapore': 'SGP',\n",
       " 'Sint Maarten (Dutch part)': 'SXM',\n",
       " 'Slovak Republic': 'SVK',\n",
       " 'Slovenia': 'SVN',\n",
       " 'Small states': 'SST',\n",
       " 'Solomon Islands': 'SLB',\n",
       " 'Somalia': 'SOM',\n",
       " 'South Africa': 'ZAF',\n",
       " 'South Asia': 'SAS',\n",
       " 'South Sudan': 'SSD',\n",
       " 'Spain': 'ESP',\n",
       " 'Sri Lanka': 'LKA',\n",
       " 'St. Kitts and Nevis': 'KNA',\n",
       " 'St. Lucia': 'LCA',\n",
       " 'St. Vincent and the Grenadines': 'VCT',\n",
       " 'Sub-Saharan Africa (all income levels)': 'SSF',\n",
       " 'Sub-Saharan Africa (developing only)': 'SSA',\n",
       " 'Sudan': 'SDN',\n",
       " 'Suriname': 'SUR',\n",
       " 'Swaziland': 'SWZ',\n",
       " 'Sweden': 'SWE',\n",
       " 'Switzerland': 'CHE',\n",
       " 'Syrian Arab Republic': 'SYR',\n",
       " 'Tajikistan': 'TJK',\n",
       " 'Tanzania': 'TZA',\n",
       " 'Thailand': 'THA',\n",
       " 'Timor-Leste': 'TMP',\n",
       " 'Togo': 'TGO',\n",
       " 'Tonga': 'TON',\n",
       " 'Trinidad and Tobago': 'TTO',\n",
       " 'Tunisia': 'TUN',\n",
       " 'Turkey': 'TUR',\n",
       " 'Turkmenistan': 'TKM',\n",
       " 'Turks and Caicos Islands': 'TCA',\n",
       " 'Tuvalu': 'TUV',\n",
       " 'Uganda': 'UGA',\n",
       " 'Ukraine': 'UKR',\n",
       " 'United Arab Emirates': 'ARE',\n",
       " 'United Kingdom': 'GBR',\n",
       " 'United States': 'USA',\n",
       " 'Upper middle income': 'UMC',\n",
       " 'Uruguay': 'URY',\n",
       " 'Uzbekistan': 'UZB',\n",
       " 'Vanuatu': 'VUT',\n",
       " 'Venezuela, RB': 'VEN',\n",
       " 'Vietnam': 'VNM',\n",
       " 'Virgin Islands (U.S.)': 'VIR',\n",
       " 'West Bank and Gaza': 'WBG',\n",
       " 'World': 'WLD',\n",
       " 'Yemen, Rep.': 'YEM',\n",
       " 'Zambia': 'ZMB',\n",
       " 'Zimbabwe': 'ZWE'}"
      ]
     },
     "execution_count": 29,
     "metadata": {},
     "output_type": "execute_result"
    }
   ],
   "source": [
    "w_pop = pd.read_csv('world_ind_pop_data.csv')\n",
    "country_list = dict(zip(w_pop['CountryName'],w_pop['CountryCode']))\n",
    "country_list"
   ]
  },
  {
   "cell_type": "code",
   "execution_count": 31,
   "metadata": {},
   "outputs": [
    {
     "name": "stderr",
     "output_type": "stream",
     "text": [
      "C:\\Users\\leero\\Anaconda3\\lib\\site-packages\\ipykernel_launcher.py:10: SettingWithCopyWarning: \n",
      "A value is trying to be set on a copy of a slice from a DataFrame.\n",
      "Try using .loc[row_indexer,col_indexer] = value instead\n",
      "\n",
      "See the caveats in the documentation: http://pandas.pydata.org/pandas-docs/stable/indexing.html#indexing-view-versus-copy\n",
      "  # Remove the CWD from sys.path while we load stuff.\n"
     ]
    },
    {
     "data": {
      "image/png": "[encoded data removed]",
      "text/plain": [
       "<matplotlib.figure.Figure at 0x1b5baf016d8>"
      ]
     },
     "metadata": {},
     "output_type": "display_data"
    }
   ],
   "source": [
    "fn = 'world_ind_pop_data.csv'\n",
    "\n",
    "plot_pop(fn,'GBR')\n"
   ]
  },
  {
   "cell_type": "markdown",
   "metadata": {},
   "source": [
    "## Appendix: Methods\n",
    "* [Context managers](https://docs.python.org/3/library/contextlib.html)"
   ]
  }
 ],
 "metadata": {
  "kernelspec": {
   "display_name": "Python 3",
   "language": "python",
   "name": "python3"
  },
  "language_info": {
   "codemirror_mode": {
    "name": "ipython",
    "version": 3
   },
   "file_extension": ".py",
   "mimetype": "text/x-python",
   "name": "python",
   "nbconvert_exporter": "python",
   "pygments_lexer": "ipython3",
   "version": "3.6.1"
  }
 },
 "nbformat": 4,
 "nbformat_minor": 2
}
