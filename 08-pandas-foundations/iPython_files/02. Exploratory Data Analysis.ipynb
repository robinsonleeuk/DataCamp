{
 "cells": [
  {
   "cell_type": "markdown",
   "metadata": {
    "collapsed": true
   },
   "source": [
    "# Visual Exploratory Data Analysis"
   ]
  },
  {
   "cell_type": "markdown",
   "metadata": {},
   "source": [
    "Exploring a dataset consisting of monthly stock prices in 2015 for AAPL, GOOG, and IBM. The stock prices were obtained from [Yahoo Finance](https://finance.yahoo.com/)"
   ]
  },
  {
   "cell_type": "code",
   "execution_count": 1,
   "metadata": {},
   "outputs": [
    {
     "data": {
      "text/html": [
       "<div>\n",
       "<style>\n",
       "    .dataframe thead tr:only-child th {\n",
       "        text-align: right;\n",
       "    }\n",
       "\n",
       "    .dataframe thead th {\n",
       "        text-align: left;\n",
       "    }\n",
       "\n",
       "    .dataframe tbody tr th {\n",
       "        vertical-align: top;\n",
       "    }\n",
       "</style>\n",
       "<table border=\"1\" class=\"dataframe\">\n",
       "  <thead>\n",
       "    <tr style=\"text-align: right;\">\n",
       "      <th></th>\n",
       "      <th>AAPL</th>\n",
       "      <th>GOOG</th>\n",
       "      <th>IBM</th>\n",
       "      <th>Month</th>\n",
       "    </tr>\n",
       "  </thead>\n",
       "  <tbody>\n",
       "    <tr>\n",
       "      <th>0</th>\n",
       "      <td>117.160004</td>\n",
       "      <td>534.522445</td>\n",
       "      <td>153.309998</td>\n",
       "      <td>Jan</td>\n",
       "    </tr>\n",
       "    <tr>\n",
       "      <th>1</th>\n",
       "      <td>128.460007</td>\n",
       "      <td>558.402511</td>\n",
       "      <td>161.940002</td>\n",
       "      <td>Feb</td>\n",
       "    </tr>\n",
       "    <tr>\n",
       "      <th>2</th>\n",
       "      <td>124.430000</td>\n",
       "      <td>548.002468</td>\n",
       "      <td>160.500000</td>\n",
       "      <td>Mar</td>\n",
       "    </tr>\n",
       "    <tr>\n",
       "      <th>3</th>\n",
       "      <td>125.150002</td>\n",
       "      <td>537.340027</td>\n",
       "      <td>171.289993</td>\n",
       "      <td>Apr</td>\n",
       "    </tr>\n",
       "    <tr>\n",
       "      <th>4</th>\n",
       "      <td>130.279999</td>\n",
       "      <td>532.109985</td>\n",
       "      <td>169.649994</td>\n",
       "      <td>May</td>\n",
       "    </tr>\n",
       "    <tr>\n",
       "      <th>5</th>\n",
       "      <td>125.430000</td>\n",
       "      <td>520.510010</td>\n",
       "      <td>162.660004</td>\n",
       "      <td>Jun</td>\n",
       "    </tr>\n",
       "    <tr>\n",
       "      <th>6</th>\n",
       "      <td>121.300003</td>\n",
       "      <td>625.609985</td>\n",
       "      <td>161.990005</td>\n",
       "      <td>Jul</td>\n",
       "    </tr>\n",
       "    <tr>\n",
       "      <th>7</th>\n",
       "      <td>112.760002</td>\n",
       "      <td>618.250000</td>\n",
       "      <td>147.889999</td>\n",
       "      <td>Aug</td>\n",
       "    </tr>\n",
       "    <tr>\n",
       "      <th>8</th>\n",
       "      <td>110.300003</td>\n",
       "      <td>608.419983</td>\n",
       "      <td>144.970001</td>\n",
       "      <td>Sep</td>\n",
       "    </tr>\n",
       "    <tr>\n",
       "      <th>9</th>\n",
       "      <td>119.500000</td>\n",
       "      <td>710.809998</td>\n",
       "      <td>140.080002</td>\n",
       "      <td>Oct</td>\n",
       "    </tr>\n",
       "    <tr>\n",
       "      <th>10</th>\n",
       "      <td>118.300003</td>\n",
       "      <td>742.599976</td>\n",
       "      <td>139.419998</td>\n",
       "      <td>Nov</td>\n",
       "    </tr>\n",
       "    <tr>\n",
       "      <th>11</th>\n",
       "      <td>105.260002</td>\n",
       "      <td>758.880005</td>\n",
       "      <td>137.619995</td>\n",
       "      <td>Dec</td>\n",
       "    </tr>\n",
       "  </tbody>\n",
       "</table>\n",
       "</div>"
      ],
      "text/plain": [
       "          AAPL        GOOG         IBM Month\n",
       "0   117.160004  534.522445  153.309998   Jan\n",
       "1   128.460007  558.402511  161.940002   Feb\n",
       "2   124.430000  548.002468  160.500000   Mar\n",
       "3   125.150002  537.340027  171.289993   Apr\n",
       "4   130.279999  532.109985  169.649994   May\n",
       "5   125.430000  520.510010  162.660004   Jun\n",
       "6   121.300003  625.609985  161.990005   Jul\n",
       "7   112.760002  618.250000  147.889999   Aug\n",
       "8   110.300003  608.419983  144.970001   Sep\n",
       "9   119.500000  710.809998  140.080002   Oct\n",
       "10  118.300003  742.599976  139.419998   Nov\n",
       "11  105.260002  758.880005  137.619995   Dec"
      ]
     },
     "execution_count": 1,
     "metadata": {},
     "output_type": "execute_result"
    }
   ],
   "source": [
    "import pandas as pd\n",
    "import matplotlib.pyplot as plt\n",
    "\n",
    "stock_data = {'AAPL': {0: 117.160004,   1: 128.46000700000002,   2: 124.43000000000001,   3: 125.150002,   4: 130.279999,   \n",
    "                   5: 125.43000000000001,   6: 121.300003,   7: 112.760002,   8: 110.300003,   9: 119.5,   \n",
    "                   10: 118.300003,   11: 105.260002},  \n",
    "          'GOOG': {0: 534.52244500000018,   1: 558.402511,  2: 548.00246800000002,   3: 537.34002699999996,   \n",
    "                   4: 532.10998499999982,   5: 520.51000999999997,   6: 625.60998499999982,   7: 618.25,   \n",
    "                   8: 608.419983,   9: 710.80999800000018,   10: 742.59997599999997,   11: 758.88000499999998},  \n",
    "          'IBM': {0: 153.30999800000001,   1: 161.94000199999999,   2: 160.5,   3: 171.28999299999995,   \n",
    "                  4: 169.64999399999999,   5: 162.66000399999999,   6: 161.990005,   7: 147.88999899999999,  \n",
    "                  8: 144.970001,   9: 140.08000200000001,   10: 139.41999799999999,   11: 137.61999499999999},  \n",
    "          'Month': {0: 'Jan',   1: 'Feb',   2: 'Mar',   3: 'Apr',   4: 'May',   5: 'Jun',   6: 'Jul',   \n",
    "                    7: 'Aug',   8: 'Sep',   9: 'Oct',   10: 'Nov',   11: 'Dec'}}\n",
    "\n",
    "stocks = pd.DataFrame(stock_data)\n",
    "stocks"
   ]
  },
  {
   "cell_type": "markdown",
   "metadata": {},
   "source": [
    "## Pandas line plots"
   ]
  },
  {
   "cell_type": "code",
   "execution_count": 3,
   "metadata": {},
   "outputs": [
    {
     "data": {
      "image/png": "[encoded data removed]",
      "text/plain": [
       "<matplotlib.figure.Figure at 0x1775b3181d0>"
      ]
     },
     "metadata": {},
     "output_type": "display_data"
    }
   ],
   "source": [
    "# Line plots are the default - if plot is used without specifying type, it will produce a line plot\n",
    "\n",
    "y_columns = ['AAPL','IBM']\n",
    "stocks.plot(x='Month', y=y_columns)\n",
    "plt.title('Monthly stock prices')\n",
    "plt.ylabel('Price ($US)')\n",
    "plt.show()\n",
    "\n",
    "#It looks like the monthly stock prices of both AAPL and IBM peaked early in the year before falling"
   ]
  },
  {
   "cell_type": "markdown",
   "metadata": {},
   "source": [
    "## Pandas scatterplots"
   ]
  },
  {
   "cell_type": "markdown",
   "metadata": {},
   "source": [
    "Scatter plots require that the x and y columns be chosen by specifying the x and y parameters inside .plot()"
   ]
  },
  {
   "cell_type": "code",
   "execution_count": 22,
   "metadata": {
    "collapsed": true
   },
   "outputs": [],
   "source": [
    "# This dataset uses an array of normalised weights. Later, normalising arrays will be taught. For now, the array \n",
    "# is pre-prepared\n",
    "\n",
    "sizes = np.array([  51.12044694,   56.78387977,   49.15557238,   49.06977358,          49.52823321,   78.4595872 ,   78.93021696,   77.41479205,          81.52541106,   61.71459825,   52.85646225,   54.23007578,          58.89427963,   39.65137852,   23.42587473,   33.41639502,          32.03903011,   27.8650165 ,   18.88972581,   14.0196956 ,          29.72619722,   24.58549713,   23.48516821,   20.77938954,          29.19459189,   88.67676838,   79.72987328,   79.94866084,          93.23005042,   18.88972581,   21.34122243,   20.6679223 ,          28.88670381,   49.24144612,   46.14174741,   45.39631334,          45.01218186,   73.76057586,   82.96880195,   71.84547684,          69.85320595,  102.22421043,   93.78252358,  110.        ,          36.52889673,   24.14234281,   44.84805372,   41.02504618,          20.51976563,   18.765772  ,   17.9095202 ,   17.75442285,          13.08832041,   10.83266174,   14.00441945,   15.91328975,          21.60597587,   18.8188451 ,   21.15311208,   24.14234281,          20.63083317,   76.05635059,   80.05816704,   71.18975117,          70.98330444,   56.13992036,   89.36985382,   84.38736544,          82.6716892 ,   81.4149056 ,   22.60363518,   63.06844313,          69.92143863,   76.76982089,   69.2066568 ,   35.81711267,          26.25184749,   36.94940537,   19.95069229,   23.88237331,          21.79608472,   26.1474042 ,   19.49759118,   18.36136808,          69.98970461,   56.13992036,   66.21810474,   68.02351436,          59.39644014,  102.10046481,   82.96880195,   79.25686195,          74.74521151,   93.34830013,  102.05923292,   60.7883734 ,          40.55589449,   44.7388015 ,   36.11079464,   37.9986264 ,          35.11233175,   15.83199594,  103.96451839,  100.21241654,          90.18186347,   84.27493641,   32.38645967,   21.62494928,          24.00218436,   23.56434276,   18.78345471,   22.21725537,          25.44271071,   21.36007926,   69.37650986,   76.19877818,          14.51292942,   19.38962134,   27.75740889,   34.24717407,          48.10262495,   29.459795  ,   32.80584831,   55.89556844,          40.06360581,   35.03982309,   46.33599903,   15.83199594,          25.01226779,   14.03498009,   26.90404245,   59.52231336,          54.92349014,   54.35035315,   71.39649768,   91.93424995,          82.70879915,   89.56285636,   75.45251972,   20.50128352,          16.04379287,   22.02531454,   11.32159874,   16.70430249,          18.80114574,   18.50153068,   21.00322336,   25.79385418,          23.80266582,   16.65430211,   44.35746794,   49.815853  ,          49.04119063,   41.52318884,   90.72524338,   82.07906251,          84.23747672,   90.29816462,   63.55551901,   63.23059357,          57.92740995,   59.64831981,   38.45278922,   43.19643409,          41.81296121,   19.62393488,   28.99647648,   35.35456858,          27.97283229,   30.39744886,   20.57526193,   26.96758278,          37.07354237,   15.62160631,   42.92863291,   30.21771564,          36.40567571,   36.11079464,   29.70395123,   13.41514444,          25.27829944,   20.51976563,   27.54281821,   21.17188565,          20.18836167,   73.97101962,   73.09614831,   65.35749368,          73.97101962,   43.51889468,   46.80945169,   37.77255674,          39.6256851 ,   17.24230306,   19.49759118,   15.62160631,          13.41514444,   55.49963323,   53.18333207,   55.31736854,          42.44868923,   13.86730874,   16.48817545,   19.33574884,          27.3931002 ,   41.31307817,   64.63368105,   44.52069676,          35.74387954,   60.75655952,   79.87569835,   68.46177648,          62.35745431,   58.70651902,   17.41217694,   19.33574884,          13.86730874,   22.02531454,   15.75091031,   62.68013142,          68.63071356,   71.36201911,   76.80558184,   51.58836621,          48.84134317,   54.86301837,   51.73502816,   74.14661842,          72.22648148,   77.88228247,   78.24284811,   15.67003285,          31.25845963,   21.36007926,   31.60164234,   17.51450098,          17.92679488,   16.40542438,   19.96892459,   32.99310928,          28.14577056,   30.80379718,   16.40542438,   13.48998471,          16.40542438,   17.84050478,   13.48998471,   47.1451025 ,          58.08281541,   53.06435374,   52.02897659,   41.44433489,          36.60292926,   30.80379718,   48.98404972,   42.90189859,          47.56635225,   39.24128299,   54.56115914,   48.41447259,          48.84134317,   49.41341845,   42.76835191,   69.30854366,          19.33574884,   27.28640858,   22.02531454,   20.70504474,          26.33555201,   31.37264569,   33.93740821,   24.08222494,          33.34566004,   41.05118927,   32.52595611,   48.41447259,          16.48817545,   18.97851406,   43.84255439,   37.22278157,          34.77459916,   44.38465193,   47.00510227,   61.39441929,          57.77221268,   65.12675249,   61.07507305,   79.14790534,          68.42801405,   54.10993164,   64.63368105,   15.42864956,          16.24054679,   15.26876826,   29.68171358,   51.88189829,          63.32798377,   42.36896092,   48.6988448 ,   20.15170555,          19.24612787,   16.98905358,   18.88972581,   29.68171358,          28.03762169,   30.35246559,   27.20120517,   19.13885751,          16.12562794,   18.71277385,   16.9722369 ,   29.85984799,          34.29495526,   37.54716158,   47.59450219,   19.93246832,          30.60028577,   26.90404245,   24.66650366,   21.36007926,          18.5366546 ,   32.64243213,   18.5366546 ,   18.09999962,          22.70075058,   36.23351603,   43.97776651,   14.24983724,          19.15671509,   14.17291518,   35.25757392,   24.38356372,          26.02234705,   21.83420642,   25.81458463,   28.90864169,          28.58044785,   30.91715052,   23.6833544 ,   12.82391671,          14.63757021,   12.89709155,   17.75442285,   16.24054679,          17.49742615,   16.40542438,   20.42743834,   17.41217694,          23.58415722,   19.96892459,   20.33531923,   22.99334585,          28.47146626,   28.90864169,   43.43816712,   41.57579979,          35.01567018,   35.74387954,   48.5565546 ,   57.77221268,          38.98605581,   49.98882458,   28.25412762,   29.01845599,          23.88237331,   27.60710798,   26.54539622,   31.14448175,          34.17556473,   16.3228815 ,   17.0732619 ,   16.15842026,          18.80114574,   18.80114574,   19.42557798,   20.2434083 ,          20.98452475,   16.07650192,   16.07650192,   16.57113469,          36.11079464,   37.84783835,   27.82194848,   33.46359332,          29.5706502 ,   23.38638738,   36.23351603,   32.40968826,          18.88972581,   21.92965639,   28.68963762,   30.80379718])"
   ]
  },
  {
   "cell_type": "code",
   "execution_count": 15,
   "metadata": {},
   "outputs": [
    {
     "name": "stdout",
     "output_type": "stream",
     "text": [
      "<class 'pandas.core.frame.DataFrame'>\n",
      "RangeIndex: 392 entries, 0 to 391\n",
      "Data columns (total 9 columns):\n",
      "mpg       392 non-null float64\n",
      "cyl       392 non-null int64\n",
      "displ     392 non-null float64\n",
      "hp        392 non-null int64\n",
      "weight    392 non-null int64\n",
      "accel     392 non-null float64\n",
      "yr        392 non-null int64\n",
      "origin    392 non-null object\n",
      "name      392 non-null object\n",
      "dtypes: float64(3), int64(4), object(2)\n",
      "memory usage: 27.6+ KB\n",
      "None\n"
     ]
    },
    {
     "data": {
      "text/html": [
       "<div>\n",
       "<style>\n",
       "    .dataframe thead tr:only-child th {\n",
       "        text-align: right;\n",
       "    }\n",
       "\n",
       "    .dataframe thead th {\n",
       "        text-align: left;\n",
       "    }\n",
       "\n",
       "    .dataframe tbody tr th {\n",
       "        vertical-align: top;\n",
       "    }\n",
       "</style>\n",
       "<table border=\"1\" class=\"dataframe\">\n",
       "  <thead>\n",
       "    <tr style=\"text-align: right;\">\n",
       "      <th></th>\n",
       "      <th>mpg</th>\n",
       "      <th>cyl</th>\n",
       "      <th>displ</th>\n",
       "      <th>hp</th>\n",
       "      <th>weight</th>\n",
       "      <th>accel</th>\n",
       "      <th>yr</th>\n",
       "      <th>origin</th>\n",
       "      <th>name</th>\n",
       "    </tr>\n",
       "  </thead>\n",
       "  <tbody>\n",
       "    <tr>\n",
       "      <th>0</th>\n",
       "      <td>18.0</td>\n",
       "      <td>8</td>\n",
       "      <td>307.0</td>\n",
       "      <td>130</td>\n",
       "      <td>3504</td>\n",
       "      <td>12.0</td>\n",
       "      <td>70</td>\n",
       "      <td>US</td>\n",
       "      <td>chevrolet chevelle malibu</td>\n",
       "    </tr>\n",
       "    <tr>\n",
       "      <th>1</th>\n",
       "      <td>15.0</td>\n",
       "      <td>8</td>\n",
       "      <td>350.0</td>\n",
       "      <td>165</td>\n",
       "      <td>3693</td>\n",
       "      <td>11.5</td>\n",
       "      <td>70</td>\n",
       "      <td>US</td>\n",
       "      <td>buick skylark 320</td>\n",
       "    </tr>\n",
       "    <tr>\n",
       "      <th>2</th>\n",
       "      <td>18.0</td>\n",
       "      <td>8</td>\n",
       "      <td>318.0</td>\n",
       "      <td>150</td>\n",
       "      <td>3436</td>\n",
       "      <td>11.0</td>\n",
       "      <td>70</td>\n",
       "      <td>US</td>\n",
       "      <td>plymouth satellite</td>\n",
       "    </tr>\n",
       "    <tr>\n",
       "      <th>3</th>\n",
       "      <td>16.0</td>\n",
       "      <td>8</td>\n",
       "      <td>304.0</td>\n",
       "      <td>150</td>\n",
       "      <td>3433</td>\n",
       "      <td>12.0</td>\n",
       "      <td>70</td>\n",
       "      <td>US</td>\n",
       "      <td>amc rebel sst</td>\n",
       "    </tr>\n",
       "    <tr>\n",
       "      <th>4</th>\n",
       "      <td>17.0</td>\n",
       "      <td>8</td>\n",
       "      <td>302.0</td>\n",
       "      <td>140</td>\n",
       "      <td>3449</td>\n",
       "      <td>10.5</td>\n",
       "      <td>70</td>\n",
       "      <td>US</td>\n",
       "      <td>ford torino</td>\n",
       "    </tr>\n",
       "  </tbody>\n",
       "</table>\n",
       "</div>"
      ],
      "text/plain": [
       "    mpg  cyl  displ   hp  weight  accel  yr origin                       name\n",
       "0  18.0    8  307.0  130    3504   12.0  70     US  chevrolet chevelle malibu\n",
       "1  15.0    8  350.0  165    3693   11.5  70     US          buick skylark 320\n",
       "2  18.0    8  318.0  150    3436   11.0  70     US         plymouth satellite\n",
       "3  16.0    8  304.0  150    3433   12.0  70     US              amc rebel sst\n",
       "4  17.0    8  302.0  140    3449   10.5  70     US                ford torino"
      ]
     },
     "execution_count": 15,
     "metadata": {},
     "output_type": "execute_result"
    }
   ],
   "source": [
    "import pandas as pd\n",
    "import matplotlib.pyplot as plt\n",
    "import numpy as np\n",
    "\n",
    "filepath = 'C:/Users/leero/Jupyter Notebook Directory/DataCamp/'\n",
    "auto = pd.read_csv(filepath+'auto-mpg.csv')\n",
    "print(auto.info())\n",
    "auto.head()"
   ]
  },
  {
   "cell_type": "code",
   "execution_count": 24,
   "metadata": {},
   "outputs": [
    {
     "data": {
      "image/png": "[encoded data removed]",
      "text/plain": [
       "<matplotlib.figure.Figure at 0x1775e8b84a8>"
      ]
     },
     "metadata": {},
     "output_type": "display_data"
    }
   ],
   "source": [
    "# Plotting horsepower vs. mpg\n",
    "\n",
    "auto.plot(kind='scatter', x='hp', y='mpg', s=sizes, edgecolors='Black')\n",
    "plt.title('Fuel efficiency vs Horse-power')  # Add the title\n",
    "plt.xlabel('Horse-power')  # Add the x-axis label\n",
    "plt.ylabel('Fuel efficiency (mpg)')  # Add the y-axis label\n",
    "plt.show()  # Display the plot\n",
    "\n",
    "# As you would expect, automobiles with higher horsepower are less fuel efficient."
   ]
  },
  {
   "cell_type": "markdown",
   "metadata": {},
   "source": [
    "## Boxplots"
   ]
  },
  {
   "cell_type": "markdown",
   "metadata": {},
   "source": [
    "Sometimes, two columns cannot be plotted together because their units do not match. The .plot() method can generate subplots for each column being plotted. Specify subplots=True inside .plot() to generate two separate plots"
   ]
  },
  {
   "cell_type": "code",
   "execution_count": 25,
   "metadata": {},
   "outputs": [
    {
     "data": {
      "image/png": "[encoded data removed]",
      "text/plain": [
       "<matplotlib.figure.Figure at 0x1775e972a58>"
      ]
     },
     "metadata": {},
     "output_type": "display_data"
    }
   ],
   "source": [
    "\n",
    "cols = ['weight','mpg']  # Make a list of the column names to be plotted: cols\n",
    "auto[cols].plot(kind='box',subplots=True)  # Generate the box plots\n",
    "plt.show()"
   ]
  },
  {
   "cell_type": "markdown",
   "metadata": {},
   "source": [
    "## Hist, pdf, cdf"
   ]
  },
  {
   "cell_type": "markdown",
   "metadata": {},
   "source": [
    "Working with tips data from the [seaborn datasets](https://github.com/mwaskom/seaborn-data/blob/master/tips.csv)"
   ]
  },
  {
   "cell_type": "code",
   "execution_count": 27,
   "metadata": {},
   "outputs": [
    {
     "name": "stdout",
     "output_type": "stream",
     "text": [
      "<class 'pandas.core.frame.DataFrame'>\n",
      "RangeIndex: 244 entries, 0 to 243\n",
      "Data columns (total 8 columns):\n",
      "total_bill    244 non-null float64\n",
      "tip           244 non-null float64\n",
      "sex           244 non-null object\n",
      "smoker        244 non-null object\n",
      "day           244 non-null object\n",
      "time          244 non-null object\n",
      "size          244 non-null int64\n",
      "fraction      244 non-null float64\n",
      "dtypes: float64(3), int64(1), object(4)\n",
      "memory usage: 15.3+ KB\n"
     ]
    }
   ],
   "source": [
    "tips = pd.read_csv('C:/Users/leero/Jupyter Notebook Directory/DataCamp/tips_pd.csv')\n",
    "tips.info()"
   ]
  },
  {
   "cell_type": "code",
   "execution_count": 153,
   "metadata": {},
   "outputs": [
    {
     "data": {
      "image/png": "[encoded data removed]",
      "text/plain": [
       "<matplotlib.figure.Figure at 0x17760fbb518>"
      ]
     },
     "metadata": {},
     "output_type": "display_data"
    }
   ],
   "source": [
    "fig, axes = plt.subplots(nrows=2, ncols=1)  # This formats the plots such that they appear on separate rows\n",
    "\n",
    "# Plot the pdf\n",
    "tips.fraction.plot(ax=axes[0], kind='hist', normed=True, bins=30, range=(0,.3), edgecolor='black')  # Plot the PDF\n",
    "\n",
    "# plot the cdf\n",
    "tips.fraction.plot(ax=axes[1], kind='hist', cumulative=True, normed=True, bins=30, range=(0,.3), edgecolor='black')  \n",
    "plt.show()"
   ]
  },
  {
   "cell_type": "code",
   "execution_count": 171,
   "metadata": {},
   "outputs": [
    {
     "data": {
      "image/png": "[encoded data removed]",
      "text/plain": [
       "<matplotlib.figure.Figure at 0x17760f88390>"
      ]
     },
     "metadata": {},
     "output_type": "display_data"
    }
   ],
   "source": [
    "#fig, axes = plt.subplots(nrows=2, ncols=1)  # This formats the plots such that they appear on separate rows\n",
    "\n",
    "fig = plt.figure(figsize=(8,3))\n",
    "\n",
    "plt.subplot(1, 2, 1)\n",
    "plt.hist(tips['fraction'], normed=True, bins=30, range=(0,.3), edgecolor='black')\n",
    "plt.title('Probability Distribution Function')\n",
    "plt.xlabel('Probability')\n",
    "plt.ylabel('Frequency')\n",
    "\n",
    "plt.subplot(1, 2, 2)\n",
    "plt.hist(tips['fraction'], cumulative=True, normed=True, bins=30, range=(0,.3), edgecolor='black')\n",
    "plt.title('Cumulative Distribution Function')\n",
    "plt.xlabel('Probability')\n",
    "\n",
    "plt.tight_layout()\n",
    "plt.show()"
   ]
  },
  {
   "cell_type": "markdown",
   "metadata": {},
   "source": [
    "# Statistical Exploratory Data Analysis"
   ]
  },
  {
   "cell_type": "markdown",
   "metadata": {},
   "source": [
    "Using the dataset on the percentage of bachelor degrees awarded to women, 1970 - 2011"
   ]
  },
  {
   "cell_type": "code",
   "execution_count": 147,
   "metadata": {},
   "outputs": [
    {
     "name": "stdout",
     "output_type": "stream",
     "text": [
      "<class 'pandas.core.frame.DataFrame'>\n",
      "Int64Index: 42 entries, 1970 to 2011\n",
      "Data columns (total 17 columns):\n",
      "Agriculture                      42 non-null float64\n",
      "Architecture                     42 non-null float64\n",
      "Art and Performance              42 non-null float64\n",
      "Biology                          42 non-null float64\n",
      "Business                         42 non-null float64\n",
      "Communications and Journalism    42 non-null float64\n",
      "Computer Science                 42 non-null float64\n",
      "Education                        42 non-null float64\n",
      "Engineering                      42 non-null float64\n",
      "English                          42 non-null float64\n",
      "Foreign Languages                42 non-null float64\n",
      "Health Professions               42 non-null float64\n",
      "Math and Statistics              42 non-null float64\n",
      "Physical Sciences                42 non-null float64\n",
      "Psychology                       42 non-null float64\n",
      "Public Administration            42 non-null float64\n",
      "Social Sciences and History      42 non-null float64\n",
      "dtypes: float64(17)\n",
      "memory usage: 5.9 KB\n",
      "None\n",
      "\n",
      "       Agriculture  Architecture  Art and Performance    Biology   Business  \\\n",
      "count    42.000000     42.000000            42.000000  42.000000  42.000000   \n",
      "mean     33.848165     33.685540            61.100000  49.429864  40.653471   \n",
      "std      12.552731      9.574057             1.305336  10.087725  13.116109   \n",
      "min       4.229798     11.921005            58.600000  29.088363   9.064439   \n",
      "25%      30.840814     28.520709            60.200000  44.311821  37.390851   \n",
      "50%      33.317552     35.994852            61.300000  50.971469  47.210123   \n",
      "75%      45.663953     40.790605            62.000000  58.679194  48.876139   \n",
      "max      50.037182     44.499331            63.400000  62.169456  50.552335   \n",
      "\n",
      "       Communications and Journalism  Computer Science  Education  \\\n",
      "count                      42.000000         42.000000  42.000000   \n",
      "mean                       56.216667         25.809524  76.356236   \n",
      "std                         8.698610          6.688753   2.212641   \n",
      "min                        35.300000         13.600000  72.166525   \n",
      "25%                        55.125000         19.125000  74.994573   \n",
      "50%                        59.850000         27.300000  75.937020   \n",
      "75%                        62.125000         29.775000  78.619420   \n",
      "max                        64.600000         37.100000  79.618625   \n",
      "\n",
      "       Engineering    English  Foreign Languages  Health Professions  \\\n",
      "count    42.000000  42.000000          42.000000           42.000000   \n",
      "mean     12.892857  66.186680          71.723810           82.983333   \n",
      "std       5.670824   1.950990           1.926682            2.914967   \n",
      "min       0.800000  61.647206          69.000000           75.500000   \n",
      "25%      10.625000  65.583807          70.125000           81.825000   \n",
      "50%      14.100000  66.112018          71.150000           83.700000   \n",
      "75%      16.950000  67.861247          73.875000           85.175000   \n",
      "max      19.000000  68.894487          75.300000           86.500000   \n",
      "\n",
      "       Math and Statistics  Physical Sciences  Psychology  \\\n",
      "count            42.000000          42.000000   42.000000   \n",
      "mean             44.478571          31.304762   68.776190   \n",
      "std               2.646262           9.000866    9.705463   \n",
      "min              38.000000          13.800000   44.400000   \n",
      "25%              42.875000          24.875000   65.550000   \n",
      "50%              44.900000          32.100000   72.750000   \n",
      "75%              46.500000          40.200000   76.925000   \n",
      "max              48.300000          42.200000   77.800000   \n",
      "\n",
      "       Public Administration  Social Sciences and History  \n",
      "count              42.000000                    42.000000  \n",
      "mean               76.085714                    45.407143  \n",
      "std                 5.879504                     4.763653  \n",
      "min                62.600000                    36.100000  \n",
      "25%                74.625000                    43.825000  \n",
      "50%                77.450000                    45.300000  \n",
      "75%                81.100000                    49.375000  \n",
      "max                82.100000                    51.800000  \n",
      "\n"
     ]
    },
    {
     "data": {
      "text/html": [
       "<div>\n",
       "<style>\n",
       "    .dataframe thead tr:only-child th {\n",
       "        text-align: right;\n",
       "    }\n",
       "\n",
       "    .dataframe thead th {\n",
       "        text-align: left;\n",
       "    }\n",
       "\n",
       "    .dataframe tbody tr th {\n",
       "        vertical-align: top;\n",
       "    }\n",
       "</style>\n",
       "<table border=\"1\" class=\"dataframe\">\n",
       "  <thead>\n",
       "    <tr style=\"text-align: right;\">\n",
       "      <th></th>\n",
       "      <th>Agriculture</th>\n",
       "      <th>Architecture</th>\n",
       "      <th>Art and Performance</th>\n",
       "      <th>Biology</th>\n",
       "      <th>Business</th>\n",
       "      <th>Communications and Journalism</th>\n",
       "      <th>Computer Science</th>\n",
       "      <th>Education</th>\n",
       "      <th>Engineering</th>\n",
       "      <th>English</th>\n",
       "      <th>Foreign Languages</th>\n",
       "      <th>Health Professions</th>\n",
       "      <th>Math and Statistics</th>\n",
       "      <th>Physical Sciences</th>\n",
       "      <th>Psychology</th>\n",
       "      <th>Public Administration</th>\n",
       "      <th>Social Sciences and History</th>\n",
       "    </tr>\n",
       "    <tr>\n",
       "      <th>Year</th>\n",
       "      <th></th>\n",
       "      <th></th>\n",
       "      <th></th>\n",
       "      <th></th>\n",
       "      <th></th>\n",
       "      <th></th>\n",
       "      <th></th>\n",
       "      <th></th>\n",
       "      <th></th>\n",
       "      <th></th>\n",
       "      <th></th>\n",
       "      <th></th>\n",
       "      <th></th>\n",
       "      <th></th>\n",
       "      <th></th>\n",
       "      <th></th>\n",
       "      <th></th>\n",
       "    </tr>\n",
       "  </thead>\n",
       "  <tbody>\n",
       "    <tr>\n",
       "      <th>1970</th>\n",
       "      <td>4.229798</td>\n",
       "      <td>11.921005</td>\n",
       "      <td>59.7</td>\n",
       "      <td>29.088363</td>\n",
       "      <td>9.064439</td>\n",
       "      <td>35.3</td>\n",
       "      <td>13.6</td>\n",
       "      <td>74.535328</td>\n",
       "      <td>0.8</td>\n",
       "      <td>65.570923</td>\n",
       "      <td>73.8</td>\n",
       "      <td>77.1</td>\n",
       "      <td>38.0</td>\n",
       "      <td>13.8</td>\n",
       "      <td>44.4</td>\n",
       "      <td>68.4</td>\n",
       "      <td>36.8</td>\n",
       "    </tr>\n",
       "    <tr>\n",
       "      <th>1971</th>\n",
       "      <td>5.452797</td>\n",
       "      <td>12.003106</td>\n",
       "      <td>59.9</td>\n",
       "      <td>29.394403</td>\n",
       "      <td>9.503187</td>\n",
       "      <td>35.5</td>\n",
       "      <td>13.6</td>\n",
       "      <td>74.149204</td>\n",
       "      <td>1.0</td>\n",
       "      <td>64.556485</td>\n",
       "      <td>73.9</td>\n",
       "      <td>75.5</td>\n",
       "      <td>39.0</td>\n",
       "      <td>14.9</td>\n",
       "      <td>46.2</td>\n",
       "      <td>65.5</td>\n",
       "      <td>36.2</td>\n",
       "    </tr>\n",
       "    <tr>\n",
       "      <th>1972</th>\n",
       "      <td>7.420710</td>\n",
       "      <td>13.214594</td>\n",
       "      <td>60.4</td>\n",
       "      <td>29.810221</td>\n",
       "      <td>10.558962</td>\n",
       "      <td>36.6</td>\n",
       "      <td>14.9</td>\n",
       "      <td>73.554520</td>\n",
       "      <td>1.2</td>\n",
       "      <td>63.664263</td>\n",
       "      <td>74.6</td>\n",
       "      <td>76.9</td>\n",
       "      <td>40.2</td>\n",
       "      <td>14.8</td>\n",
       "      <td>47.6</td>\n",
       "      <td>62.6</td>\n",
       "      <td>36.1</td>\n",
       "    </tr>\n",
       "    <tr>\n",
       "      <th>1973</th>\n",
       "      <td>9.653602</td>\n",
       "      <td>14.791613</td>\n",
       "      <td>60.2</td>\n",
       "      <td>31.147915</td>\n",
       "      <td>12.804602</td>\n",
       "      <td>38.4</td>\n",
       "      <td>16.4</td>\n",
       "      <td>73.501814</td>\n",
       "      <td>1.6</td>\n",
       "      <td>62.941502</td>\n",
       "      <td>74.9</td>\n",
       "      <td>77.4</td>\n",
       "      <td>40.9</td>\n",
       "      <td>16.5</td>\n",
       "      <td>50.4</td>\n",
       "      <td>64.3</td>\n",
       "      <td>36.4</td>\n",
       "    </tr>\n",
       "    <tr>\n",
       "      <th>1974</th>\n",
       "      <td>14.074623</td>\n",
       "      <td>17.444688</td>\n",
       "      <td>61.9</td>\n",
       "      <td>32.996183</td>\n",
       "      <td>16.204850</td>\n",
       "      <td>40.5</td>\n",
       "      <td>18.9</td>\n",
       "      <td>73.336811</td>\n",
       "      <td>2.2</td>\n",
       "      <td>62.413412</td>\n",
       "      <td>75.3</td>\n",
       "      <td>77.9</td>\n",
       "      <td>41.8</td>\n",
       "      <td>18.2</td>\n",
       "      <td>52.6</td>\n",
       "      <td>66.1</td>\n",
       "      <td>37.3</td>\n",
       "    </tr>\n",
       "  </tbody>\n",
       "</table>\n",
       "</div>"
      ],
      "text/plain": [
       "      Agriculture  Architecture  Art and Performance    Biology   Business  \\\n",
       "Year                                                                         \n",
       "1970     4.229798     11.921005                 59.7  29.088363   9.064439   \n",
       "1971     5.452797     12.003106                 59.9  29.394403   9.503187   \n",
       "1972     7.420710     13.214594                 60.4  29.810221  10.558962   \n",
       "1973     9.653602     14.791613                 60.2  31.147915  12.804602   \n",
       "1974    14.074623     17.444688                 61.9  32.996183  16.204850   \n",
       "\n",
       "      Communications and Journalism  Computer Science  Education  Engineering  \\\n",
       "Year                                                                            \n",
       "1970                           35.3              13.6  74.535328          0.8   \n",
       "1971                           35.5              13.6  74.149204          1.0   \n",
       "1972                           36.6              14.9  73.554520          1.2   \n",
       "1973                           38.4              16.4  73.501814          1.6   \n",
       "1974                           40.5              18.9  73.336811          2.2   \n",
       "\n",
       "        English  Foreign Languages  Health Professions  Math and Statistics  \\\n",
       "Year                                                                          \n",
       "1970  65.570923               73.8                77.1                 38.0   \n",
       "1971  64.556485               73.9                75.5                 39.0   \n",
       "1972  63.664263               74.6                76.9                 40.2   \n",
       "1973  62.941502               74.9                77.4                 40.9   \n",
       "1974  62.413412               75.3                77.9                 41.8   \n",
       "\n",
       "      Physical Sciences  Psychology  Public Administration  \\\n",
       "Year                                                         \n",
       "1970               13.8        44.4                   68.4   \n",
       "1971               14.9        46.2                   65.5   \n",
       "1972               14.8        47.6                   62.6   \n",
       "1973               16.5        50.4                   64.3   \n",
       "1974               18.2        52.6                   66.1   \n",
       "\n",
       "      Social Sciences and History  \n",
       "Year                               \n",
       "1970                         36.8  \n",
       "1971                         36.2  \n",
       "1972                         36.1  \n",
       "1973                         36.4  \n",
       "1974                         37.3  "
      ]
     },
     "execution_count": 147,
     "metadata": {},
     "output_type": "execute_result"
    }
   ],
   "source": [
    "degree = pd.read_csv('C:/Users/leero/Jupyter Notebook Directory/DataCamp/percent-bachelors-degrees-women-usa.csv', index_col=0)\n",
    "print(degree.info())\n",
    "print()\n",
    "print(degree.describe())\n",
    "print()\n",
    "degree.head()"
   ]
  },
  {
   "cell_type": "code",
   "execution_count": 44,
   "metadata": {},
   "outputs": [
    {
     "name": "stdout",
     "output_type": "stream",
     "text": [
      "0.8\n",
      "19.0\n"
     ]
    },
    {
     "data": {
      "image/png": "[encoded data removed]",
      "text/plain": [
       "<matplotlib.figure.Figure at 0x1775e9789b0>"
      ]
     },
     "metadata": {},
     "output_type": "display_data"
    }
   ],
   "source": [
    "\n",
    "fix, axes = plt\n",
    "\n",
    "print(degree.Engineering.min())  # Print the minimum value of the Engineering column\n",
    "print(degree.Engineering.max())  # Print the maximum value of the Engineering column\n",
    "mean = degree.mean(axis='columns')  # Construct the mean percentage per year: mean\n",
    "mean.plot()  # Plot the average percentage per year\n",
    "#degree.Engineering.plot()\n",
    "plt.show()\n",
    "\n",
    "# It looks like there has generally been an upward trend since 1970."
   ]
  },
  {
   "cell_type": "code",
   "execution_count": 55,
   "metadata": {},
   "outputs": [
    {
     "data": {
      "image/png": "[encoded data removed]",
      "text/plain": [
       "<matplotlib.figure.Figure at 0x1775e8fa828>"
      ]
     },
     "metadata": {},
     "output_type": "display_data"
    }
   ],
   "source": [
    "# It is possible to compare the trends for different subjects by using subplots\n",
    "\n",
    "fig = plt.figure(figsize=(10.5,4.5))\n",
    "ax1 = fig.add_subplot(1,3,1)\n",
    "ax2 = fig.add_subplot(1,3,2)\n",
    "ax3 = fig.add_subplot(1,3,3)\n",
    "\n",
    "mean = degree.mean(axis='columns')\n",
    "ax1.plot(mean)  \n",
    "ax1.set_title('Total')\n",
    "\n",
    "ax2.plot(degree['Education'])\n",
    "ax2.set_title('Education')\n",
    "\n",
    "ax3.plot(degree['Engineering'])\n",
    "ax3.set_title('Engineering')\n",
    "\n",
    "plt.show()"
   ]
  },
  {
   "cell_type": "markdown",
   "metadata": {},
   "source": [
    "## Median and Mean"
   ]
  },
  {
   "cell_type": "code",
   "execution_count": 138,
   "metadata": {},
   "outputs": [
    {
     "data": {
      "text/html": [
       "<div>\n",
       "<style>\n",
       "    .dataframe thead tr:only-child th {\n",
       "        text-align: right;\n",
       "    }\n",
       "\n",
       "    .dataframe thead th {\n",
       "        text-align: left;\n",
       "    }\n",
       "\n",
       "    .dataframe tbody tr th {\n",
       "        vertical-align: top;\n",
       "    }\n",
       "</style>\n",
       "<table border=\"1\" class=\"dataframe\">\n",
       "  <thead>\n",
       "    <tr style=\"text-align: right;\">\n",
       "      <th></th>\n",
       "      <th>pclass</th>\n",
       "      <th>survived</th>\n",
       "      <th>name</th>\n",
       "      <th>sex</th>\n",
       "      <th>age</th>\n",
       "      <th>sibsp</th>\n",
       "      <th>parch</th>\n",
       "      <th>ticket</th>\n",
       "      <th>fare</th>\n",
       "      <th>cabin</th>\n",
       "      <th>embarked</th>\n",
       "      <th>boat</th>\n",
       "      <th>body</th>\n",
       "      <th>home.dest</th>\n",
       "    </tr>\n",
       "  </thead>\n",
       "  <tbody>\n",
       "    <tr>\n",
       "      <th>0</th>\n",
       "      <td>1</td>\n",
       "      <td>1</td>\n",
       "      <td>Allen, Miss. Elisabeth Walton</td>\n",
       "      <td>female</td>\n",
       "      <td>29.00</td>\n",
       "      <td>0</td>\n",
       "      <td>0</td>\n",
       "      <td>24160</td>\n",
       "      <td>211.3375</td>\n",
       "      <td>B5</td>\n",
       "      <td>S</td>\n",
       "      <td>2</td>\n",
       "      <td>NaN</td>\n",
       "      <td>St Louis, MO</td>\n",
       "    </tr>\n",
       "    <tr>\n",
       "      <th>1</th>\n",
       "      <td>1</td>\n",
       "      <td>1</td>\n",
       "      <td>Allison, Master. Hudson Trevor</td>\n",
       "      <td>male</td>\n",
       "      <td>0.92</td>\n",
       "      <td>1</td>\n",
       "      <td>2</td>\n",
       "      <td>113781</td>\n",
       "      <td>151.5500</td>\n",
       "      <td>C22 C26</td>\n",
       "      <td>S</td>\n",
       "      <td>11</td>\n",
       "      <td>NaN</td>\n",
       "      <td>Montreal, PQ / Chesterville, ON</td>\n",
       "    </tr>\n",
       "    <tr>\n",
       "      <th>2</th>\n",
       "      <td>1</td>\n",
       "      <td>0</td>\n",
       "      <td>Allison, Miss. Helen Loraine</td>\n",
       "      <td>female</td>\n",
       "      <td>2.00</td>\n",
       "      <td>1</td>\n",
       "      <td>2</td>\n",
       "      <td>113781</td>\n",
       "      <td>151.5500</td>\n",
       "      <td>C22 C26</td>\n",
       "      <td>S</td>\n",
       "      <td>NaN</td>\n",
       "      <td>NaN</td>\n",
       "      <td>Montreal, PQ / Chesterville, ON</td>\n",
       "    </tr>\n",
       "    <tr>\n",
       "      <th>3</th>\n",
       "      <td>1</td>\n",
       "      <td>0</td>\n",
       "      <td>Allison, Mr. Hudson Joshua Creighton</td>\n",
       "      <td>male</td>\n",
       "      <td>30.00</td>\n",
       "      <td>1</td>\n",
       "      <td>2</td>\n",
       "      <td>113781</td>\n",
       "      <td>151.5500</td>\n",
       "      <td>C22 C26</td>\n",
       "      <td>S</td>\n",
       "      <td>NaN</td>\n",
       "      <td>135.0</td>\n",
       "      <td>Montreal, PQ / Chesterville, ON</td>\n",
       "    </tr>\n",
       "    <tr>\n",
       "      <th>4</th>\n",
       "      <td>1</td>\n",
       "      <td>0</td>\n",
       "      <td>Allison, Mrs. Hudson J C (Bessie Waldo Daniels)</td>\n",
       "      <td>female</td>\n",
       "      <td>25.00</td>\n",
       "      <td>1</td>\n",
       "      <td>2</td>\n",
       "      <td>113781</td>\n",
       "      <td>151.5500</td>\n",
       "      <td>C22 C26</td>\n",
       "      <td>S</td>\n",
       "      <td>NaN</td>\n",
       "      <td>NaN</td>\n",
       "      <td>Montreal, PQ / Chesterville, ON</td>\n",
       "    </tr>\n",
       "  </tbody>\n",
       "</table>\n",
       "</div>"
      ],
      "text/plain": [
       "   pclass  survived                                             name     sex  \\\n",
       "0       1         1                    Allen, Miss. Elisabeth Walton  female   \n",
       "1       1         1                   Allison, Master. Hudson Trevor    male   \n",
       "2       1         0                     Allison, Miss. Helen Loraine  female   \n",
       "3       1         0             Allison, Mr. Hudson Joshua Creighton    male   \n",
       "4       1         0  Allison, Mrs. Hudson J C (Bessie Waldo Daniels)  female   \n",
       "\n",
       "     age  sibsp  parch  ticket      fare    cabin embarked boat   body  \\\n",
       "0  29.00      0      0   24160  211.3375       B5        S    2    NaN   \n",
       "1   0.92      1      2  113781  151.5500  C22 C26        S   11    NaN   \n",
       "2   2.00      1      2  113781  151.5500  C22 C26        S  NaN    NaN   \n",
       "3  30.00      1      2  113781  151.5500  C22 C26        S  NaN  135.0   \n",
       "4  25.00      1      2  113781  151.5500  C22 C26        S  NaN    NaN   \n",
       "\n",
       "                         home.dest  \n",
       "0                     St Louis, MO  \n",
       "1  Montreal, PQ / Chesterville, ON  \n",
       "2  Montreal, PQ / Chesterville, ON  \n",
       "3  Montreal, PQ / Chesterville, ON  \n",
       "4  Montreal, PQ / Chesterville, ON  "
      ]
     },
     "execution_count": 138,
     "metadata": {},
     "output_type": "execute_result"
    }
   ],
   "source": [
    "titanic = pd.read_csv('C:/Users/leero/Jupyter Notebook Directory/DataCamp/titanic.csv')\n",
    "titanic.head()"
   ]
  },
  {
   "cell_type": "code",
   "execution_count": 139,
   "metadata": {},
   "outputs": [
    {
     "data": {
      "text/html": [
       "<div>\n",
       "<style>\n",
       "    .dataframe thead tr:only-child th {\n",
       "        text-align: right;\n",
       "    }\n",
       "\n",
       "    .dataframe thead th {\n",
       "        text-align: left;\n",
       "    }\n",
       "\n",
       "    .dataframe tbody tr th {\n",
       "        vertical-align: top;\n",
       "    }\n",
       "</style>\n",
       "<table border=\"1\" class=\"dataframe\">\n",
       "  <thead>\n",
       "    <tr style=\"text-align: right;\">\n",
       "      <th></th>\n",
       "      <th>pclass</th>\n",
       "      <th>survived</th>\n",
       "      <th>age</th>\n",
       "      <th>sibsp</th>\n",
       "      <th>parch</th>\n",
       "      <th>fare</th>\n",
       "      <th>body</th>\n",
       "    </tr>\n",
       "  </thead>\n",
       "  <tbody>\n",
       "    <tr>\n",
       "      <th>count</th>\n",
       "      <td>1309.000000</td>\n",
       "      <td>1309.000000</td>\n",
       "      <td>1046.000000</td>\n",
       "      <td>1309.000000</td>\n",
       "      <td>1309.000000</td>\n",
       "      <td>1308.000000</td>\n",
       "      <td>121.000000</td>\n",
       "    </tr>\n",
       "    <tr>\n",
       "      <th>mean</th>\n",
       "      <td>2.294882</td>\n",
       "      <td>0.381971</td>\n",
       "      <td>29.881138</td>\n",
       "      <td>0.498854</td>\n",
       "      <td>0.385027</td>\n",
       "      <td>33.295479</td>\n",
       "      <td>160.809917</td>\n",
       "    </tr>\n",
       "    <tr>\n",
       "      <th>std</th>\n",
       "      <td>0.837836</td>\n",
       "      <td>0.486055</td>\n",
       "      <td>14.413493</td>\n",
       "      <td>1.041658</td>\n",
       "      <td>0.865560</td>\n",
       "      <td>51.758668</td>\n",
       "      <td>97.696922</td>\n",
       "    </tr>\n",
       "    <tr>\n",
       "      <th>min</th>\n",
       "      <td>1.000000</td>\n",
       "      <td>0.000000</td>\n",
       "      <td>0.170000</td>\n",
       "      <td>0.000000</td>\n",
       "      <td>0.000000</td>\n",
       "      <td>0.000000</td>\n",
       "      <td>1.000000</td>\n",
       "    </tr>\n",
       "    <tr>\n",
       "      <th>25%</th>\n",
       "      <td>2.000000</td>\n",
       "      <td>0.000000</td>\n",
       "      <td>21.000000</td>\n",
       "      <td>0.000000</td>\n",
       "      <td>0.000000</td>\n",
       "      <td>7.895800</td>\n",
       "      <td>72.000000</td>\n",
       "    </tr>\n",
       "    <tr>\n",
       "      <th>50%</th>\n",
       "      <td>3.000000</td>\n",
       "      <td>0.000000</td>\n",
       "      <td>28.000000</td>\n",
       "      <td>0.000000</td>\n",
       "      <td>0.000000</td>\n",
       "      <td>14.454200</td>\n",
       "      <td>155.000000</td>\n",
       "    </tr>\n",
       "    <tr>\n",
       "      <th>75%</th>\n",
       "      <td>3.000000</td>\n",
       "      <td>1.000000</td>\n",
       "      <td>39.000000</td>\n",
       "      <td>1.000000</td>\n",
       "      <td>0.000000</td>\n",
       "      <td>31.275000</td>\n",
       "      <td>256.000000</td>\n",
       "    </tr>\n",
       "    <tr>\n",
       "      <th>max</th>\n",
       "      <td>3.000000</td>\n",
       "      <td>1.000000</td>\n",
       "      <td>80.000000</td>\n",
       "      <td>8.000000</td>\n",
       "      <td>9.000000</td>\n",
       "      <td>512.329200</td>\n",
       "      <td>328.000000</td>\n",
       "    </tr>\n",
       "  </tbody>\n",
       "</table>\n",
       "</div>"
      ],
      "text/plain": [
       "            pclass     survived          age        sibsp        parch  \\\n",
       "count  1309.000000  1309.000000  1046.000000  1309.000000  1309.000000   \n",
       "mean      2.294882     0.381971    29.881138     0.498854     0.385027   \n",
       "std       0.837836     0.486055    14.413493     1.041658     0.865560   \n",
       "min       1.000000     0.000000     0.170000     0.000000     0.000000   \n",
       "25%       2.000000     0.000000    21.000000     0.000000     0.000000   \n",
       "50%       3.000000     0.000000    28.000000     0.000000     0.000000   \n",
       "75%       3.000000     1.000000    39.000000     1.000000     0.000000   \n",
       "max       3.000000     1.000000    80.000000     8.000000     9.000000   \n",
       "\n",
       "              fare        body  \n",
       "count  1308.000000  121.000000  \n",
       "mean     33.295479  160.809917  \n",
       "std      51.758668   97.696922  \n",
       "min       0.000000    1.000000  \n",
       "25%       7.895800   72.000000  \n",
       "50%      14.454200  155.000000  \n",
       "75%      31.275000  256.000000  \n",
       "max     512.329200  328.000000  "
      ]
     },
     "execution_count": 139,
     "metadata": {},
     "output_type": "execute_result"
    }
   ],
   "source": [
    "titanic.describe()"
   ]
  },
  {
   "cell_type": "code",
   "execution_count": 61,
   "metadata": {},
   "outputs": [
    {
     "name": "stdout",
     "output_type": "stream",
     "text": [
      "count    1308.000000\n",
      "mean       33.295479\n",
      "std        51.758668\n",
      "min         0.000000\n",
      "25%         7.895800\n",
      "50%        14.454200\n",
      "75%        31.275000\n",
      "max       512.329200\n",
      "Name: fare, dtype: float64\n"
     ]
    },
    {
     "data": {
      "image/png": "[encoded data removed]",
      "text/plain": [
       "<matplotlib.figure.Figure at 0x1775ec092e8>"
      ]
     },
     "metadata": {},
     "output_type": "display_data"
    }
   ],
   "source": [
    "print(titanic.fare.describe())\n",
    "\n",
    "titanic.fare.plot(kind='box')  # Generate a box plot of the fare column\n",
    "plt.show()\n",
    "\n",
    "\n",
    "# Here you can see why the median is a more informative statistic in the presence of outliers"
   ]
  },
  {
   "cell_type": "markdown",
   "metadata": {},
   "source": [
    "## Quantiles"
   ]
  },
  {
   "cell_type": "markdown",
   "metadata": {},
   "source": [
    "Using dataset from gapminder on life expentancies at birth from around the world"
   ]
  },
  {
   "cell_type": "code",
   "execution_count": 63,
   "metadata": {},
   "outputs": [
    {
     "data": {
      "text/html": [
       "<div>\n",
       "<style>\n",
       "    .dataframe thead tr:only-child th {\n",
       "        text-align: right;\n",
       "    }\n",
       "\n",
       "    .dataframe thead th {\n",
       "        text-align: left;\n",
       "    }\n",
       "\n",
       "    .dataframe tbody tr th {\n",
       "        vertical-align: top;\n",
       "    }\n",
       "</style>\n",
       "<table border=\"1\" class=\"dataframe\">\n",
       "  <thead>\n",
       "    <tr style=\"text-align: right;\">\n",
       "      <th></th>\n",
       "      <th>Life expectancy</th>\n",
       "      <th>1800</th>\n",
       "      <th>1801</th>\n",
       "      <th>1802</th>\n",
       "      <th>1803</th>\n",
       "      <th>1804</th>\n",
       "      <th>1805</th>\n",
       "      <th>1806</th>\n",
       "      <th>1807</th>\n",
       "      <th>1808</th>\n",
       "      <th>...</th>\n",
       "      <th>2007</th>\n",
       "      <th>2008</th>\n",
       "      <th>2009</th>\n",
       "      <th>2010</th>\n",
       "      <th>2011</th>\n",
       "      <th>2012</th>\n",
       "      <th>2013</th>\n",
       "      <th>2014</th>\n",
       "      <th>2015</th>\n",
       "      <th>2016</th>\n",
       "    </tr>\n",
       "  </thead>\n",
       "  <tbody>\n",
       "    <tr>\n",
       "      <th>0</th>\n",
       "      <td>Abkhazia</td>\n",
       "      <td>NaN</td>\n",
       "      <td>NaN</td>\n",
       "      <td>NaN</td>\n",
       "      <td>NaN</td>\n",
       "      <td>NaN</td>\n",
       "      <td>NaN</td>\n",
       "      <td>NaN</td>\n",
       "      <td>NaN</td>\n",
       "      <td>NaN</td>\n",
       "      <td>...</td>\n",
       "      <td>NaN</td>\n",
       "      <td>NaN</td>\n",
       "      <td>NaN</td>\n",
       "      <td>NaN</td>\n",
       "      <td>NaN</td>\n",
       "      <td>NaN</td>\n",
       "      <td>NaN</td>\n",
       "      <td>NaN</td>\n",
       "      <td>NaN</td>\n",
       "      <td>NaN</td>\n",
       "    </tr>\n",
       "    <tr>\n",
       "      <th>1</th>\n",
       "      <td>Afghanistan</td>\n",
       "      <td>28.21</td>\n",
       "      <td>28.20</td>\n",
       "      <td>28.19</td>\n",
       "      <td>28.18</td>\n",
       "      <td>28.17</td>\n",
       "      <td>28.16</td>\n",
       "      <td>28.15</td>\n",
       "      <td>28.14</td>\n",
       "      <td>28.13</td>\n",
       "      <td>...</td>\n",
       "      <td>52.4</td>\n",
       "      <td>52.8</td>\n",
       "      <td>53.3</td>\n",
       "      <td>53.6</td>\n",
       "      <td>54.0</td>\n",
       "      <td>54.4</td>\n",
       "      <td>54.8</td>\n",
       "      <td>54.9</td>\n",
       "      <td>53.8</td>\n",
       "      <td>52.72</td>\n",
       "    </tr>\n",
       "    <tr>\n",
       "      <th>2</th>\n",
       "      <td>Akrotiri and Dhekelia</td>\n",
       "      <td>NaN</td>\n",
       "      <td>NaN</td>\n",
       "      <td>NaN</td>\n",
       "      <td>NaN</td>\n",
       "      <td>NaN</td>\n",
       "      <td>NaN</td>\n",
       "      <td>NaN</td>\n",
       "      <td>NaN</td>\n",
       "      <td>NaN</td>\n",
       "      <td>...</td>\n",
       "      <td>NaN</td>\n",
       "      <td>NaN</td>\n",
       "      <td>NaN</td>\n",
       "      <td>NaN</td>\n",
       "      <td>NaN</td>\n",
       "      <td>NaN</td>\n",
       "      <td>NaN</td>\n",
       "      <td>NaN</td>\n",
       "      <td>NaN</td>\n",
       "      <td>NaN</td>\n",
       "    </tr>\n",
       "    <tr>\n",
       "      <th>3</th>\n",
       "      <td>Albania</td>\n",
       "      <td>35.40</td>\n",
       "      <td>35.40</td>\n",
       "      <td>35.40</td>\n",
       "      <td>35.40</td>\n",
       "      <td>35.40</td>\n",
       "      <td>35.40</td>\n",
       "      <td>35.40</td>\n",
       "      <td>35.40</td>\n",
       "      <td>35.40</td>\n",
       "      <td>...</td>\n",
       "      <td>76.6</td>\n",
       "      <td>76.8</td>\n",
       "      <td>77.0</td>\n",
       "      <td>77.2</td>\n",
       "      <td>77.4</td>\n",
       "      <td>77.5</td>\n",
       "      <td>77.7</td>\n",
       "      <td>77.9</td>\n",
       "      <td>78.0</td>\n",
       "      <td>78.10</td>\n",
       "    </tr>\n",
       "    <tr>\n",
       "      <th>4</th>\n",
       "      <td>Algeria</td>\n",
       "      <td>28.82</td>\n",
       "      <td>28.82</td>\n",
       "      <td>28.82</td>\n",
       "      <td>28.82</td>\n",
       "      <td>28.82</td>\n",
       "      <td>28.82</td>\n",
       "      <td>28.82</td>\n",
       "      <td>28.82</td>\n",
       "      <td>28.82</td>\n",
       "      <td>...</td>\n",
       "      <td>75.3</td>\n",
       "      <td>75.5</td>\n",
       "      <td>75.7</td>\n",
       "      <td>76.0</td>\n",
       "      <td>76.1</td>\n",
       "      <td>76.2</td>\n",
       "      <td>76.3</td>\n",
       "      <td>76.3</td>\n",
       "      <td>76.4</td>\n",
       "      <td>76.50</td>\n",
       "    </tr>\n",
       "  </tbody>\n",
       "</table>\n",
       "<p>5 rows × 218 columns</p>\n",
       "</div>"
      ],
      "text/plain": [
       "         Life expectancy   1800   1801   1802   1803   1804   1805   1806  \\\n",
       "0               Abkhazia    NaN    NaN    NaN    NaN    NaN    NaN    NaN   \n",
       "1            Afghanistan  28.21  28.20  28.19  28.18  28.17  28.16  28.15   \n",
       "2  Akrotiri and Dhekelia    NaN    NaN    NaN    NaN    NaN    NaN    NaN   \n",
       "3                Albania  35.40  35.40  35.40  35.40  35.40  35.40  35.40   \n",
       "4                Algeria  28.82  28.82  28.82  28.82  28.82  28.82  28.82   \n",
       "\n",
       "    1807   1808  ...    2007  2008  2009  2010  2011  2012  2013  2014  2015  \\\n",
       "0    NaN    NaN  ...     NaN   NaN   NaN   NaN   NaN   NaN   NaN   NaN   NaN   \n",
       "1  28.14  28.13  ...    52.4  52.8  53.3  53.6  54.0  54.4  54.8  54.9  53.8   \n",
       "2    NaN    NaN  ...     NaN   NaN   NaN   NaN   NaN   NaN   NaN   NaN   NaN   \n",
       "3  35.40  35.40  ...    76.6  76.8  77.0  77.2  77.4  77.5  77.7  77.9  78.0   \n",
       "4  28.82  28.82  ...    75.3  75.5  75.7  76.0  76.1  76.2  76.3  76.3  76.4   \n",
       "\n",
       "    2016  \n",
       "0    NaN  \n",
       "1  52.72  \n",
       "2    NaN  \n",
       "3  78.10  \n",
       "4  76.50  \n",
       "\n",
       "[5 rows x 218 columns]"
      ]
     },
     "execution_count": 63,
     "metadata": {},
     "output_type": "execute_result"
    }
   ],
   "source": [
    "life = pd.read_csv('C:/Users/leero/Jupyter Notebook Directory/DataCamp/life_expectancy_at_birth.csv', index_col=0)\n",
    "life.head()"
   ]
  },
  {
   "cell_type": "code",
   "execution_count": 66,
   "metadata": {},
   "outputs": [
    {
     "name": "stdout",
     "output_type": "stream",
     "text": [
      "208\n",
      "       1800   1801   1802  1803  1804   1805   1806   1807  1808  1809  \\\n",
      "0.05  25.40  25.30  25.20  25.2  25.2  25.40  25.40  25.40  25.3  25.3   \n",
      "0.95  37.92  37.35  38.37  38.0  38.3  38.37  38.37  38.37  38.0  38.0   \n",
      "\n",
      "       ...      2007   2008    2009    2010   2011    2012    2013   2014  \\\n",
      "0.05   ...     53.07  53.60  54.235  54.935  55.97  56.335  56.705  56.87   \n",
      "0.95   ...     80.73  80.93  81.200  81.365  81.60  81.665  81.830  82.00   \n",
      "\n",
      "        2015     2016  \n",
      "0.05  57.855  59.2555  \n",
      "0.95  82.100  82.1650  \n",
      "\n",
      "[2 rows x 217 columns]\n"
     ]
    },
    {
     "data": {
      "image/png": "[encoded data removed]",
      "text/plain": [
       "<matplotlib.figure.Figure at 0x1775ef15e10>"
      ]
     },
     "metadata": {},
     "output_type": "display_data"
    }
   ],
   "source": [
    "\n",
    "print(life['2015'].count())  # Print the number of countries reported in 2015\n",
    "print(life.quantile([0.05, 0.95]))  # Print the 5th and 95th percentiles\n",
    "\n",
    "years = ['1800','1850','1900','1950','2000']  # Generate a box plot\n",
    "life[years].plot(kind='box')\n",
    "plt.show()\n",
    "\n",
    "# It looks like overall, life expectancy has steadily increased since 1900"
   ]
  },
  {
   "cell_type": "markdown",
   "metadata": {},
   "source": [
    "## Standard Deviations"
   ]
  },
  {
   "cell_type": "markdown",
   "metadata": {},
   "source": [
    "Using weather data on Pittsburgh in 2013 from [wunderground](https://www.wunderground.com/history/)"
   ]
  },
  {
   "cell_type": "code",
   "execution_count": 81,
   "metadata": {},
   "outputs": [
    {
     "name": "stdout",
     "output_type": "stream",
     "text": [
      "Temperature    32.354839\n",
      "dtype: float64\n",
      "Temperature    35.0\n",
      "dtype: float64\n",
      "\n",
      "Temperature    13.583196\n",
      "dtype: float64\n",
      "Temperature    7.478859\n",
      "dtype: float64\n"
     ]
    }
   ],
   "source": [
    "january = pd.read_csv('C:/Users/leero/Jupyter Notebook Directory/DataCamp/january.csv', index_col=0)\n",
    "march = pd.read_csv('C:/Users/leero/Jupyter Notebook Directory/DataCamp/march.csv', index_col=0)\n",
    "\n",
    "\n",
    "print(january.mean())  # Print the mean of the January and March data\n",
    "print(march.mean())\n",
    "print()\n",
    "print(january.std())  # Print the standard deviation of the January and March data\n",
    "print(march.std())"
   ]
  },
  {
   "cell_type": "markdown",
   "metadata": {},
   "source": [
    "# Separating Populations"
   ]
  },
  {
   "cell_type": "markdown",
   "metadata": {},
   "source": [
    "Sometimes it is necessary to separate populations to get a more accurate read of the data. Look at the [Iris dataset](https://en.wikipedia.org/wiki/Iris_flower_data_set), for example (obtained [here](https://gist.github.com/curran/a08a1080b88344b0c8a7)), a multivariate dataset dealing with flowers."
   ]
  },
  {
   "cell_type": "code",
   "execution_count": 88,
   "metadata": {},
   "outputs": [
    {
     "data": {
      "text/html": [
       "<div>\n",
       "<style>\n",
       "    .dataframe thead tr:only-child th {\n",
       "        text-align: right;\n",
       "    }\n",
       "\n",
       "    .dataframe thead th {\n",
       "        text-align: left;\n",
       "    }\n",
       "\n",
       "    .dataframe tbody tr th {\n",
       "        vertical-align: top;\n",
       "    }\n",
       "</style>\n",
       "<table border=\"1\" class=\"dataframe\">\n",
       "  <thead>\n",
       "    <tr style=\"text-align: right;\">\n",
       "      <th></th>\n",
       "      <th>sepal_length</th>\n",
       "      <th>sepal_width</th>\n",
       "      <th>petal_length</th>\n",
       "      <th>petal_width</th>\n",
       "      <th>species</th>\n",
       "    </tr>\n",
       "  </thead>\n",
       "  <tbody>\n",
       "    <tr>\n",
       "      <th>0</th>\n",
       "      <td>5.1</td>\n",
       "      <td>3.5</td>\n",
       "      <td>1.4</td>\n",
       "      <td>0.2</td>\n",
       "      <td>setosa</td>\n",
       "    </tr>\n",
       "    <tr>\n",
       "      <th>1</th>\n",
       "      <td>4.9</td>\n",
       "      <td>3.0</td>\n",
       "      <td>1.4</td>\n",
       "      <td>0.2</td>\n",
       "      <td>setosa</td>\n",
       "    </tr>\n",
       "    <tr>\n",
       "      <th>2</th>\n",
       "      <td>4.7</td>\n",
       "      <td>3.2</td>\n",
       "      <td>1.3</td>\n",
       "      <td>0.2</td>\n",
       "      <td>setosa</td>\n",
       "    </tr>\n",
       "    <tr>\n",
       "      <th>3</th>\n",
       "      <td>4.6</td>\n",
       "      <td>3.1</td>\n",
       "      <td>1.5</td>\n",
       "      <td>0.2</td>\n",
       "      <td>setosa</td>\n",
       "    </tr>\n",
       "    <tr>\n",
       "      <th>4</th>\n",
       "      <td>5.0</td>\n",
       "      <td>3.6</td>\n",
       "      <td>1.4</td>\n",
       "      <td>0.2</td>\n",
       "      <td>setosa</td>\n",
       "    </tr>\n",
       "  </tbody>\n",
       "</table>\n",
       "</div>"
      ],
      "text/plain": [
       "   sepal_length  sepal_width  petal_length  petal_width species\n",
       "0           5.1          3.5           1.4          0.2  setosa\n",
       "1           4.9          3.0           1.4          0.2  setosa\n",
       "2           4.7          3.2           1.3          0.2  setosa\n",
       "3           4.6          3.1           1.5          0.2  setosa\n",
       "4           5.0          3.6           1.4          0.2  setosa"
      ]
     },
     "execution_count": 88,
     "metadata": {},
     "output_type": "execute_result"
    }
   ],
   "source": [
    "filepath = 'C:/Users/leero/Jupyter Notebook Directory/DataCamp/'\n",
    "iris = pd.read_csv(filepath+'iris.csv')\n",
    "iris.head()\n",
    "\n",
    "# The species column is categorical, and implies that the different data series within the dataframe may differ by ttype"
   ]
  },
  {
   "cell_type": "code",
   "execution_count": 91,
   "metadata": {},
   "outputs": [
    {
     "name": "stdout",
     "output_type": "stream",
     "text": [
      "count            150\n",
      "unique             3\n",
      "top       versicolor\n",
      "freq              50\n",
      "Name: species, dtype: object\n",
      "\n",
      "['setosa' 'versicolor' 'virginica']\n"
     ]
    }
   ],
   "source": [
    "print(iris['species'].describe())\n",
    "print()\n",
    "print(iris['species'].unique())\n",
    "\n",
    "# There are 150 enties, with 3 unique species (the top occuring species has 50 counts \n",
    "# - but in this case, they are tied - all have 50)\n",
    "\n",
    "# The three species are setosa, versicolor, and virginica"
   ]
  },
  {
   "cell_type": "code",
   "execution_count": 95,
   "metadata": {
    "collapsed": true
   },
   "outputs": [],
   "source": [
    "# We can make new dataframes by extracting the unique values from the species column\n",
    "\n",
    "indices = iris['species'] == 'setosa'  # subset of iris where species = setosa\n",
    "setosa = iris.loc[indices,:]  # New DataFrame composed of this subset\n",
    "\n",
    "indices = iris['species'] == 'versicolor'  \n",
    "versicolor = iris.loc[indices,:] \n",
    "\n",
    "indices = iris['species'] == 'virginica'\n",
    "virginica = iris.loc[indices,:] \n"
   ]
  },
  {
   "cell_type": "code",
   "execution_count": 96,
   "metadata": {},
   "outputs": [
    {
     "name": "stdout",
     "output_type": "stream",
     "text": [
      "['setosa']\n",
      "['versicolor']\n",
      "['virginica']\n"
     ]
    }
   ],
   "source": [
    "\n",
    "# Check what unique values exist in the new dataframes' species columns\n",
    "print(setosa['species'].unique())\n",
    "print(versicolor['species'].unique())\n",
    "print(virginica['species'].unique())\n",
    "\n",
    "# So we can can delete the 'species' column given that each will have only one species in it\n",
    "del setosa['species'], versicolor['species'], virginica['species']\n"
   ]
  },
  {
   "cell_type": "code",
   "execution_count": 98,
   "metadata": {},
   "outputs": [
    {
     "name": "stdout",
     "output_type": "stream",
     "text": [
      "   sepal_length  sepal_width  petal_length  petal_width\n",
      "0           5.1          3.5           1.4          0.2\n",
      "1           4.9          3.0           1.4          0.2\n",
      "\n",
      "    sepal_length  sepal_width  petal_length  petal_width\n",
      "50           7.0          3.2           4.7          1.4\n",
      "51           6.4          3.2           4.5          1.5\n",
      "\n",
      "     sepal_length  sepal_width  petal_length  petal_width\n",
      "100           6.3          3.3           6.0          2.5\n",
      "101           5.8          2.7           5.1          1.9\n"
     ]
    }
   ],
   "source": [
    "# Note that in this case, the indexes are consecutive. Versicolor starts at 50 and stops at 99. \n",
    "# Usually, categories will not be so neatly ordered, and we will learn later how to deal with this\n",
    "\n",
    "print(setosa.head(2))\n",
    "print()\n",
    "print(versicolor.head(2))\n",
    "print()\n",
    "print(virginica.head(2))\n"
   ]
  },
  {
   "cell_type": "code",
   "execution_count": 100,
   "metadata": {},
   "outputs": [
    {
     "data": {
      "image/png": "[encoded data removed]",
      "text/plain": [
       "<matplotlib.figure.Figure at 0x1775ecc91d0>"
      ]
     },
     "metadata": {},
     "output_type": "display_data"
    }
   ],
   "source": [
    "# Plotting a histogram with the different species leads to much overlap and lack of clarity\n",
    "\n",
    "iris.plot(kind= 'hist', bins=50, range=(0,8), alpha=0.3, edgecolor='black')\n",
    "plt.title('Entire iris data set')\n",
    "plt.xlabel('[cm]')\n",
    "plt.show()\n"
   ]
  },
  {
   "cell_type": "code",
   "execution_count": 112,
   "metadata": {},
   "outputs": [
    {
     "data": {
      "image/png": "[encoded data removed]",
      "text/plain": [
       "<matplotlib.figure.Figure at 0x177603f4f28>"
      ]
     },
     "metadata": {},
     "output_type": "display_data"
    },
    {
     "data": {
      "image/png": "[encoded data removed]",
      "text/plain": [
       "<matplotlib.figure.Figure at 0x17760acbb00>"
      ]
     },
     "metadata": {},
     "output_type": "display_data"
    },
    {
     "data": {
      "image/png": "[encoded data removed]",
      "text/plain": [
       "<matplotlib.figure.Figure at 0x1775eb37710>"
      ]
     },
     "metadata": {},
     "output_type": "display_data"
    }
   ],
   "source": [
    "# Doing this separately for the different species increases visual clarity\n",
    "\n",
    "setosa.plot(kind='hist', bins=50, range=(0,8), alpha=0.3)\n",
    "ax1.set_title('Setosa data set')\n",
    "ax1.set_xlabel('[cm]')\n",
    "\n",
    "versicolor.plot(kind='hist', bins=50, range=(0,8), alpha=0.3)\n",
    "plt.title('Versicolor data set')\n",
    "plt.xlabel('[cm]')\n",
    "\n",
    "virginica.plot(kind='hist', bins=50, range=(0,8), alpha=0.3)\n",
    "plt.title('Virginica data set')\n",
    "plt.xlabel('[cm]')\n",
    "plt.show()\n"
   ]
  },
  {
   "cell_type": "code",
   "execution_count": 121,
   "metadata": {},
   "outputs": [
    {
     "name": "stdout",
     "output_type": "stream",
     "text": [
      "       sepal_length  sepal_width  petal_length  petal_width\n",
      "count    150.000000   150.000000    150.000000   150.000000\n",
      "mean       5.843333     3.054000      3.758667     1.198667\n",
      "std        0.828066     0.433594      1.764420     0.763161\n",
      "min        4.300000     2.000000      1.000000     0.100000\n",
      "25%        5.100000     2.800000      1.600000     0.300000\n",
      "50%        5.800000     3.000000      4.350000     1.300000\n",
      "75%        6.400000     3.300000      5.100000     1.800000\n",
      "max        7.900000     4.400000      6.900000     2.500000\n"
     ]
    }
   ],
   "source": [
    "# Describing the entire dataframe versus the individual factors leads to quantiative errors. \n",
    "\n",
    "describe_all = iris.describe()\n",
    "print(describe_all)"
   ]
  },
  {
   "cell_type": "code",
   "execution_count": 122,
   "metadata": {
    "collapsed": true
   },
   "outputs": [],
   "source": [
    "# To demonstrate this, we create a describe for each factor then see how much this differs from the \n",
    "# entire dataset describe\n",
    "\n",
    "describe_setosa = setosa.describe()\n",
    "describe_versicolor = versicolor.describe()\n",
    "describe_virginica = virginica.describe()"
   ]
  },
  {
   "cell_type": "code",
   "execution_count": 131,
   "metadata": {
    "collapsed": true
   },
   "outputs": [],
   "source": [
    "# We calcualte the difference of the descriptive statistics from the entire dataset as a proportion of the \n",
    "# factor statistic. This is (absolute(dataset = factor)*100 / factor)\n",
    "\n",
    "error_setosa = 100 * np.abs(describe_setosa - describe_all)\n",
    "error_setosa = error_setosa/describe_setosa\n",
    "\n",
    "error_versicolor = 100 * np.abs(describe_versicolor - describe_all)\n",
    "error_versicolor = error_versicolor/describe_versicolor\n",
    "\n",
    "error_virginica = 100 * np.abs(describe_virginica - describe_all)\n",
    "error_virginica = error_virginica/describe_virginica\n"
   ]
  },
  {
   "cell_type": "code",
   "execution_count": 132,
   "metadata": {},
   "outputs": [
    {
     "name": "stdout",
     "output_type": "stream",
     "text": [
      "       sepal_length  sepal_width  petal_length  petal_width\n",
      "count    200.000000   200.000000    200.000000   200.000000\n",
      "mean      16.726595    10.649503    156.739526   391.256831\n",
      "std      134.919250    13.796994    916.891608   611.840574\n",
      "min        0.000000    13.043478      0.000000     0.000000\n",
      "25%        6.250000    10.400000     14.285714    50.000000\n",
      "50%       16.000000    11.764706    190.000000   550.000000\n",
      "75%       23.076923    10.204082    223.809524   500.000000\n",
      "max       36.206897     0.000000    263.157895   316.666667\n"
     ]
    }
   ],
   "source": [
    "print(error_setosa)"
   ]
  },
  {
   "cell_type": "markdown",
   "metadata": {},
   "source": [
    "## Separate and Summarise"
   ]
  },
  {
   "cell_type": "markdown",
   "metadata": {},
   "source": [
    "Using the automobiles dataset once again"
   ]
  },
  {
   "cell_type": "code",
   "execution_count": 134,
   "metadata": {
    "collapsed": true
   },
   "outputs": [],
   "source": [
    "import pandas as pd\n",
    "import matplotlib.pyplot as plt\n",
    "import numpy as np\n",
    "\n",
    "auto = pd.read_csv('C:/Users/leero/Jupyter Notebook Directory/DataCamp/auto-mpg.csv')"
   ]
  },
  {
   "cell_type": "code",
   "execution_count": 137,
   "metadata": {},
   "outputs": [
    {
     "name": "stdout",
     "output_type": "stream",
     "text": [
      "Mean difference\n",
      "mpg        -3.412449\n",
      "cyl         0.805612\n",
      "displ      53.100255\n",
      "hp         14.579592\n",
      "weight    394.905612\n",
      "accel      -0.551122\n",
      "yr         -0.387755\n",
      "dtype: float64\n",
      "\n",
      "Standard Deviation difference\n",
      "mpg       -1.364623\n",
      "cyl       -0.049788\n",
      "displ     -6.267657\n",
      "hp         1.406630\n",
      "weight   -54.055870\n",
      "accel     -0.022844\n",
      "yr        -0.023369\n",
      "dtype: float64\n"
     ]
    }
   ],
   "source": [
    "# Compute the global mean and global standard deviation: global_mean, global_std\n",
    "global_mean = auto.mean()\n",
    "global_std = auto.std()\n",
    "\n",
    "us = auto[auto['origin'] == 'US']  # Filter the US population from the origin column: us\n",
    "\n",
    "us_mean = us.mean()  # Compute the US mean and US standard deviation: us_mean, us_std\n",
    "us_std = us.std()\n",
    "\n",
    "print('Mean difference')\n",
    "print(us_mean - global_mean)  # Print the differences\n",
    "print()\n",
    "print('Standard Deviation difference')\n",
    "print(us_std - global_std)\n",
    "\n",
    "# Iit looks like US automobiles weigh more than the global mean (and there is much less variability in that)."
   ]
  },
  {
   "cell_type": "markdown",
   "metadata": {},
   "source": [
    "## Separate and plot"
   ]
  },
  {
   "cell_type": "markdown",
   "metadata": {},
   "source": [
    "Using the titanic dataset once again, we will filter on each population to see what the differetn cabin classs paid for their fares"
   ]
  },
  {
   "cell_type": "code",
   "execution_count": 141,
   "metadata": {
    "collapsed": true
   },
   "outputs": [],
   "source": [
    "titanic = pd.read_csv('C:/Users/leero/Jupyter Notebook Directory/DataCamp/titanic.csv')\n"
   ]
  },
  {
   "cell_type": "code",
   "execution_count": 146,
   "metadata": {},
   "outputs": [
    {
     "data": {
      "image/png": "[encoded data removed]",
      "text/plain": [
       "<matplotlib.figure.Figure at 0x177606ae358>"
      ]
     },
     "metadata": {},
     "output_type": "display_data"
    }
   ],
   "source": [
    "# Display the box plots on 3 separate rows and 1 column\n",
    "fig, axes = plt.subplots(nrows=3, ncols=1)\n",
    "\n",
    "# Generate a box plot of the fare prices for the First passenger class\n",
    "titanic.loc[titanic['pclass'] == 1].plot(ax=axes[0], y='fare', kind='box')\n",
    "\n",
    "# Generate a box plot of the fare prices for the Second passenger class\n",
    "titanic.loc[titanic['pclass'] == 2].plot(ax=axes[1], y='fare', kind='box')\n",
    "\n",
    "# Generate a box plot of the fare prices for the Third passenger class\n",
    "titanic.loc[titanic['pclass'] == 3].plot(ax=axes[2], y='fare', kind='box')\n",
    "\n",
    "# Display the plot\n",
    "plt.show()\n"
   ]
  },
  {
   "cell_type": "code",
   "execution_count": null,
   "metadata": {
    "collapsed": true
   },
   "outputs": [],
   "source": []
  }
 ],
 "metadata": {
  "kernelspec": {
   "display_name": "Python 3",
   "language": "python",
   "name": "python3"
  },
  "language_info": {
   "codemirror_mode": {
    "name": "ipython",
    "version": 3
   },
   "file_extension": ".py",
   "mimetype": "text/x-python",
   "name": "python",
   "nbconvert_exporter": "python",
   "pygments_lexer": "ipython3",
   "version": "3.6.1"
  }
 },
 "nbformat": 4,
 "nbformat_minor": 2
}
