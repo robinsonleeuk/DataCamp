{
 "cells": [
  {
   "cell_type": "markdown",
   "metadata": {},
   "source": [
    "# Importing modules"
   ]
  },
  {
   "cell_type": "code",
   "execution_count": 51,
   "metadata": {
    "collapsed": true
   },
   "outputs": [],
   "source": [
    "import pandas as pd\n",
    "import numpy as np\n",
    "import matplotlib.pyplot as plt\n",
    "import matplotlib.style as style\n",
    "import seaborn as sns\n",
    "from sklearn.neighbors import KNeighborsClassifier\n",
    "from sklearn import datasets"
   ]
  },
  {
   "cell_type": "markdown",
   "metadata": {},
   "source": [
    "# Introduction to regression"
   ]
  },
  {
   "cell_type": "markdown",
   "metadata": {},
   "source": [
    "## Which of the following is a regression problem?\n",
    "\n",
    "Andy introduced regression to you using the Boston housing dataset. But regression models can be used in a variety of contexts to solve a variety of different problems.\n",
    "\n",
    "Given below are four example applications of machine learning. Your job is to pick the one that is best framed as a regression problem.\n",
    "\n",
    "* An e-commerce company using labeled customer data to predict whether or not a customer will purchase a particular item.\n",
    "* A healthcare company using data about cancer tumors (such as their geometric measurements) to predict whether a new tumor is benign or malignant.\n",
    "* A restaurant using review data to ascribe positive or negative sentiment to a given review.\n",
    "* __A bike share company using time and weather data to predict the number of bikes being rented at any given hour.__\n",
    "\n",
    "\n",
    "Great work! The target variable here - the number of bike rentals at any given hour - is quantitative, so this is best framed as a regression problem."
   ]
  },
  {
   "cell_type": "markdown",
   "metadata": {},
   "source": [
    "## Importing data for supervised learning\n",
    "\n",
    "In this chapter, you will work with [Gapminder](https://www.gapminder.org/data/) data that we have consolidated into one CSV file available in the workspace as 'gapminder.csv'. Specifically, your goal will be to use this data to predict the life expectancy in a given country based on features such as the country's GDP, fertility rate, and population. As in Chapter 1, the dataset has been preprocessed.\n",
    "\n",
    "Since the target variable here is quantitative, this is a regression problem. To begin, you will fit a linear regression with just one feature: 'fertility', which is the average number of children a woman in a given country gives birth to. In later exercises, you will use all the features to build regression models.\n",
    "\n",
    "Before that, however, you need to import the data and get it into the form needed by scikit-learn. This involves creating feature and target variable arrays. Furthermore, since you are going to use only one feature to begin with, you need to do some reshaping using NumPy's .reshape() method. Don't worry too much about this reshaping right now, but it is something you will have to do occasionally when working with scikit-learn so it is useful to practice.\n",
    "\n",
    "Note that using -1 as a reshape dimension sets that dimension to adjust to whatever the other dimensions imply. If you have a 2x10x10 3D array, you can reshape as 5x5x8 or just as 5x5x-1, and the -1 will automatically populate as 8, as this is the required dimension for 200 datapoints.  \n",
    "\n",
    "* [.reshape()](https://docs.scipy.org/doc/numpy/reference/generated/numpy.reshape.html#numpy.reshape)"
   ]
  },
  {
   "cell_type": "code",
   "execution_count": 52,
   "metadata": {},
   "outputs": [
    {
     "name": "stdout",
     "output_type": "stream",
     "text": [
      "Dimensions of y before reshaping: (139,)\n",
      "Dimensions of X before reshaping: (139,)\n",
      "Dimensions of y after reshaping: (139, 1)\n",
      "Dimensions of X after reshaping: (139, 1)\n"
     ]
    }
   ],
   "source": [
    "# Read the CSV file into a DataFrame: df\n",
    "df = pd.read_csv('gapminder.csv', index_col=0)\n",
    "\n",
    "# Create arrays for features and target variable\n",
    "y = df['life'].values\n",
    "X = df['fertility'].values\n",
    "\n",
    "# Print the dimensions of X and y before reshaping\n",
    "print(\"Dimensions of y before reshaping: {}\".format(y.shape))\n",
    "print(\"Dimensions of X before reshaping: {}\".format(X.shape))\n",
    "\n",
    "# Reshape X and y\n",
    "y = y.reshape(-1, 1)   # extracts the values of gapminder 'life' as a single column\n",
    "X = X.reshape(-1, 1)   # extracts the values of gapminder 'fertility' as a single column\n",
    "\n",
    "# Print the dimensions of X and y after reshaping\n",
    "print(\"Dimensions of y after reshaping: {}\".format(y.shape))\n",
    "print(\"Dimensions of X after reshaping: {}\".format(X.shape))"
   ]
  },
  {
   "cell_type": "markdown",
   "metadata": {},
   "source": [
    "Great work! Notice the differences in shape before and after applying the .reshape() method. Getting the feature and target variable arrays into the right format for scikit-learn is an important precursor to model building."
   ]
  },
  {
   "attachments": {
    "image.png": {
     "image/png": "[encoded data removed]"
    }
   },
   "cell_type": "markdown",
   "metadata": {},
   "source": [
    "## Exploring the Gapminder data\n",
    "\n",
    "As always, it is important to explore your data before building models. Here, we have constructed a heatmap showing the correlation between the different features of the Gapminder dataset.\n",
    "\n",
    "![image.png](attachment:image.png)\n",
    "\n",
    "\n",
    "Cells that are in green show positive correlation, while cells that are in red show negative correlation. Take a moment to explore this: Which features are positively correlated with life, and which ones are negatively correlated? Does this match your intuition?\n",
    "\n",
    "Then, in the IPython Shell, explore the DataFrame using pandas methods such as .info(), .describe(), .head().\n",
    "\n",
    "In case you are curious, the heatmap was generated using Seaborn's heatmap function and the following line of code, where df.corr() computes the pairwise correlation between columns:\n",
    "\n",
    "    sns.heatmap(df.corr(), square=True, cmap='RdYlGn')\n",
    "\n",
    "Once you have a feel for the data, consider the statements below and select the one that is not true. After this, Hugo will explain the mechanics of linear regression in the next video and you will be on your way building regression models!\n",
    "\n",
    "* [Seaborn's heatmap function](http://seaborn.pydata.org/generated/seaborn.heatmap.html)"
   ]
  },
  {
   "cell_type": "code",
   "execution_count": 53,
   "metadata": {},
   "outputs": [
    {
     "name": "stdout",
     "output_type": "stream",
     "text": [
      "<class 'pandas.core.frame.DataFrame'>\n",
      "Int64Index: 139 entries, 0 to 138\n",
      "Data columns (total 9 columns):\n",
      "BMI_female         139 non-null float64\n",
      "BMI_male           139 non-null float64\n",
      "CO2                139 non-null float64\n",
      "GDP                139 non-null float64\n",
      "HIV                139 non-null float64\n",
      "child_mortality    139 non-null float64\n",
      "fertility          139 non-null float64\n",
      "life               139 non-null float64\n",
      "population         139 non-null float64\n",
      "dtypes: float64(9)\n",
      "memory usage: 10.9 KB\n",
      "None\n",
      "\n",
      "       BMI_female    BMI_male         CO2            GDP         HIV  \\\n",
      "count  139.000000  139.000000  139.000000     139.000000  139.000000   \n",
      "mean   126.701914   24.623054    4.459874   16638.784173    1.915612   \n",
      "std      4.471997    2.209368    6.268349   19207.299083    4.408974   \n",
      "min    117.375500   20.397420    0.008618     588.000000    0.060000   \n",
      "25%    123.232200   22.448135    0.496190    2899.000000    0.100000   \n",
      "50%    126.519600   25.156990    2.223796    9938.000000    0.400000   \n",
      "75%    130.275900   26.497575    6.589156   23278.500000    1.300000   \n",
      "max    135.492000   28.456980   48.702062  126076.000000   25.900000   \n",
      "\n",
      "       child_mortality   fertility        life    population  \n",
      "count       139.000000  139.000000  139.000000  1.390000e+02  \n",
      "mean         45.097122    3.005108   69.602878  3.549977e+07  \n",
      "std          45.724667    1.615354    9.122189  1.095121e+08  \n",
      "min           2.700000    1.280000   45.200000  2.773150e+05  \n",
      "25%           8.100000    1.810000   62.200000  3.752776e+06  \n",
      "50%          24.000000    2.410000   72.000000  9.705130e+06  \n",
      "75%          74.200000    4.095000   76.850000  2.791973e+07  \n",
      "max         192.000000    7.590000   82.600000  1.197070e+09  \n",
      "\n",
      "   BMI_female  BMI_male        CO2      GDP  HIV  child_mortality  fertility  \\\n",
      "0    129.9049  24.59620   3.328945  12314.0  0.1             29.5       2.73   \n",
      "1    130.1247  22.25083   1.474353   7103.0  2.0            192.0       6.43   \n",
      "2    118.8915  27.50170   4.785170  14646.0  0.5             15.4       2.24   \n",
      "3    132.8108  25.35542   1.804106   7383.0  0.1             20.0       1.40   \n",
      "4    117.3755  27.56373  18.016313  41312.0  0.1              5.2       1.96   \n",
      "\n",
      "   life  population  \n",
      "0  75.3  34811059.0  \n",
      "1  58.3  19842251.0  \n",
      "2  75.5  40381860.0  \n",
      "3  72.5   2975029.0  \n",
      "4  81.5  21370348.0  \n"
     ]
    }
   ],
   "source": [
    "print(df.info())\n",
    "print()\n",
    "print(df.describe())\n",
    "print()\n",
    "print(df.head())"
   ]
  },
  {
   "cell_type": "markdown",
   "metadata": {},
   "source": [
    "Possible Answers\n",
    "\n",
    "* The DataFrame has 139 samples (or rows) and 9 columns.\n",
    "* life and fertility are negatively correlated.\n",
    "* The mean of life is 69.602878.\n",
    "* __fertility is of type int64.__\n",
    "* GDP and life are positively correlated.\n",
    "\n",
    "Good job! As seen by using df.info(), fertility, along with all the other columns, is of type float64, not int64."
   ]
  },
  {
   "cell_type": "markdown",
   "metadata": {},
   "source": [
    "# The basics of linear regression"
   ]
  },
  {
   "cell_type": "markdown",
   "metadata": {},
   "source": [
    "## Fit & predict for regression\n",
    "\n",
    "Now, you will fit a linear regression and predict life expectancy using just one feature. You saw Andy do this earlier using the 'RM' feature of the Boston housing dataset. In this exercise, you will use the 'fertility' feature of the Gapminder dataset. Since the goal is to predict life expectancy, the target variable here is 'life'. The array for the target variable has been pre-loaded as y and the array for 'fertility' has been pre-loaded as X_fertility.\n",
    "\n",
    "A scatter plot with 'fertility' on the x-axis and 'life' on the y-axis has been generated. As you can see, there is a strongly negative correlation, so a linear regression should be able to capture this trend. Your job is to fit a linear regression and then predict the life expectancy, overlaying these predicted values on the plot to generate a regression line. You will also compute and print the R<sup>2</sup> score using sckit-learn's .score() method.\n",
    "\n",
    "* [linear_model](http://scikit-learn.org/stable/modules/classes.html#module-sklearn.linear_model)\n",
    "* [LinearRegression](http://scikit-learn.org/stable/modules/generated/sklearn.linear_model.LinearRegression.html)\n",
    "* [np.linspace](https://docs.scipy.org/doc/numpy/reference/generated/numpy.linspace.html)\n",
    "* [.predict()](http://scikit-learn.org/stable/modules/generated/sklearn.linear_model.LinearRegression.html#sklearn.linear_model.LinearRegression.predict)"
   ]
  },
  {
   "cell_type": "code",
   "execution_count": 54,
   "metadata": {
    "collapsed": true
   },
   "outputs": [],
   "source": [
    "X_fertility = np.array([[ 2.73], [ 6.43], [ 2.24], [ 1.4 ], [ 1.96], [ 1.41], [ 1.99], [ 1.89], [ 2.38], [ 1.83], [ 1.42], [ 1.82], [ 2.91], [ 5.27], [ 2.51], [ 3.48], [ 2.86], [ 1.9 ], [ 1.43], [ 6.04], [ 6.48], [ 3.05], [ 5.17], [ 1.68], [ 6.81], [ 1.89], [ 2.43], [ 5.05], [ 5.1 ], [ 1.91], [ 4.91], [ 1.43], [ 1.5 ], [ 1.89], [ 3.76], [ 2.73], [ 2.95], [ 2.32], [ 5.31], [ 5.16], [ 1.62], [ 2.74], [ 1.85], [ 1.97], [ 4.28], [ 5.8 ], [ 1.79], [ 1.37], [ 4.19], [ 1.46], [ 4.12], [ 5.34], [ 5.25], [ 2.74], [ 3.5 ], [ 3.27], [ 1.33], [ 2.12], [ 2.64], [ 2.48], [ 1.88], [ 2. ], [ 2.92], [ 1.39], [ 2.39], [ 1.34], [ 2.51], [ 4.76], [ 1.5 ], [ 1.57], [ 3.34], [ 5.19], [ 1.42], [ 1.63], [ 4.79], [ 5.78], [ 2.05], [ 2.38], [ 6.82], [ 1.38], [ 4.94], [ 1.58], [ 2.35], [ 1.49], [ 2.37], [ 2.44], [ 5.54], [ 2.05], [ 2.9 ], [ 1.77], [ 2.12], [ 2.72], [ 7.59], [ 6.02], [ 1.96], [ 2.89], [ 3.58], [ 2.61], [ 4.07], [ 3.06], [ 2.58], [ 3.26], [ 1.33], [ 1.36], [ 2.2 ], [ 1.34], [ 1.49], [ 5.06], [ 5.11], [ 1.41], [ 5.13], [ 1.28], [ 1.31], [ 1.43], [ 7.06], [ 2.54], [ 1.42], [ 2.32], [ 4.79], [ 2.41], [ 3.7 ], [ 1.92], [ 1.47], [ 3.7 ], [ 5.54], [ 1.48], [ 4.88], [ 1.8 ], [ 2.04], [ 2.15], [ 6.34], [ 1.38], [ 1.87], [ 2.07], [ 2.11], [ 2.46], [ 1.86], [ 5.88], [ 3.85]])\n",
    "Y = np.array([[ 75.3], [ 58.3], [ 75.5], [ 72.5], [ 81.5], [ 80.4], [ 70.6], [ 72.2], [ 68.4], [ 75.3], [ 70.1], [ 79.4], [ 70.7], [ 63.2], [ 67.6], [ 70.9], [ 61.2], [ 73.9], [ 73.2], [ 59.4], [ 57.4], [ 66.2], [ 56.6], [ 80.7], [ 54.8], [ 78.9], [ 75.1], [ 62.6], [ 58.6], [ 79.7], [ 55.9], [ 76.5], [ 77.8], [ 78.7], [ 61. ], [ 74. ], [ 70.1], [ 74.1], [ 56.7], [ 60.4], [ 74. ], [ 65.7], [ 79.4], [ 81. ], [ 57.5], [ 62.2], [ 72.1], [ 80. ], [ 62.7], [ 79.5], [ 70.8], [ 58.3], [ 51.3], [ 63. ], [ 61.7], [ 70.9], [ 73.8], [ 82. ], [ 64.4], [ 69.5], [ 76.9], [ 79.4], [ 80.9], [ 81.4], [ 75.5], [ 82.6], [ 66.1], [ 61.5], [ 72.3], [ 77.6], [ 45.2], [ 61. ], [ 72. ], [ 80.7], [ 63.4], [ 51.4], [ 74.5], [ 78.2], [ 55.8], [ 81.4], [ 63.6], [ 72.1], [ 75.7], [ 69.6], [ 63.2], [ 73.3], [ 55. ], [ 60.8], [ 68.6], [ 80.3], [ 80.2], [ 75.2], [ 59.7], [ 58. ], [ 80.7], [ 74.6], [ 64.1], [ 77.1], [ 58.2], [ 73.6], [ 76.8], [ 69.4], [ 75.3], [ 79.2], [ 80.4], [ 73.4], [ 67.6], [ 62.2], [ 64.3], [ 76.4], [ 55.9], [ 80.9], [ 74.8], [ 78.5], [ 56.7], [ 55. ], [ 81.1], [ 74.3], [ 67.4], [ 69.1], [ 46.1], [ 81.1], [ 81.9], [ 69.5], [ 59.7], [ 74.1], [ 60. ], [ 71.3], [ 76.5], [ 75.1], [ 57.2], [ 68.2], [ 79.5], [ 78.2], [ 76. ], [ 68.7], [ 75.4], [ 52. ], [ 49. ]])"
   ]
  },
  {
   "cell_type": "code",
   "execution_count": 55,
   "metadata": {},
   "outputs": [
    {
     "name": "stdout",
     "output_type": "stream",
     "text": [
      "R-squared: 0.619244216774\n"
     ]
    },
    {
     "data": {
      "image/png": "[encoded data removed]",
      "text/plain": [
       "<matplotlib.figure.Figure at 0x21d3e74fb38>"
      ]
     },
     "metadata": {},
     "output_type": "display_data"
    }
   ],
   "source": [
    "# Import LinearRegression\n",
    "from sklearn.linear_model import LinearRegression\n",
    "\n",
    "# Create the regressor: reg\n",
    "reg = LinearRegression()\n",
    "\n",
    "# Create the prediction space\n",
    "prediction_space = np.linspace(min(X_fertility), max(X_fertility)).reshape(-1,1)\n",
    "\n",
    "# Fit the model to the data\n",
    "reg.fit(X_fertility, y)\n",
    "\n",
    "# Compute predictions over the prediction space: y_pred\n",
    "y_pred = reg.predict(prediction_space)\n",
    "\n",
    "# Print R^2 \n",
    "print(\"R-squared:\",reg.score(X_fertility, y))\n",
    "\n",
    "# Plot regression line\n",
    "plt.scatter(X_fertility, y, edgecolor='k')\n",
    "plt.plot(prediction_space, y_pred, color='black', linewidth=3)\n",
    "plt.show()"
   ]
  },
  {
   "cell_type": "markdown",
   "metadata": {},
   "source": [
    "Fantastic! Notice how the line captures the underlying trend in the data. And the performance is quite decent for this basic regression model with only one feature!"
   ]
  },
  {
   "cell_type": "markdown",
   "metadata": {},
   "source": [
    "## Train/test split for regression\n",
    "\n",
    "As you learned in Chapter 1, train and test sets are vital to ensure that your supervised learning model is able to generalize well to new data. This was true for classification models, and is equally true for linear regression models.\n",
    "\n",
    "In this exercise, you will split the Gapminder dataset into training and testing sets, and then fit and predict a linear regression over all features. In addition to computing the R<sup>2</sup> score, you will also compute the Root Mean Squared Error (RMSE), which is another commonly used metric to evaluate regression models. The feature array X is the whole dataframe (with the target variable, life expectancy, dropped) \n",
    "\n",
    "* [mean_squared_error()](http://scikit-learn.org/stable/modules/generated/sklearn.metrics.mean_squared_error.html)\n",
    "* [np.sqrt()](https://docs.scipy.org/doc/numpy-1.13.0/reference/generated/numpy.sqrt.html)"
   ]
  },
  {
   "cell_type": "code",
   "execution_count": 56,
   "metadata": {},
   "outputs": [
    {
     "name": "stdout",
     "output_type": "stream",
     "text": [
      "R^2: 0.8380468731497019\n",
      "Root Mean Squared Error: 3.247601079969883\n"
     ]
    }
   ],
   "source": [
    "# Import necessary modules\n",
    "from sklearn.linear_model import LinearRegression \n",
    "from sklearn.metrics import mean_squared_error\n",
    "from sklearn.model_selection import train_test_split\n",
    "\n",
    "X = df.drop('life', axis=1).values\n",
    "\n",
    "# Create training and test sets\n",
    "X_train, X_test, y_train, y_test = train_test_split(X, y, test_size = 0.3, random_state=42)\n",
    "\n",
    "# Create the regressor: reg_all\n",
    "reg_all = LinearRegression()\n",
    "\n",
    "# Fit the regressor to the training data\n",
    "reg_all.fit(X_train, y_train)\n",
    "\n",
    "# Predict on the test data: y_pred\n",
    "y_pred = reg_all.predict(X_test)\n",
    "\n",
    "# Compute and print R^2 and RMSE\n",
    "print(\"R^2: {}\".format(reg_all.score(X_test, y_test)))\n",
    "rmse = np.sqrt(mean_squared_error(y_test, y_pred))\n",
    "print(\"Root Mean Squared Error: {}\".format(rmse))"
   ]
  },
  {
   "cell_type": "markdown",
   "metadata": {},
   "source": [
    "Excellent! Using all features has improved the model score. This makes sense, as the model has more information to learn from. However, there is one potential pitfall to this process. Can you spot it? You'll learn about this as well how to better validate your models in the next video!"
   ]
  },
  {
   "cell_type": "markdown",
   "metadata": {},
   "source": [
    "# Cross-validation"
   ]
  },
  {
   "cell_type": "markdown",
   "metadata": {},
   "source": [
    "## 5-fold cross-validation\n",
    "\n",
    "Cross-validation is a vital step in evaluating a model. It maximizes the amount of data that is used to train the model, as during the course of training, the model is not only trained, but also tested on all of the available data.\n",
    "\n",
    "In this exercise, you will practice 5-fold cross validation on the Gapminder data. By default, scikit-learn's cross_val_score() function uses R<sup>2</sup> as the metric of choice for regression. Since you are performing 5-fold cross-validation, the function will return 5 scores. Your job is to compute these 5 scores and then take their average.\n",
    "\n",
    "The DataFrame has been loaded as df and split into the feature/target variable arrays X and y. The modules pandas and numpy have been imported as pd and np, respectively.\n",
    "\n",
    "* [cross_val_Score](http://scikit-learn.org/stable/modules/generated/sklearn.model_selection.cross_val_score.html)"
   ]
  },
  {
   "cell_type": "code",
   "execution_count": 57,
   "metadata": {},
   "outputs": [
    {
     "name": "stdout",
     "output_type": "stream",
     "text": [
      "[ 0.81720569  0.82917058  0.90214134  0.80633989  0.94495637]\n",
      "Average 5-Fold CV Score: 0.8599627722458447\n"
     ]
    }
   ],
   "source": [
    "# Import the necessary modules\n",
    "from sklearn.model_selection import cross_val_score\n",
    "from sklearn.linear_model import LinearRegression \n",
    "\n",
    "# Create a linear regression object: reg\n",
    "reg = LinearRegression()\n",
    "\n",
    "# Compute 5-fold cross-validation scores: cv_scores\n",
    "cv_scores = cross_val_score(reg, X, y, cv=5)\n",
    "\n",
    "# Print the 5-fold cross-validation scores\n",
    "print(cv_scores)\n",
    "\n",
    "print(\"Average 5-Fold CV Score: {}\".format(np.mean(cv_scores)))"
   ]
  },
  {
   "cell_type": "markdown",
   "metadata": {},
   "source": [
    "Great work! Now that you have cross-validated your model, you can more confidently evaluate its predictions."
   ]
  },
  {
   "cell_type": "markdown",
   "metadata": {},
   "source": [
    "## K-Fold CV comparison\n",
    "\n",
    "Cross validation is essential but do not forget that the more folds you use, the more computationally expensive cross-validation becomes. In this exercise, you will explore this for yourself. Your job is to perform 3-fold cross-validation and then 10-fold cross-validation on the Gapminder dataset.\n",
    "\n",
    "In the IPython Shell, you can use %timeit to see how long each 3-fold CV takes compared to 10-fold CV by executing the following cv=3 and cv=10:\n",
    "\n",
    "%timeit cross_val_score(reg, X, y, cv = ____)\n",
    "\n",
    "* [%timeit](https://docs.python.org/3/library/timeit.html)"
   ]
  },
  {
   "cell_type": "code",
   "execution_count": 58,
   "metadata": {},
   "outputs": [
    {
     "name": "stdout",
     "output_type": "stream",
     "text": [
      "0.871871278236\n",
      "0.843612861872\n"
     ]
    }
   ],
   "source": [
    "# Import necessary modules\n",
    "from sklearn.model_selection import cross_val_score\n",
    "from sklearn.linear_model import LinearRegression \n",
    "\n",
    "# Create a linear regression object: reg\n",
    "reg = LinearRegression()\n",
    "\n",
    "# Perform 3-fold CV\n",
    "cvscores_3 = cross_val_score(reg, X, y, cv=3)\n",
    "print(np.mean(cvscores_3))\n",
    "\n",
    "# Perform 10-fold CV\n",
    "cvscores_10 = cross_val_score(reg, X, y, cv=10)\n",
    "print(np.mean(cvscores_10))"
   ]
  },
  {
   "cell_type": "code",
   "execution_count": 59,
   "metadata": {},
   "outputs": [
    {
     "name": "stdout",
     "output_type": "stream",
     "text": [
      "100 loops, best of 3: 3.69 ms per loop\n"
     ]
    }
   ],
   "source": [
    "%timeit cross_val_score(reg, X, y, cv = 3)"
   ]
  },
  {
   "cell_type": "code",
   "execution_count": 60,
   "metadata": {},
   "outputs": [
    {
     "name": "stdout",
     "output_type": "stream",
     "text": [
      "100 loops, best of 3: 12.6 ms per loop\n"
     ]
    }
   ],
   "source": [
    "%timeit cross_val_score(reg, X, y, cv = 10)"
   ]
  },
  {
   "cell_type": "markdown",
   "metadata": {
    "collapsed": true
   },
   "source": [
    "# Regularized regression\n",
    "\n",
    "OLS is the process of minimizing a loss function to get a coefficient, a<sub>i</sub>, for each feature variable. But with lots of coefficients, a model runs the risk of fitting the noise rather than the patterns of the data. It will fit the sample very well, but might be terrible at predicting when it comes to new data. Allowing a model to have multiple features or very high value features can therefore lead to overfitting. \n",
    "\n",
    "Regularizing a regression is the process of penalizing multiple and high coefficients. It amends the loss function that is to be minimized by accounting for the number and size of the coefficients on each independent variable. \n",
    "\n",
    "Also, with many independent variables / features, a model has greater risk of suffering from multicollinearity. This will lead to high variance. Removing this might increase bias, but at the gain of lower variance. Regularizing regressions is a way of highlighting the most important variables and therefore indicating which ones to drop. "
   ]
  },
  {
   "attachments": {
    "image.png": {
     "image/png": "[encoded data removed]"
    }
   },
   "cell_type": "markdown",
   "metadata": {},
   "source": [
    "## Regularization I: Lasso\n",
    "\n",
    "In the video, you saw how Lasso selected out the 'RM' feature as being the most important for predicting Boston house prices, while shrinking the coefficients of certain other features to 0. Its ability to perform feature selection in this way becomes even more useful when you are dealing with data involving thousands of features.\n",
    "\n",
    "Lasso (Least Absolute Shrinkage Selector Operator) regression minimises the absolute error function. The loss function that is minimized in lasso regression is:\n",
    "\n",
    "![image.png](attachment:image.png)\n",
    "\n",
    "Where α is alpha (sometimes called lambda), a parameter we need to choose. The choice of alpha affects the model and is similar to choosing k in k-NN. An alpha of zero returns OLS. A low alpha can lead to overfitting. A very high alpha can lead to underfitting. Alpha controls model complexity and choosing Alpha is part of 'hyperparameter tuning', which will be dealt with in the next module. \n",
    "\n",
    "Lasso regression tends to shrink the less important independent variables of a model to 0, while emphasising the more important ones. This can allow you to report important results to non technical colleagues. \n",
    "\n",
    "In this exercise, you will fit a lasso regression to the Gapminder data you have been working with and plot the coefficients. Just as with the Boston data, you will find that the coefficients of some features are shrunk to 0, with only the most important ones remaining.\n",
    "\n",
    "* [Lasso](http://scikit-learn.org/stable/modules/generated/sklearn.linear_model.Lasso.html)\n",
    "* [lasso.fit](http://scikit-learn.org/stable/modules/generated/sklearn.linear_model.Lasso.html#sklearn.linear_model.Lasso.fit)"
   ]
  },
  {
   "cell_type": "code",
   "execution_count": 61,
   "metadata": {
    "collapsed": true
   },
   "outputs": [],
   "source": [
    "X = pd.read_csv('X.csv', index_col=0)\n",
    "Y = np.array([ 75.3, 58.3, 75.5, 72.5, 81.5, 80.4, 70.6, 72.2, 68.4, 75.3, 70.1, 79.4, 70.7, 63.2, 67.6, 70.9, 61.2, 73.9, 73.2, 59.4, 57.4, 66.2, 56.6, 80.7, 54.8, 78.9, 75.1, 62.6, 58.6, 79.7, 55.9, 76.5, 77.8, 78.7, 61., 74., 70.1, 74.1, 56.7, 60.4, 74., 65.7, 79.4, 81., 57.5, 62.2, 72.1, 80., 62.7, 79.5, 70.8, 58.3, 51.3, 63., 61.7, 70.9, 73.8, 82., 64.4, 69.5, 76.9, 79.4, 80.9, 81.4, 75.5, 82.6, 66.1, 61.5, 72.3, 77.6, 45.2, 61., 72., 80.7, 63.4, 51.4, 74.5, 78.2, 55.8, 81.4, 63.6, 72.1, 75.7, 69.6, 63.2, 73.3, 55., 60.8, 68.6, 80.3, 80.2, 75.2, 59.7, 58., 80.7, 74.6, 64.1, 77.1, 58.2, 73.6, 76.8, 69.4, 75.3, 79.2, 80.4, 73.4, 67.6, 62.2, 64.3, 76.4, 55.9, 80.9, 74.8, 78.5, 56.7, 55., 81.1, 74.3, 67.4, 69.1, 46.1, 81.1, 81.9, 69.5, 59.7, 74.1, 60., 71.3, 76.5, 75.1, 57.2, 68.2, 79.5, 78.2, 76., 68.7, 75.4, 52., 49. ])\n",
    "df_columns = pd.Series(['population', 'fertility', 'HIV', 'CO2', 'BMI_male', 'GDP', 'BMI_female', 'child_mortality'])"
   ]
  },
  {
   "cell_type": "code",
   "execution_count": 62,
   "metadata": {},
   "outputs": [
    {
     "name": "stdout",
     "output_type": "stream",
     "text": [
      "[-0.         -0.         -0.          0.          0.          0.         -0.\n",
      " -0.07087587]\n"
     ]
    },
    {
     "data": {
      "image/png": "[encoded data removed]",
      "text/plain": [
       "<matplotlib.figure.Figure at 0x21d4087d710>"
      ]
     },
     "metadata": {},
     "output_type": "display_data"
    }
   ],
   "source": [
    "# Import Lasso\n",
    "from sklearn.linear_model import Lasso\n",
    "\n",
    "# Instantiate a lasso regressor: lasso\n",
    "lasso = Lasso(alpha=0.4, normalize=True)\n",
    "\n",
    "# Fit the regressor to the data\n",
    "lasso.fit(X, y)\n",
    "\n",
    "# Compute and print the coefficients\n",
    "lasso_coef = lasso.coef_\n",
    "print(lasso_coef)\n",
    "\n",
    "# Plot the coefficients\n",
    "plt.plot(range(len(df_columns)), lasso_coef)\n",
    "plt.xticks(range(len(df_columns)), df_columns.values, rotation=60)\n",
    "plt.margins(0.02)\n",
    "plt.show()"
   ]
  },
  {
   "cell_type": "markdown",
   "metadata": {},
   "source": [
    "Great work! According to the lasso algorithm, it seems like 'child_mortality' is the most important feature when predicting life expectancy"
   ]
  },
  {
   "attachments": {
    "image.png": {
     "image/png": "[encoded data removed]"
    }
   },
   "cell_type": "markdown",
   "metadata": {},
   "source": [
    "## Regularization II: Ridge\n",
    "\n",
    "Lasso is great for feature selection, but when building regression models, Ridge regression should be your first choice.\n",
    "\n",
    "The formula for Ridge is\n",
    "\n",
    "![image.png](attachment:image.png)\n",
    "\n",
    "Notice that for ridge regression, the observations are squared rather than taken as absolute values. Large coefficients are penalized more than in lasso regression. A high alpha means that large coefficients are penalised more heavily. \n",
    "\n",
    "Recall that lasso performs regularization by adding to the loss function a penalty term of the absolute value of each coefficient multiplied by some alpha. This is also known as __L1__ regularization because the regularization term is the __L1__ norm of the coefficients. This is not the only way to regularize, however.\n",
    "\n",
    "If instead you took the sum of the squared values of the coefficients multiplied by some alpha - like in Ridge regression - you would be computing the __L2__ norm. In this exercise, you will practice fitting ridge regression models over a range of different alphas, and plot cross-validated __R<sup>2</sup>__ scores for each, using this 'display_plot' function that we have defined for you, which plots the __R<sup>2</sup>__ score as well as standard error for each alpha.\n",
    "\n",
    "Don't worry about the specifics of the below 'display_plot' function works. The motivation behind this exercise is for you to see how the __R<sup>2</sup>__ score varies with different alphas, and to understand the importance of selecting the right value for alpha. You'll learn how to tune alpha in the next chapter.\n",
    "\n",
    "* [np.logspace()](https://docs.scipy.org/doc/numpy-1.14.0/reference/generated/numpy.logspace.html)"
   ]
  },
  {
   "cell_type": "code",
   "execution_count": 64,
   "metadata": {
    "collapsed": true
   },
   "outputs": [],
   "source": [
    "def display_plot(cv_scores, cv_scores_std):\n",
    "    fig = plt.figure()\n",
    "    ax = fig.add_subplot(1,1,1)\n",
    "    ax.plot(alpha_space, cv_scores)\n",
    "\n",
    "    std_error = cv_scores_std / np.sqrt(10)\n",
    "\n",
    "    ax.fill_between(alpha_space, cv_scores + std_error, cv_scores - std_error, alpha=0.2)\n",
    "    ax.set_ylabel('CV Score +/- Std Error')\n",
    "    ax.set_xlabel('Alpha')\n",
    "    ax.axhline(np.max(cv_scores), linestyle='--', color='.5')\n",
    "    ax.set_xlim([alpha_space[0], alpha_space[-1]])\n",
    "    ax.set_xscale('log')\n",
    "    plt.show()"
   ]
  },
  {
   "cell_type": "code",
   "execution_count": 65,
   "metadata": {},
   "outputs": [
    {
     "data": {
      "image/png": "[encoded data removed]",
      "text/plain": [
       "<matplotlib.figure.Figure at 0x21d3f224748>"
      ]
     },
     "metadata": {},
     "output_type": "display_data"
    }
   ],
   "source": [
    "# Import necessary modules\n",
    "from sklearn.linear_model import Ridge\n",
    "from sklearn.model_selection import cross_val_score\n",
    "\n",
    "# Setup the array of alphas and lists to store scores\n",
    "alpha_space = np.logspace(-4, 0, 50)\n",
    "ridge_scores = []\n",
    "ridge_scores_std = []\n",
    "\n",
    "# Create a ridge regressor: ridge\n",
    "ridge = Ridge(normalize=True)\n",
    "\n",
    "# Compute scores over range of alphas\n",
    "for alpha in alpha_space:\n",
    "\n",
    "    # Specify the alpha value to use: ridge.alpha\n",
    "    ridge.alpha = alpha\n",
    "    \n",
    "    # Perform 10-fold CV: ridge_cv_scores\n",
    "    ridge_cv_scores = cross_val_score(ridge, X, y, cv=10)\n",
    "    \n",
    "    # Append the mean of ridge_cv_scores to ridge_scores\n",
    "    ridge_scores.append(np.mean(ridge_cv_scores))\n",
    "    \n",
    "    # Append the std of ridge_cv_scores to ridge_scores_std\n",
    "    ridge_scores_std.append(np.std(ridge_cv_scores))\n",
    "\n",
    "# Display the plot\n",
    "display_plot(ridge_scores, ridge_scores_std)"
   ]
  },
  {
   "cell_type": "markdown",
   "metadata": {},
   "source": [
    "Great work! Notice how the cross-validation scores change with different alphas. Which alpha should you pick? How can you fine-tune your model? You'll learn all about this in the next chapter!"
   ]
  },
  {
   "cell_type": "markdown",
   "metadata": {},
   "source": [
    "## Appendix: Methods\n",
    "* [.reshape()](https://docs.scipy.org/doc/numpy/reference/generated/numpy.reshape.html#numpy.reshape)\n",
    "* [linear_model](http://scikit-learn.org/stable/modules/classes.html#module-sklearn.linear_model)\n",
    "* [LinearRegression](http://scikit-learn.org/stable/modules/generated/sklearn.linear_model.LinearRegression.html)\n",
    "* [np.linspace](https://docs.scipy.org/doc/numpy/reference/generated/numpy.linspace.html)\n",
    "* [.predict()](http://scikit-learn.org/stable/modules/generated/sklearn.linear_model.LinearRegression.html#sklearn.linear_model.LinearRegression.predict)\n",
    "* [mean_squared_error()](http://scikit-learn.org/stable/modules/generated/sklearn.metrics.mean_squared_error.html)\n",
    "* [np.sqrt()](https://docs.scipy.org/doc/numpy-1.13.0/reference/generated/numpy.sqrt.html)\n",
    "* [cross_val_Score](http://scikit-learn.org/stable/modules/generated/sklearn.model_selection.cross_val_score.html)\n",
    "* [%timeit](https://docs.python.org/3/library/timeit.html)\n",
    "* [Lasso](http://scikit-learn.org/stable/modules/generated/sklearn.linear_model.Lasso.html)\n",
    "* [lasso.fit](http://scikit-learn.org/stable/modules/generated/sklearn.linear_model.Lasso.html#sklearn.linear_model.Lasso.fit)\n",
    "* [np.logspace()](https://docs.scipy.org/doc/numpy-1.14.0/reference/generated/numpy.logspace.html)\n"
   ]
  }
 ],
 "metadata": {
  "kernelspec": {
   "display_name": "Python 3",
   "language": "python",
   "name": "python3"
  },
  "language_info": {
   "codemirror_mode": {
    "name": "ipython",
    "version": 3
   },
   "file_extension": ".py",
   "mimetype": "text/x-python",
   "name": "python",
   "nbconvert_exporter": "python",
   "pygments_lexer": "ipython3",
   "version": "3.6.1"
  }
 },
 "nbformat": 4,
 "nbformat_minor": 2
}
